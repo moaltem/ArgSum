{
 "cells": [
  {
   "cell_type": "markdown",
   "metadata": {},
   "source": [
    "# Argument Match Scorer"
   ]
  },
  {
   "cell_type": "markdown",
   "metadata": {},
   "source": [
    "## Import packages"
   ]
  },
  {
   "cell_type": "code",
   "execution_count": 2,
   "metadata": {},
   "outputs": [
    {
     "name": "stderr",
     "output_type": "stream",
     "text": [
      "/Users/moritz/miniconda3/envs/AM/lib/python3.8/site-packages/transformers/utils/generic.py:311: UserWarning: torch.utils._pytree._register_pytree_node is deprecated. Please use torch.utils._pytree.register_pytree_node instead.\n",
      "  torch.utils._pytree._register_pytree_node(\n",
      "/Users/moritz/miniconda3/envs/AM/lib/python3.8/site-packages/transformers/utils/generic.py:311: UserWarning: torch.utils._pytree._register_pytree_node is deprecated. Please use torch.utils._pytree.register_pytree_node instead.\n",
      "  torch.utils._pytree._register_pytree_node(\n",
      "Xformers is not installed correctly. If you want to use memory_efficient_attention to accelerate training use the following command to install Xformers\n",
      "pip install xformers.\n",
      "loading configuration file config.json from cache at /Users/moritz/.cache/huggingface/hub/models--distilbert-base-uncased/snapshots/12040accade4e8a0f71eabdb258fecc2e7e948be/config.json\n",
      "Model config DistilBertConfig {\n",
      "  \"activation\": \"gelu\",\n",
      "  \"architectures\": [\n",
      "    \"DistilBertForMaskedLM\"\n",
      "  ],\n",
      "  \"attention_dropout\": 0.1,\n",
      "  \"dim\": 768,\n",
      "  \"dropout\": 0.1,\n",
      "  \"hidden_dim\": 3072,\n",
      "  \"initializer_range\": 0.02,\n",
      "  \"max_position_embeddings\": 512,\n",
      "  \"model_type\": \"distilbert\",\n",
      "  \"n_heads\": 12,\n",
      "  \"n_layers\": 6,\n",
      "  \"output_attentions\": true,\n",
      "  \"output_hidden_states\": true,\n",
      "  \"pad_token_id\": 0,\n",
      "  \"qa_dropout\": 0.1,\n",
      "  \"seq_classif_dropout\": 0.2,\n",
      "  \"sinusoidal_pos_embds\": false,\n",
      "  \"tie_weights_\": true,\n",
      "  \"transformers_version\": \"4.33.3\",\n",
      "  \"vocab_size\": 30522\n",
      "}\n",
      "\n",
      "loading file vocab.txt from cache at /Users/moritz/.cache/huggingface/hub/models--distilbert-base-uncased/snapshots/12040accade4e8a0f71eabdb258fecc2e7e948be/vocab.txt\n",
      "loading file added_tokens.json from cache at None\n",
      "loading file special_tokens_map.json from cache at None\n",
      "loading file tokenizer_config.json from cache at /Users/moritz/.cache/huggingface/hub/models--distilbert-base-uncased/snapshots/12040accade4e8a0f71eabdb258fecc2e7e948be/tokenizer_config.json\n",
      "loading configuration file config.json from cache at /Users/moritz/.cache/huggingface/hub/models--distilbert-base-uncased/snapshots/12040accade4e8a0f71eabdb258fecc2e7e948be/config.json\n",
      "Model config DistilBertConfig {\n",
      "  \"_name_or_path\": \"distilbert-base-uncased\",\n",
      "  \"activation\": \"gelu\",\n",
      "  \"architectures\": [\n",
      "    \"DistilBertForMaskedLM\"\n",
      "  ],\n",
      "  \"attention_dropout\": 0.1,\n",
      "  \"dim\": 768,\n",
      "  \"dropout\": 0.1,\n",
      "  \"hidden_dim\": 3072,\n",
      "  \"initializer_range\": 0.02,\n",
      "  \"max_position_embeddings\": 512,\n",
      "  \"model_type\": \"distilbert\",\n",
      "  \"n_heads\": 12,\n",
      "  \"n_layers\": 6,\n",
      "  \"pad_token_id\": 0,\n",
      "  \"qa_dropout\": 0.1,\n",
      "  \"seq_classif_dropout\": 0.2,\n",
      "  \"sinusoidal_pos_embds\": false,\n",
      "  \"tie_weights_\": true,\n",
      "  \"transformers_version\": \"4.33.3\",\n",
      "  \"vocab_size\": 30522\n",
      "}\n",
      "\n",
      "loading weights file model.safetensors from cache at /Users/moritz/.cache/huggingface/hub/models--distilbert-base-uncased/snapshots/12040accade4e8a0f71eabdb258fecc2e7e948be/model.safetensors\n",
      "Some weights of the model checkpoint at distilbert-base-uncased were not used when initializing DistilBertModel: ['vocab_layer_norm.weight', 'vocab_layer_norm.bias', 'vocab_transform.weight', 'vocab_projector.bias', 'vocab_transform.bias']\n",
      "- This IS expected if you are initializing DistilBertModel from the checkpoint of a model trained on another task or with another architecture (e.g. initializing a BertForSequenceClassification model from a BertForPreTraining model).\n",
      "- This IS NOT expected if you are initializing DistilBertModel from the checkpoint of a model that you expect to be exactly identical (initializing a BertForSequenceClassification model from a BertForSequenceClassification model).\n",
      "All the weights of DistilBertModel were initialized from the model checkpoint at distilbert-base-uncased.\n",
      "If your task is similar to the task the model of the checkpoint was trained on, you can already use DistilBertModel for predictions without further training.\n"
     ]
    }
   ],
   "source": [
    "import pandas as pd\n",
    "import numpy as np\n",
    "import torch\n",
    "from sentence_transformers import SentenceTransformer\n",
    "from argsum import train_cross_match_scorer, train_bi_match_scorer_smatchtopr, train_bi_match_scorer_barh, eval_match_scorer\n",
    "from argsum import load_test_df"
   ]
  },
  {
   "cell_type": "markdown",
   "metadata": {},
   "source": [
    "## Load datasets"
   ]
  },
  {
   "cell_type": "code",
   "execution_count": 3,
   "metadata": {},
   "outputs": [],
   "source": [
    "# Load ArgKP-2021 \n",
    "ArgKP21 = pd.read_csv('data/ArgKP-2021/dataset_splits_scores.csv')\n",
    "ArgKP21_train = ArgKP21[ArgKP21['set'] == 'train']\n",
    "ArgKP21_dev = ArgKP21[ArgKP21['set'] == 'dev']\n",
    "ArgKP21_test_processed = load_test_df('ArgKP21')"
   ]
  },
  {
   "cell_type": "markdown",
   "metadata": {},
   "source": [
    "## Train cross-encoder match scorer"
   ]
  },
  {
   "cell_type": "markdown",
   "metadata": {},
   "source": [
    "###  Without pooling layer"
   ]
  },
  {
   "cell_type": "markdown",
   "metadata": {},
   "source": [
    "**RoBERTa**"
   ]
  },
  {
   "cell_type": "code",
   "execution_count": null,
   "metadata": {},
   "outputs": [
    {
     "data": {
      "application/vnd.jupyter.widget-view+json": {
       "model_id": "680765bd1e134e9eaaa7bd3d3d446366",
       "version_major": 2,
       "version_minor": 0
      },
      "text/plain": [
       "Map:   0%|          | 0/20635 [00:00<?, ? examples/s]"
      ]
     },
     "metadata": {},
     "output_type": "display_data"
    },
    {
     "data": {
      "application/vnd.jupyter.widget-view+json": {
       "model_id": "5afbe5677a524d1b9211cdfec8e09b76",
       "version_major": 2,
       "version_minor": 0
      },
      "text/plain": [
       "Map:   0%|          | 0/3458 [00:00<?, ? examples/s]"
      ]
     },
     "metadata": {},
     "output_type": "display_data"
    },
    {
     "data": {
      "application/vnd.jupyter.widget-view+json": {
       "model_id": "b7ddd2970726451a92a55a9985451afb",
       "version_major": 2,
       "version_minor": 0
      },
      "text/plain": [
       "Casting the dataset:   0%|          | 0/20635 [00:00<?, ? examples/s]"
      ]
     },
     "metadata": {},
     "output_type": "display_data"
    },
    {
     "data": {
      "application/vnd.jupyter.widget-view+json": {
       "model_id": "7635fd5881ea4a549b8d56527a0f1f47",
       "version_major": 2,
       "version_minor": 0
      },
      "text/plain": [
       "Casting the dataset:   0%|          | 0/3458 [00:00<?, ? examples/s]"
      ]
     },
     "metadata": {},
     "output_type": "display_data"
    },
    {
     "data": {
      "application/vnd.jupyter.widget-view+json": {
       "model_id": "1dc4b1d8904d4cd2b0d0171aaf590f5c",
       "version_major": 2,
       "version_minor": 0
      },
      "text/plain": [
       "  0%|          | 0/5805 [00:00<?, ?it/s]"
      ]
     },
     "metadata": {},
     "output_type": "display_data"
    },
    {
     "name": "stderr",
     "output_type": "stream",
     "text": [
      "You're using a RobertaTokenizerFast tokenizer. Please note that with a fast tokenizer, using the `__call__` method is faster than using a method to encode the text followed by a call to the `pad` method to get a padded encoding.\n"
     ]
    },
    {
     "name": "stdout",
     "output_type": "stream",
     "text": [
      "{'loss': 0.5532, 'learning_rate': 4.8277347114556425e-06, 'epoch': 0.31}\n"
     ]
    },
    {
     "data": {
      "application/vnd.jupyter.widget-view+json": {
       "model_id": "21c2b9f4e75a4999ae0df2eb2b7646cc",
       "version_major": 2,
       "version_minor": 0
      },
      "text/plain": [
       "  0%|          | 0/109 [00:00<?, ?it/s]"
      ]
     },
     "metadata": {},
     "output_type": "display_data"
    },
    {
     "name": "stdout",
     "output_type": "stream",
     "text": [
      "{'eval_loss': 0.5300374627113342, 'eval_brier': 0.17227577981083322, 'eval_runtime': 41.2239, 'eval_samples_per_second': 83.883, 'eval_steps_per_second': 2.644, 'epoch': 0.31}\n",
      "{'loss': 0.4084, 'learning_rate': 4.655469422911284e-06, 'epoch': 0.62}\n"
     ]
    },
    {
     "data": {
      "application/vnd.jupyter.widget-view+json": {
       "model_id": "75ee0e7dd30c4d758800951e5112b57f",
       "version_major": 2,
       "version_minor": 0
      },
      "text/plain": [
       "  0%|          | 0/109 [00:00<?, ?it/s]"
      ]
     },
     "metadata": {},
     "output_type": "display_data"
    },
    {
     "name": "stdout",
     "output_type": "stream",
     "text": [
      "{'eval_loss': 0.3066332936286926, 'eval_brier': 0.09667573261146356, 'eval_runtime': 46.434, 'eval_samples_per_second': 74.471, 'eval_steps_per_second': 2.347, 'epoch': 0.62}\n",
      "{'loss': 0.2161, 'learning_rate': 4.483204134366925e-06, 'epoch': 0.93}\n"
     ]
    },
    {
     "data": {
      "application/vnd.jupyter.widget-view+json": {
       "model_id": "00935ec8e03c44ec83d23794cfd2038b",
       "version_major": 2,
       "version_minor": 0
      },
      "text/plain": [
       "  0%|          | 0/109 [00:00<?, ?it/s]"
      ]
     },
     "metadata": {},
     "output_type": "display_data"
    },
    {
     "name": "stdout",
     "output_type": "stream",
     "text": [
      "{'eval_loss': 0.258304238319397, 'eval_brier': 0.07613548971961044, 'eval_runtime': 46.4128, 'eval_samples_per_second': 74.505, 'eval_steps_per_second': 2.348, 'epoch': 0.93}\n",
      "{'loss': 0.1505, 'learning_rate': 4.310938845822567e-06, 'epoch': 1.24}\n"
     ]
    },
    {
     "data": {
      "application/vnd.jupyter.widget-view+json": {
       "model_id": "b71a6e25cc2f4f0cafa1dc23fde7eb4a",
       "version_major": 2,
       "version_minor": 0
      },
      "text/plain": [
       "  0%|          | 0/109 [00:00<?, ?it/s]"
      ]
     },
     "metadata": {},
     "output_type": "display_data"
    },
    {
     "name": "stdout",
     "output_type": "stream",
     "text": [
      "{'eval_loss': 0.30876094102859497, 'eval_brier': 0.08066315061542918, 'eval_runtime': 44.2644, 'eval_samples_per_second': 78.121, 'eval_steps_per_second': 2.462, 'epoch': 1.24}\n",
      "{'loss': 0.1502, 'learning_rate': 4.138673557278209e-06, 'epoch': 1.55}\n"
     ]
    },
    {
     "data": {
      "application/vnd.jupyter.widget-view+json": {
       "model_id": "1865cdfa6e1f4a349dfc6c15dc333b27",
       "version_major": 2,
       "version_minor": 0
      },
      "text/plain": [
       "  0%|          | 0/109 [00:00<?, ?it/s]"
      ]
     },
     "metadata": {},
     "output_type": "display_data"
    },
    {
     "name": "stdout",
     "output_type": "stream",
     "text": [
      "{'eval_loss': 0.3190477788448334, 'eval_brier': 0.08851419628716341, 'eval_runtime': 46.7842, 'eval_samples_per_second': 73.914, 'eval_steps_per_second': 2.33, 'epoch': 1.55}\n",
      "{'loss': 0.1362, 'learning_rate': 3.9664082687338505e-06, 'epoch': 1.86}\n"
     ]
    },
    {
     "data": {
      "application/vnd.jupyter.widget-view+json": {
       "model_id": "ed75bc8788ea42eebbb8ac387551c380",
       "version_major": 2,
       "version_minor": 0
      },
      "text/plain": [
       "  0%|          | 0/109 [00:00<?, ?it/s]"
      ]
     },
     "metadata": {},
     "output_type": "display_data"
    },
    {
     "name": "stdout",
     "output_type": "stream",
     "text": [
      "{'eval_loss': 0.19436247646808624, 'eval_brier': 0.05474342580957402, 'eval_runtime': 45.5038, 'eval_samples_per_second': 75.994, 'eval_steps_per_second': 2.395, 'epoch': 1.86}\n",
      "{'loss': 0.1073, 'learning_rate': 3.7941429801894917e-06, 'epoch': 2.17}\n"
     ]
    },
    {
     "data": {
      "application/vnd.jupyter.widget-view+json": {
       "model_id": "ac7709d11a3b473ba8881e31dfea9721",
       "version_major": 2,
       "version_minor": 0
      },
      "text/plain": [
       "  0%|          | 0/109 [00:00<?, ?it/s]"
      ]
     },
     "metadata": {},
     "output_type": "display_data"
    },
    {
     "name": "stdout",
     "output_type": "stream",
     "text": [
      "{'eval_loss': 0.668833315372467, 'eval_brier': 0.1314538050388751, 'eval_runtime': 46.0511, 'eval_samples_per_second': 75.09, 'eval_steps_per_second': 2.367, 'epoch': 2.17}\n",
      "{'loss': 0.1039, 'learning_rate': 3.621877691645134e-06, 'epoch': 2.48}\n"
     ]
    },
    {
     "data": {
      "application/vnd.jupyter.widget-view+json": {
       "model_id": "d689f9a3be364f52a62074bf5bb84a46",
       "version_major": 2,
       "version_minor": 0
      },
      "text/plain": [
       "  0%|          | 0/109 [00:00<?, ?it/s]"
      ]
     },
     "metadata": {},
     "output_type": "display_data"
    },
    {
     "name": "stdout",
     "output_type": "stream",
     "text": [
      "{'eval_loss': 0.7383248805999756, 'eval_brier': 0.1361343597447908, 'eval_runtime': 47.1803, 'eval_samples_per_second': 73.293, 'eval_steps_per_second': 2.31, 'epoch': 2.48}\n",
      "{'loss': 0.1005, 'learning_rate': 3.4496124031007755e-06, 'epoch': 2.79}\n"
     ]
    },
    {
     "data": {
      "application/vnd.jupyter.widget-view+json": {
       "model_id": "ce0dc7535eed40d49b91ed499c04031c",
       "version_major": 2,
       "version_minor": 0
      },
      "text/plain": [
       "  0%|          | 0/109 [00:00<?, ?it/s]"
      ]
     },
     "metadata": {},
     "output_type": "display_data"
    },
    {
     "name": "stdout",
     "output_type": "stream",
     "text": [
      "{'eval_loss': 0.4653273820877075, 'eval_brier': 0.09260138537461322, 'eval_runtime': 46.8383, 'eval_samples_per_second': 73.828, 'eval_steps_per_second': 2.327, 'epoch': 2.79}\n",
      "{'train_runtime': 3025.0998, 'train_samples_per_second': 61.391, 'train_steps_per_second': 1.919, 'train_loss': 0.21403282165527343, 'epoch': 2.79}\n"
     ]
    }
   ],
   "source": [
    "model_path = 'roberta-large'\n",
    "train_cross_match_scorer(model_path, ArgKP21_train, ArgKP21_dev, seed = 384, \n",
    "                         pooling = False, include_topic = False, augmented_data = False)"
   ]
  },
  {
   "cell_type": "code",
   "execution_count": 3,
   "metadata": {},
   "outputs": [
    {
     "name": "stderr",
     "output_type": "stream",
     "text": [
      "                                                                 2.50it/s]\r"
     ]
    },
    {
     "data": {
      "text/html": [
       "<div>\n",
       "<style scoped>\n",
       "    .dataframe tbody tr th:only-of-type {\n",
       "        vertical-align: middle;\n",
       "    }\n",
       "\n",
       "    .dataframe tbody tr th {\n",
       "        vertical-align: top;\n",
       "    }\n",
       "\n",
       "    .dataframe thead th {\n",
       "        text-align: right;\n",
       "    }\n",
       "</style>\n",
       "<table border=\"1\" class=\"dataframe\">\n",
       "  <thead>\n",
       "    <tr style=\"text-align: right;\">\n",
       "      <th></th>\n",
       "      <th>acc</th>\n",
       "      <th>f1</th>\n",
       "      <th>runtime</th>\n",
       "      <th>topic</th>\n",
       "      <th>stance</th>\n",
       "    </tr>\n",
       "  </thead>\n",
       "  <tbody>\n",
       "    <tr>\n",
       "      <th>0</th>\n",
       "      <td>0.623</td>\n",
       "      <td>0.600</td>\n",
       "      <td>3.646</td>\n",
       "      <td>Routine child vaccinations should be mandatory</td>\n",
       "      <td>1</td>\n",
       "    </tr>\n",
       "    <tr>\n",
       "      <th>1</th>\n",
       "      <td>0.897</td>\n",
       "      <td>0.900</td>\n",
       "      <td>3.480</td>\n",
       "      <td>Routine child vaccinations should be mandatory</td>\n",
       "      <td>-1</td>\n",
       "    </tr>\n",
       "    <tr>\n",
       "      <th>2</th>\n",
       "      <td>0.729</td>\n",
       "      <td>0.725</td>\n",
       "      <td>3.702</td>\n",
       "      <td>Social media platforms should be regulated by ...</td>\n",
       "      <td>1</td>\n",
       "    </tr>\n",
       "    <tr>\n",
       "      <th>3</th>\n",
       "      <td>0.958</td>\n",
       "      <td>0.957</td>\n",
       "      <td>4.529</td>\n",
       "      <td>Social media platforms should be regulated by ...</td>\n",
       "      <td>-1</td>\n",
       "    </tr>\n",
       "    <tr>\n",
       "      <th>4</th>\n",
       "      <td>0.954</td>\n",
       "      <td>0.952</td>\n",
       "      <td>7.663</td>\n",
       "      <td>The USA is a good country to live in</td>\n",
       "      <td>1</td>\n",
       "    </tr>\n",
       "    <tr>\n",
       "      <th>5</th>\n",
       "      <td>0.822</td>\n",
       "      <td>0.814</td>\n",
       "      <td>4.081</td>\n",
       "      <td>The USA is a good country to live in</td>\n",
       "      <td>-1</td>\n",
       "    </tr>\n",
       "    <tr>\n",
       "      <th>6</th>\n",
       "      <td>0.830</td>\n",
       "      <td>0.825</td>\n",
       "      <td>27.102</td>\n",
       "      <td>All</td>\n",
       "      <td>All</td>\n",
       "    </tr>\n",
       "  </tbody>\n",
       "</table>\n",
       "</div>"
      ],
      "text/plain": [
       "     acc     f1  runtime                                              topic  \\\n",
       "0  0.623  0.600    3.646     Routine child vaccinations should be mandatory   \n",
       "1  0.897  0.900    3.480     Routine child vaccinations should be mandatory   \n",
       "2  0.729  0.725    3.702  Social media platforms should be regulated by ...   \n",
       "3  0.958  0.957    4.529  Social media platforms should be regulated by ...   \n",
       "4  0.954  0.952    7.663               The USA is a good country to live in   \n",
       "5  0.822  0.814    4.081               The USA is a good country to live in   \n",
       "6  0.830  0.825   27.102                                                All   \n",
       "\n",
       "  stance  \n",
       "0      1  \n",
       "1     -1  \n",
       "2      1  \n",
       "3     -1  \n",
       "4      1  \n",
       "5     -1  \n",
       "6    All  "
      ]
     },
     "execution_count": 3,
     "metadata": {},
     "output_type": "execute_result"
    }
   ],
   "source": [
    "cross_roberta_np = torch.load('models/match_scorer/cross_encoder/roberta_np/2024-Feb-20_08-20-28/best_model.pt')\n",
    "cross_roberta_np_results = eval_match_scorer(model = cross_roberta_np, df_test = ArgKP21_test_processed, include_topic = False, output_dir = None)\n",
    "cross_roberta_np_results.round(3)"
   ]
  },
  {
   "cell_type": "markdown",
   "metadata": {},
   "source": [
    "**DeBERTa**"
   ]
  },
  {
   "cell_type": "markdown",
   "metadata": {},
   "source": [
    "[1] [Welcome to the Real World: Efficient, Incremental and Scalable Key Point Analysis](https://aclanthology.org/2023.emnlp-industry.46.pdf) (Eden et al., 2023)\n",
    "\n",
    "- Lower learning rate than described in [1] (5e-6) because of overfitting"
   ]
  },
  {
   "cell_type": "code",
   "execution_count": null,
   "metadata": {},
   "outputs": [],
   "source": [
    "model_path = 'microsoft/deberta-v3-large'\n",
    "train_cross_match_scorer(model_path, ArgKP21_train, ArgKP21_dev, num_train_epochs = 6, learning_rate = 2e-6 ,seed = 467, \n",
    "                         pooling = False, include_topic = False, augmented_data = False)"
   ]
  },
  {
   "cell_type": "code",
   "execution_count": 10,
   "metadata": {},
   "outputs": [
    {
     "name": "stderr",
     "output_type": "stream",
     "text": [
      "                                                                 1.76it/s]\r"
     ]
    },
    {
     "data": {
      "text/html": [
       "<div>\n",
       "<style scoped>\n",
       "    .dataframe tbody tr th:only-of-type {\n",
       "        vertical-align: middle;\n",
       "    }\n",
       "\n",
       "    .dataframe tbody tr th {\n",
       "        vertical-align: top;\n",
       "    }\n",
       "\n",
       "    .dataframe thead th {\n",
       "        text-align: right;\n",
       "    }\n",
       "</style>\n",
       "<table border=\"1\" class=\"dataframe\">\n",
       "  <thead>\n",
       "    <tr style=\"text-align: right;\">\n",
       "      <th></th>\n",
       "      <th>acc</th>\n",
       "      <th>f1</th>\n",
       "      <th>runtime</th>\n",
       "      <th>topic</th>\n",
       "      <th>stance</th>\n",
       "    </tr>\n",
       "  </thead>\n",
       "  <tbody>\n",
       "    <tr>\n",
       "      <th>0</th>\n",
       "      <td>0.725</td>\n",
       "      <td>0.739</td>\n",
       "      <td>6.311</td>\n",
       "      <td>Routine child vaccinations should be mandatory</td>\n",
       "      <td>1</td>\n",
       "    </tr>\n",
       "    <tr>\n",
       "      <th>1</th>\n",
       "      <td>0.874</td>\n",
       "      <td>0.874</td>\n",
       "      <td>6.124</td>\n",
       "      <td>Routine child vaccinations should be mandatory</td>\n",
       "      <td>-1</td>\n",
       "    </tr>\n",
       "    <tr>\n",
       "      <th>2</th>\n",
       "      <td>0.800</td>\n",
       "      <td>0.800</td>\n",
       "      <td>6.293</td>\n",
       "      <td>Social media platforms should be regulated by ...</td>\n",
       "      <td>1</td>\n",
       "    </tr>\n",
       "    <tr>\n",
       "      <th>3</th>\n",
       "      <td>0.901</td>\n",
       "      <td>0.895</td>\n",
       "      <td>6.697</td>\n",
       "      <td>Social media platforms should be regulated by ...</td>\n",
       "      <td>-1</td>\n",
       "    </tr>\n",
       "    <tr>\n",
       "      <th>4</th>\n",
       "      <td>0.907</td>\n",
       "      <td>0.914</td>\n",
       "      <td>12.046</td>\n",
       "      <td>The USA is a good country to live in</td>\n",
       "      <td>1</td>\n",
       "    </tr>\n",
       "    <tr>\n",
       "      <th>5</th>\n",
       "      <td>0.956</td>\n",
       "      <td>0.954</td>\n",
       "      <td>6.344</td>\n",
       "      <td>The USA is a good country to live in</td>\n",
       "      <td>-1</td>\n",
       "    </tr>\n",
       "    <tr>\n",
       "      <th>6</th>\n",
       "      <td>0.860</td>\n",
       "      <td>0.863</td>\n",
       "      <td>43.816</td>\n",
       "      <td>All</td>\n",
       "      <td>All</td>\n",
       "    </tr>\n",
       "  </tbody>\n",
       "</table>\n",
       "</div>"
      ],
      "text/plain": [
       "     acc     f1  runtime                                              topic  \\\n",
       "0  0.725  0.739    6.311     Routine child vaccinations should be mandatory   \n",
       "1  0.874  0.874    6.124     Routine child vaccinations should be mandatory   \n",
       "2  0.800  0.800    6.293  Social media platforms should be regulated by ...   \n",
       "3  0.901  0.895    6.697  Social media platforms should be regulated by ...   \n",
       "4  0.907  0.914   12.046               The USA is a good country to live in   \n",
       "5  0.956  0.954    6.344               The USA is a good country to live in   \n",
       "6  0.860  0.863   43.816                                                All   \n",
       "\n",
       "  stance  \n",
       "0      1  \n",
       "1     -1  \n",
       "2      1  \n",
       "3     -1  \n",
       "4      1  \n",
       "5     -1  \n",
       "6    All  "
      ]
     },
     "execution_count": 10,
     "metadata": {},
     "output_type": "execute_result"
    }
   ],
   "source": [
    "cross_deberta_np = torch.load('models/match_scorer/cross_encoder/deberta-v2_np/2024-Feb-20_13-41-02/best_model.pt')\n",
    "cross_deberta_np_results = eval_match_scorer(model = cross_deberta_np, df_test = ArgKP21_test_processed, include_topic = False, output_dir = None)\n",
    "cross_deberta_np_results.round(3)"
   ]
  },
  {
   "cell_type": "code",
   "execution_count": 4,
   "metadata": {},
   "outputs": [
    {
     "name": "stdout",
     "output_type": "stream",
     "text": [
      "{'loss': 0.4046, 'learning_rate': 4.741602067183463e-06, 'epoch': 0.31}\n",
      "{'eval_loss': 0.29231786727905273, 'eval_brier': 0.0838879148310721, 'eval_runtime': 79.1499, 'eval_samples_per_second': 43.689, 'eval_steps_per_second': 1.377, 'epoch': 0.31}\n",
      "{'loss': 0.1637, 'learning_rate': 4.483204134366925e-06, 'epoch': 0.62}\n",
      "{'eval_loss': 0.42037755250930786, 'eval_brier': 0.10657553355533114, 'eval_runtime': 132.4956, 'eval_samples_per_second': 26.099, 'eval_steps_per_second': 0.823, 'epoch': 0.62}\n",
      "{'loss': 0.1341, 'learning_rate': 4.224806201550387e-06, 'epoch': 0.93}\n",
      "{'eval_loss': 0.3639554977416992, 'eval_brier': 0.09548624473300295, 'eval_runtime': 77.3629, 'eval_samples_per_second': 44.698, 'eval_steps_per_second': 1.409, 'epoch': 0.93}\n",
      "{'loss': 0.0954, 'learning_rate': 3.9664082687338505e-06, 'epoch': 1.24}\n",
      "{'eval_loss': 0.47133973240852356, 'eval_brier': 0.09372821669532241, 'eval_runtime': 69.9801, 'eval_samples_per_second': 49.414, 'eval_steps_per_second': 1.558, 'epoch': 1.24}\n",
      "{'train_runtime': 2173.8305, 'train_samples_per_second': 56.955, 'train_steps_per_second': 1.78, 'train_loss': 0.19942978143692017, 'epoch': 1.24}\n"
     ]
    }
   ],
   "source": [
    "model_path = 'deberta-v3-large'\n",
    "train_cross_match_scorer(model_path, ArgKP21_train, ArgKP21_dev, num_train_epochs = 6, learning_rate = 5e-6 ,seed = 467, \n",
    "                         pooling = False, include_topic = False, augmented_data = False)"
   ]
  },
  {
   "cell_type": "code",
   "execution_count": 13,
   "metadata": {},
   "outputs": [
    {
     "name": "stderr",
     "output_type": "stream",
     "text": [
      "                                                                 1.75it/s]\r"
     ]
    },
    {
     "data": {
      "text/html": [
       "<div>\n",
       "<style scoped>\n",
       "    .dataframe tbody tr th:only-of-type {\n",
       "        vertical-align: middle;\n",
       "    }\n",
       "\n",
       "    .dataframe tbody tr th {\n",
       "        vertical-align: top;\n",
       "    }\n",
       "\n",
       "    .dataframe thead th {\n",
       "        text-align: right;\n",
       "    }\n",
       "</style>\n",
       "<table border=\"1\" class=\"dataframe\">\n",
       "  <thead>\n",
       "    <tr style=\"text-align: right;\">\n",
       "      <th></th>\n",
       "      <th>acc</th>\n",
       "      <th>f1</th>\n",
       "      <th>runtime</th>\n",
       "      <th>topic</th>\n",
       "      <th>stance</th>\n",
       "    </tr>\n",
       "  </thead>\n",
       "  <tbody>\n",
       "    <tr>\n",
       "      <th>0</th>\n",
       "      <td>0.725</td>\n",
       "      <td>0.739</td>\n",
       "      <td>6.035</td>\n",
       "      <td>Routine child vaccinations should be mandatory</td>\n",
       "      <td>1</td>\n",
       "    </tr>\n",
       "    <tr>\n",
       "      <th>1</th>\n",
       "      <td>0.874</td>\n",
       "      <td>0.874</td>\n",
       "      <td>6.071</td>\n",
       "      <td>Routine child vaccinations should be mandatory</td>\n",
       "      <td>-1</td>\n",
       "    </tr>\n",
       "    <tr>\n",
       "      <th>2</th>\n",
       "      <td>0.800</td>\n",
       "      <td>0.800</td>\n",
       "      <td>6.217</td>\n",
       "      <td>Social media platforms should be regulated by ...</td>\n",
       "      <td>1</td>\n",
       "    </tr>\n",
       "    <tr>\n",
       "      <th>3</th>\n",
       "      <td>0.901</td>\n",
       "      <td>0.895</td>\n",
       "      <td>6.671</td>\n",
       "      <td>Social media platforms should be regulated by ...</td>\n",
       "      <td>-1</td>\n",
       "    </tr>\n",
       "    <tr>\n",
       "      <th>4</th>\n",
       "      <td>0.907</td>\n",
       "      <td>0.914</td>\n",
       "      <td>11.437</td>\n",
       "      <td>The USA is a good country to live in</td>\n",
       "      <td>1</td>\n",
       "    </tr>\n",
       "    <tr>\n",
       "      <th>5</th>\n",
       "      <td>0.956</td>\n",
       "      <td>0.954</td>\n",
       "      <td>6.663</td>\n",
       "      <td>The USA is a good country to live in</td>\n",
       "      <td>-1</td>\n",
       "    </tr>\n",
       "    <tr>\n",
       "      <th>6</th>\n",
       "      <td>0.860</td>\n",
       "      <td>0.863</td>\n",
       "      <td>43.094</td>\n",
       "      <td>All</td>\n",
       "      <td>All</td>\n",
       "    </tr>\n",
       "  </tbody>\n",
       "</table>\n",
       "</div>"
      ],
      "text/plain": [
       "     acc     f1  runtime                                              topic  \\\n",
       "0  0.725  0.739    6.035     Routine child vaccinations should be mandatory   \n",
       "1  0.874  0.874    6.071     Routine child vaccinations should be mandatory   \n",
       "2  0.800  0.800    6.217  Social media platforms should be regulated by ...   \n",
       "3  0.901  0.895    6.671  Social media platforms should be regulated by ...   \n",
       "4  0.907  0.914   11.437               The USA is a good country to live in   \n",
       "5  0.956  0.954    6.663               The USA is a good country to live in   \n",
       "6  0.860  0.863   43.094                                                All   \n",
       "\n",
       "  stance  \n",
       "0      1  \n",
       "1     -1  \n",
       "2      1  \n",
       "3     -1  \n",
       "4      1  \n",
       "5     -1  \n",
       "6    All  "
      ]
     },
     "execution_count": 13,
     "metadata": {},
     "output_type": "execute_result"
    }
   ],
   "source": [
    "cross_deberta_np = torch.load('models/match_scorer/cross_encoder/deberta-v2_np/2024-Feb-20_13-41-02/best_model.pt')\n",
    "cross_deberta_np_results = eval_match_scorer(model = cross_deberta_np, df_test = ArgKP21_test_processed, include_topic = False, output_dir = None)\n",
    "cross_deberta_np_results.round(3)"
   ]
  },
  {
   "cell_type": "markdown",
   "metadata": {},
   "source": [
    "### With pooling layer"
   ]
  },
  {
   "cell_type": "markdown",
   "metadata": {},
   "source": [
    "**RoBERTa**"
   ]
  },
  {
   "cell_type": "code",
   "execution_count": null,
   "metadata": {},
   "outputs": [
    {
     "name": "stderr",
     "output_type": "stream",
     "text": [
      "Some weights of RobertaForSequenceClassification were not initialized from the model checkpoint at models/transformers/roberta-large and are newly initialized: ['classifier.dense.weight', 'classifier.out_proj.bias', 'classifier.dense.bias', 'classifier.out_proj.weight']\n",
      "You should probably TRAIN this model on a down-stream task to be able to use it for predictions and inference.\n"
     ]
    },
    {
     "data": {
      "application/vnd.jupyter.widget-view+json": {
       "model_id": "cf0507ccf5af425b962557ead7cbdd1e",
       "version_major": 2,
       "version_minor": 0
      },
      "text/plain": [
       "Map:   0%|          | 0/20635 [00:00<?, ? examples/s]"
      ]
     },
     "metadata": {},
     "output_type": "display_data"
    },
    {
     "data": {
      "application/vnd.jupyter.widget-view+json": {
       "model_id": "267996cd31cd43a6a3b0c65c16a391e0",
       "version_major": 2,
       "version_minor": 0
      },
      "text/plain": [
       "Map:   0%|          | 0/3458 [00:00<?, ? examples/s]"
      ]
     },
     "metadata": {},
     "output_type": "display_data"
    },
    {
     "data": {
      "application/vnd.jupyter.widget-view+json": {
       "model_id": "b82debb5533e4ba8b52b9347492e4344",
       "version_major": 2,
       "version_minor": 0
      },
      "text/plain": [
       "Casting the dataset:   0%|          | 0/20635 [00:00<?, ? examples/s]"
      ]
     },
     "metadata": {},
     "output_type": "display_data"
    },
    {
     "data": {
      "application/vnd.jupyter.widget-view+json": {
       "model_id": "2f8cda92404a41198d8c185a3084ee9f",
       "version_major": 2,
       "version_minor": 0
      },
      "text/plain": [
       "Casting the dataset:   0%|          | 0/3458 [00:00<?, ? examples/s]"
      ]
     },
     "metadata": {},
     "output_type": "display_data"
    },
    {
     "data": {
      "application/vnd.jupyter.widget-view+json": {
       "model_id": "96476db627184883ab5bc951a64339b5",
       "version_major": 2,
       "version_minor": 0
      },
      "text/plain": [
       "  0%|          | 0/5805 [00:00<?, ?it/s]"
      ]
     },
     "metadata": {},
     "output_type": "display_data"
    },
    {
     "name": "stderr",
     "output_type": "stream",
     "text": [
      "You're using a RobertaTokenizerFast tokenizer. Please note that with a fast tokenizer, using the `__call__` method is faster than using a method to encode the text followed by a call to the `pad` method to get a padded encoding.\n"
     ]
    },
    {
     "name": "stdout",
     "output_type": "stream",
     "text": [
      "{'loss': 0.5397, 'learning_rate': 4.8277347114556425e-06, 'epoch': 0.31}\n"
     ]
    },
    {
     "data": {
      "application/vnd.jupyter.widget-view+json": {
       "model_id": "20beae51bed74302a2e3d64508b89ec8",
       "version_major": 2,
       "version_minor": 0
      },
      "text/plain": [
       "  0%|          | 0/109 [00:00<?, ?it/s]"
      ]
     },
     "metadata": {},
     "output_type": "display_data"
    },
    {
     "name": "stdout",
     "output_type": "stream",
     "text": [
      "{'eval_loss': 0.5140395760536194, 'eval_brier': 0.16633440416459802, 'eval_runtime': 44.2382, 'eval_samples_per_second': 78.168, 'eval_steps_per_second': 2.464, 'epoch': 0.31}\n",
      "{'loss': 0.3511, 'learning_rate': 4.655469422911284e-06, 'epoch': 0.62}\n"
     ]
    },
    {
     "data": {
      "application/vnd.jupyter.widget-view+json": {
       "model_id": "3c7e93690b484825aab91bc56d90a319",
       "version_major": 2,
       "version_minor": 0
      },
      "text/plain": [
       "  0%|          | 0/109 [00:00<?, ?it/s]"
      ]
     },
     "metadata": {},
     "output_type": "display_data"
    },
    {
     "name": "stdout",
     "output_type": "stream",
     "text": [
      "{'eval_loss': 0.29137319326400757, 'eval_brier': 0.08647147853422103, 'eval_runtime': 46.2941, 'eval_samples_per_second': 74.696, 'eval_steps_per_second': 2.355, 'epoch': 0.62}\n",
      "{'loss': 0.2046, 'learning_rate': 4.483204134366925e-06, 'epoch': 0.93}\n"
     ]
    },
    {
     "data": {
      "application/vnd.jupyter.widget-view+json": {
       "model_id": "3e637f92f8f84a8daed3996d26c4fa39",
       "version_major": 2,
       "version_minor": 0
      },
      "text/plain": [
       "  0%|          | 0/109 [00:00<?, ?it/s]"
      ]
     },
     "metadata": {},
     "output_type": "display_data"
    },
    {
     "name": "stdout",
     "output_type": "stream",
     "text": [
      "{'eval_loss': 0.31118330359458923, 'eval_brier': 0.08578630296734979, 'eval_runtime': 46.61, 'eval_samples_per_second': 74.19, 'eval_steps_per_second': 2.339, 'epoch': 0.93}\n",
      "{'loss': 0.17, 'learning_rate': 4.310938845822567e-06, 'epoch': 1.24}\n"
     ]
    },
    {
     "data": {
      "application/vnd.jupyter.widget-view+json": {
       "model_id": "8cd9117f89f54dba823a5d399801edfd",
       "version_major": 2,
       "version_minor": 0
      },
      "text/plain": [
       "  0%|          | 0/109 [00:00<?, ?it/s]"
      ]
     },
     "metadata": {},
     "output_type": "display_data"
    },
    {
     "name": "stdout",
     "output_type": "stream",
     "text": [
      "{'eval_loss': 0.32901063561439514, 'eval_brier': 0.08797452041001358, 'eval_runtime': 44.073, 'eval_samples_per_second': 78.461, 'eval_steps_per_second': 2.473, 'epoch': 1.24}\n",
      "{'loss': 0.1463, 'learning_rate': 4.138673557278209e-06, 'epoch': 1.55}\n"
     ]
    },
    {
     "data": {
      "application/vnd.jupyter.widget-view+json": {
       "model_id": "85f432a166894a6bb6a4dcf229e9f339",
       "version_major": 2,
       "version_minor": 0
      },
      "text/plain": [
       "  0%|          | 0/109 [00:00<?, ?it/s]"
      ]
     },
     "metadata": {},
     "output_type": "display_data"
    },
    {
     "name": "stdout",
     "output_type": "stream",
     "text": [
      "{'eval_loss': 0.28069785237312317, 'eval_brier': 0.07536407962858534, 'eval_runtime': 47.5135, 'eval_samples_per_second': 72.779, 'eval_steps_per_second': 2.294, 'epoch': 1.55}\n",
      "{'loss': 0.1522, 'learning_rate': 3.9664082687338505e-06, 'epoch': 1.86}\n"
     ]
    },
    {
     "data": {
      "application/vnd.jupyter.widget-view+json": {
       "model_id": "329e043a0ff545f2b1c8378ddf098598",
       "version_major": 2,
       "version_minor": 0
      },
      "text/plain": [
       "  0%|          | 0/109 [00:00<?, ?it/s]"
      ]
     },
     "metadata": {},
     "output_type": "display_data"
    },
    {
     "name": "stdout",
     "output_type": "stream",
     "text": [
      "{'eval_loss': 0.21040357649326324, 'eval_brier': 0.06468550894500331, 'eval_runtime': 46.4557, 'eval_samples_per_second': 74.437, 'eval_steps_per_second': 2.346, 'epoch': 1.86}\n",
      "{'loss': 0.1128, 'learning_rate': 3.7941429801894917e-06, 'epoch': 2.17}\n"
     ]
    },
    {
     "data": {
      "application/vnd.jupyter.widget-view+json": {
       "model_id": "da6720ffb1b74e2fa49b0a700c40fe7a",
       "version_major": 2,
       "version_minor": 0
      },
      "text/plain": [
       "  0%|          | 0/109 [00:00<?, ?it/s]"
      ]
     },
     "metadata": {},
     "output_type": "display_data"
    },
    {
     "name": "stdout",
     "output_type": "stream",
     "text": [
      "{'eval_loss': 0.37616005539894104, 'eval_brier': 0.08482662316618843, 'eval_runtime': 46.2817, 'eval_samples_per_second': 74.716, 'eval_steps_per_second': 2.355, 'epoch': 2.17}\n",
      "{'loss': 0.1117, 'learning_rate': 3.621877691645134e-06, 'epoch': 2.48}\n"
     ]
    },
    {
     "data": {
      "application/vnd.jupyter.widget-view+json": {
       "model_id": "e725b0f804eb4a938e02eaebd2e930bf",
       "version_major": 2,
       "version_minor": 0
      },
      "text/plain": [
       "  0%|          | 0/109 [00:00<?, ?it/s]"
      ]
     },
     "metadata": {},
     "output_type": "display_data"
    },
    {
     "name": "stdout",
     "output_type": "stream",
     "text": [
      "{'eval_loss': 0.38983848690986633, 'eval_brier': 0.09744729546179741, 'eval_runtime': 45.8421, 'eval_samples_per_second': 75.433, 'eval_steps_per_second': 2.378, 'epoch': 2.48}\n",
      "{'loss': 0.1043, 'learning_rate': 3.4496124031007755e-06, 'epoch': 2.79}\n"
     ]
    },
    {
     "data": {
      "application/vnd.jupyter.widget-view+json": {
       "model_id": "6125a5a41a2648ae968c9c9976506172",
       "version_major": 2,
       "version_minor": 0
      },
      "text/plain": [
       "  0%|          | 0/109 [00:00<?, ?it/s]"
      ]
     },
     "metadata": {},
     "output_type": "display_data"
    },
    {
     "name": "stdout",
     "output_type": "stream",
     "text": [
      "{'eval_loss': 0.4506865441799164, 'eval_brier': 0.10104520158587607, 'eval_runtime': 45.3615, 'eval_samples_per_second': 76.232, 'eval_steps_per_second': 2.403, 'epoch': 2.79}\n",
      "{'train_runtime': 3023.1001, 'train_samples_per_second': 61.432, 'train_steps_per_second': 1.92, 'train_loss': 0.21028762499491374, 'epoch': 2.79}\n"
     ]
    }
   ],
   "source": [
    "model_path = 'roberta-large'\n",
    "train_cross_match_scorer(model_path, ArgKP21_train, ArgKP21_dev, seed = 384, \n",
    "                         pooling = True, include_topic = False, augmented_data = False)"
   ]
  },
  {
   "cell_type": "code",
   "execution_count": 4,
   "metadata": {},
   "outputs": [
    {
     "name": "stderr",
     "output_type": "stream",
     "text": [
      "                                                                 2.79it/s]\r"
     ]
    },
    {
     "data": {
      "text/html": [
       "<div>\n",
       "<style scoped>\n",
       "    .dataframe tbody tr th:only-of-type {\n",
       "        vertical-align: middle;\n",
       "    }\n",
       "\n",
       "    .dataframe tbody tr th {\n",
       "        vertical-align: top;\n",
       "    }\n",
       "\n",
       "    .dataframe thead th {\n",
       "        text-align: right;\n",
       "    }\n",
       "</style>\n",
       "<table border=\"1\" class=\"dataframe\">\n",
       "  <thead>\n",
       "    <tr style=\"text-align: right;\">\n",
       "      <th></th>\n",
       "      <th>acc</th>\n",
       "      <th>f1</th>\n",
       "      <th>runtime</th>\n",
       "      <th>topic</th>\n",
       "      <th>stance</th>\n",
       "    </tr>\n",
       "  </thead>\n",
       "  <tbody>\n",
       "    <tr>\n",
       "      <th>0</th>\n",
       "      <td>0.623</td>\n",
       "      <td>0.588</td>\n",
       "      <td>3.325</td>\n",
       "      <td>Routine child vaccinations should be mandatory</td>\n",
       "      <td>1</td>\n",
       "    </tr>\n",
       "    <tr>\n",
       "      <th>1</th>\n",
       "      <td>0.839</td>\n",
       "      <td>0.846</td>\n",
       "      <td>3.348</td>\n",
       "      <td>Routine child vaccinations should be mandatory</td>\n",
       "      <td>-1</td>\n",
       "    </tr>\n",
       "    <tr>\n",
       "      <th>2</th>\n",
       "      <td>0.743</td>\n",
       "      <td>0.723</td>\n",
       "      <td>3.483</td>\n",
       "      <td>Social media platforms should be regulated by ...</td>\n",
       "      <td>1</td>\n",
       "    </tr>\n",
       "    <tr>\n",
       "      <th>3</th>\n",
       "      <td>0.901</td>\n",
       "      <td>0.904</td>\n",
       "      <td>3.992</td>\n",
       "      <td>Social media platforms should be regulated by ...</td>\n",
       "      <td>-1</td>\n",
       "    </tr>\n",
       "    <tr>\n",
       "      <th>4</th>\n",
       "      <td>0.942</td>\n",
       "      <td>0.943</td>\n",
       "      <td>7.098</td>\n",
       "      <td>The USA is a good country to live in</td>\n",
       "      <td>1</td>\n",
       "    </tr>\n",
       "    <tr>\n",
       "      <th>5</th>\n",
       "      <td>0.800</td>\n",
       "      <td>0.801</td>\n",
       "      <td>3.753</td>\n",
       "      <td>The USA is a good country to live in</td>\n",
       "      <td>-1</td>\n",
       "    </tr>\n",
       "    <tr>\n",
       "      <th>6</th>\n",
       "      <td>0.808</td>\n",
       "      <td>0.801</td>\n",
       "      <td>24.999</td>\n",
       "      <td>All</td>\n",
       "      <td>All</td>\n",
       "    </tr>\n",
       "  </tbody>\n",
       "</table>\n",
       "</div>"
      ],
      "text/plain": [
       "     acc     f1  runtime                                              topic  \\\n",
       "0  0.623  0.588    3.325     Routine child vaccinations should be mandatory   \n",
       "1  0.839  0.846    3.348     Routine child vaccinations should be mandatory   \n",
       "2  0.743  0.723    3.483  Social media platforms should be regulated by ...   \n",
       "3  0.901  0.904    3.992  Social media platforms should be regulated by ...   \n",
       "4  0.942  0.943    7.098               The USA is a good country to live in   \n",
       "5  0.800  0.801    3.753               The USA is a good country to live in   \n",
       "6  0.808  0.801   24.999                                                All   \n",
       "\n",
       "  stance  \n",
       "0      1  \n",
       "1     -1  \n",
       "2      1  \n",
       "3     -1  \n",
       "4      1  \n",
       "5     -1  \n",
       "6    All  "
      ]
     },
     "execution_count": 4,
     "metadata": {},
     "output_type": "execute_result"
    }
   ],
   "source": [
    "cross_roberta_p = torch.load('models/match_scorer/cross_encoder/roberta_p/2024-Feb-20_10-20-20/best_model.pt')\n",
    "cross_roberta_p_results = eval_match_scorer(model = cross_roberta_p, df_test = ArgKP21_test_processed, include_topic = False, output_dir = None)\n",
    "cross_roberta_p_results.round(3)"
   ]
  },
  {
   "cell_type": "markdown",
   "metadata": {},
   "source": [
    "**DeBERTa**"
   ]
  },
  {
   "cell_type": "code",
   "execution_count": null,
   "metadata": {},
   "outputs": [
    {
     "name": "stderr",
     "output_type": "stream",
     "text": [
      "Special tokens have been added in the vocabulary, make sure the associated word embeddings are fine-tuned or trained.\n",
      "Special tokens have been added in the vocabulary, make sure the associated word embeddings are fine-tuned or trained.\n",
      "Some weights of DebertaV2ForSequenceClassification were not initialized from the model checkpoint at models/transformers/deberta-v3-large and are newly initialized: ['classifier.weight', 'pooler.dense.weight', 'pooler.dense.bias', 'classifier.bias']\n",
      "You should probably TRAIN this model on a down-stream task to be able to use it for predictions and inference.\n"
     ]
    },
    {
     "data": {
      "application/vnd.jupyter.widget-view+json": {
       "model_id": "9000901fbb364bff998c7bcec62ba4ad",
       "version_major": 2,
       "version_minor": 0
      },
      "text/plain": [
       "Map:   0%|          | 0/20635 [00:00<?, ? examples/s]"
      ]
     },
     "metadata": {},
     "output_type": "display_data"
    },
    {
     "data": {
      "application/vnd.jupyter.widget-view+json": {
       "model_id": "d1a0486feac54eb3b5db2513de43dcde",
       "version_major": 2,
       "version_minor": 0
      },
      "text/plain": [
       "Map:   0%|          | 0/3458 [00:00<?, ? examples/s]"
      ]
     },
     "metadata": {},
     "output_type": "display_data"
    },
    {
     "data": {
      "application/vnd.jupyter.widget-view+json": {
       "model_id": "9de83f64553c44aaaf60c26804a613a7",
       "version_major": 2,
       "version_minor": 0
      },
      "text/plain": [
       "Casting the dataset:   0%|          | 0/20635 [00:00<?, ? examples/s]"
      ]
     },
     "metadata": {},
     "output_type": "display_data"
    },
    {
     "data": {
      "application/vnd.jupyter.widget-view+json": {
       "model_id": "052fa430b63f4e71ad57d6870e1dffe7",
       "version_major": 2,
       "version_minor": 0
      },
      "text/plain": [
       "Casting the dataset:   0%|          | 0/3458 [00:00<?, ? examples/s]"
      ]
     },
     "metadata": {},
     "output_type": "display_data"
    },
    {
     "data": {
      "application/vnd.jupyter.widget-view+json": {
       "model_id": "313b8623cb51469fb437b7b606130cc2",
       "version_major": 2,
       "version_minor": 0
      },
      "text/plain": [
       "  0%|          | 0/3870 [00:00<?, ?it/s]"
      ]
     },
     "metadata": {},
     "output_type": "display_data"
    },
    {
     "name": "stderr",
     "output_type": "stream",
     "text": [
      "You're using a DebertaV2TokenizerFast tokenizer. Please note that with a fast tokenizer, using the `__call__` method is faster than using a method to encode the text followed by a call to the `pad` method to get a padded encoding.\n"
     ]
    },
    {
     "name": "stdout",
     "output_type": "stream",
     "text": [
      "{'loss': 0.5461, 'learning_rate': 1.8966408268733848e-06, 'epoch': 0.31}\n"
     ]
    },
    {
     "data": {
      "application/vnd.jupyter.widget-view+json": {
       "model_id": "49cfe92c2896443797749533217f54f6",
       "version_major": 2,
       "version_minor": 0
      },
      "text/plain": [
       "  0%|          | 0/109 [00:00<?, ?it/s]"
      ]
     },
     "metadata": {},
     "output_type": "display_data"
    },
    {
     "name": "stdout",
     "output_type": "stream",
     "text": [
      "{'eval_loss': 0.44758692383766174, 'eval_brier': 0.1397627672419407, 'eval_runtime': 82.7971, 'eval_samples_per_second': 41.765, 'eval_steps_per_second': 1.316, 'epoch': 0.31}\n",
      "{'loss': 0.2727, 'learning_rate': 1.79328165374677e-06, 'epoch': 0.62}\n"
     ]
    },
    {
     "data": {
      "application/vnd.jupyter.widget-view+json": {
       "model_id": "f5bf4c1f55d24b8ebff139b7ac90610c",
       "version_major": 2,
       "version_minor": 0
      },
      "text/plain": [
       "  0%|          | 0/109 [00:00<?, ?it/s]"
      ]
     },
     "metadata": {},
     "output_type": "display_data"
    },
    {
     "name": "stdout",
     "output_type": "stream",
     "text": [
      "{'eval_loss': 0.30857497453689575, 'eval_brier': 0.09758050228467768, 'eval_runtime': 67.7601, 'eval_samples_per_second': 51.033, 'eval_steps_per_second': 1.609, 'epoch': 0.62}\n",
      "{'loss': 0.1654, 'learning_rate': 1.6899224806201549e-06, 'epoch': 0.93}\n"
     ]
    },
    {
     "data": {
      "application/vnd.jupyter.widget-view+json": {
       "model_id": "7c0d4b1c1d4843c2a10bd93b69d119aa",
       "version_major": 2,
       "version_minor": 0
      },
      "text/plain": [
       "  0%|          | 0/109 [00:00<?, ?it/s]"
      ]
     },
     "metadata": {},
     "output_type": "display_data"
    },
    {
     "name": "stdout",
     "output_type": "stream",
     "text": [
      "{'eval_loss': 0.2934161126613617, 'eval_brier': 0.08395716538585014, 'eval_runtime': 67.9283, 'eval_samples_per_second': 50.907, 'eval_steps_per_second': 1.605, 'epoch': 0.93}\n",
      "{'loss': 0.1349, 'learning_rate': 1.58656330749354e-06, 'epoch': 1.24}\n"
     ]
    },
    {
     "data": {
      "application/vnd.jupyter.widget-view+json": {
       "model_id": "a4eb50bc18a64a1f9190adfcd7c1f3bf",
       "version_major": 2,
       "version_minor": 0
      },
      "text/plain": [
       "  0%|          | 0/109 [00:00<?, ?it/s]"
      ]
     },
     "metadata": {},
     "output_type": "display_data"
    },
    {
     "name": "stdout",
     "output_type": "stream",
     "text": [
      "{'eval_loss': 0.3939359486103058, 'eval_brier': 0.10523139346127801, 'eval_runtime': 70.1322, 'eval_samples_per_second': 49.307, 'eval_steps_per_second': 1.554, 'epoch': 1.24}\n",
      "{'loss': 0.1312, 'learning_rate': 1.483204134366925e-06, 'epoch': 1.55}\n"
     ]
    },
    {
     "data": {
      "application/vnd.jupyter.widget-view+json": {
       "model_id": "6544c5f74da24723bbf61393bc9af341",
       "version_major": 2,
       "version_minor": 0
      },
      "text/plain": [
       "  0%|          | 0/109 [00:00<?, ?it/s]"
      ]
     },
     "metadata": {},
     "output_type": "display_data"
    },
    {
     "name": "stdout",
     "output_type": "stream",
     "text": [
      "{'eval_loss': 0.43915271759033203, 'eval_brier': 0.10944322995332789, 'eval_runtime': 70.6223, 'eval_samples_per_second': 48.965, 'eval_steps_per_second': 1.543, 'epoch': 1.55}\n",
      "{'loss': 0.1255, 'learning_rate': 1.37984496124031e-06, 'epoch': 1.86}\n"
     ]
    },
    {
     "data": {
      "application/vnd.jupyter.widget-view+json": {
       "model_id": "8c1d5e023cab45048548393412fda84d",
       "version_major": 2,
       "version_minor": 0
      },
      "text/plain": [
       "  0%|          | 0/109 [00:00<?, ?it/s]"
      ]
     },
     "metadata": {},
     "output_type": "display_data"
    },
    {
     "name": "stdout",
     "output_type": "stream",
     "text": [
      "{'eval_loss': 0.4027858078479767, 'eval_brier': 0.1026306533926773, 'eval_runtime': 70.6248, 'eval_samples_per_second': 48.963, 'eval_steps_per_second': 1.543, 'epoch': 1.86}\n",
      "{'train_runtime': 2786.0667, 'train_samples_per_second': 44.439, 'train_steps_per_second': 1.389, 'train_loss': 0.22928863366444904, 'epoch': 1.86}\n"
     ]
    }
   ],
   "source": [
    "model_path = 'microsoft/deberta-v3-large'\n",
    "train_cross_match_scorer(model_path, ArgKP21_train, ArgKP21_dev, num_train_epochs = 6, learning_rate = 2e-6 ,seed = 467, \n",
    "                         pooling = True, include_topic = False, augmented_data = False)"
   ]
  },
  {
   "cell_type": "code",
   "execution_count": 14,
   "metadata": {},
   "outputs": [
    {
     "name": "stderr",
     "output_type": "stream",
     "text": [
      "                                                                 1.76it/s]\r"
     ]
    },
    {
     "data": {
      "text/html": [
       "<div>\n",
       "<style scoped>\n",
       "    .dataframe tbody tr th:only-of-type {\n",
       "        vertical-align: middle;\n",
       "    }\n",
       "\n",
       "    .dataframe tbody tr th {\n",
       "        vertical-align: top;\n",
       "    }\n",
       "\n",
       "    .dataframe thead th {\n",
       "        text-align: right;\n",
       "    }\n",
       "</style>\n",
       "<table border=\"1\" class=\"dataframe\">\n",
       "  <thead>\n",
       "    <tr style=\"text-align: right;\">\n",
       "      <th></th>\n",
       "      <th>acc</th>\n",
       "      <th>f1</th>\n",
       "      <th>runtime</th>\n",
       "      <th>topic</th>\n",
       "      <th>stance</th>\n",
       "    </tr>\n",
       "  </thead>\n",
       "  <tbody>\n",
       "    <tr>\n",
       "      <th>0</th>\n",
       "      <td>0.536</td>\n",
       "      <td>0.555</td>\n",
       "      <td>6.885</td>\n",
       "      <td>Routine child vaccinations should be mandatory</td>\n",
       "      <td>1</td>\n",
       "    </tr>\n",
       "    <tr>\n",
       "      <th>1</th>\n",
       "      <td>0.839</td>\n",
       "      <td>0.845</td>\n",
       "      <td>7.024</td>\n",
       "      <td>Routine child vaccinations should be mandatory</td>\n",
       "      <td>-1</td>\n",
       "    </tr>\n",
       "    <tr>\n",
       "      <th>2</th>\n",
       "      <td>0.786</td>\n",
       "      <td>0.789</td>\n",
       "      <td>6.898</td>\n",
       "      <td>Social media platforms should be regulated by ...</td>\n",
       "      <td>1</td>\n",
       "    </tr>\n",
       "    <tr>\n",
       "      <th>3</th>\n",
       "      <td>0.901</td>\n",
       "      <td>0.893</td>\n",
       "      <td>7.218</td>\n",
       "      <td>Social media platforms should be regulated by ...</td>\n",
       "      <td>-1</td>\n",
       "    </tr>\n",
       "    <tr>\n",
       "      <th>4</th>\n",
       "      <td>0.907</td>\n",
       "      <td>0.912</td>\n",
       "      <td>11.717</td>\n",
       "      <td>The USA is a good country to live in</td>\n",
       "      <td>1</td>\n",
       "    </tr>\n",
       "    <tr>\n",
       "      <th>5</th>\n",
       "      <td>0.956</td>\n",
       "      <td>0.954</td>\n",
       "      <td>6.450</td>\n",
       "      <td>The USA is a good country to live in</td>\n",
       "      <td>-1</td>\n",
       "    </tr>\n",
       "    <tr>\n",
       "      <th>6</th>\n",
       "      <td>0.821</td>\n",
       "      <td>0.825</td>\n",
       "      <td>46.192</td>\n",
       "      <td>All</td>\n",
       "      <td>All</td>\n",
       "    </tr>\n",
       "  </tbody>\n",
       "</table>\n",
       "</div>"
      ],
      "text/plain": [
       "     acc     f1  runtime                                              topic  \\\n",
       "0  0.536  0.555    6.885     Routine child vaccinations should be mandatory   \n",
       "1  0.839  0.845    7.024     Routine child vaccinations should be mandatory   \n",
       "2  0.786  0.789    6.898  Social media platforms should be regulated by ...   \n",
       "3  0.901  0.893    7.218  Social media platforms should be regulated by ...   \n",
       "4  0.907  0.912   11.717               The USA is a good country to live in   \n",
       "5  0.956  0.954    6.450               The USA is a good country to live in   \n",
       "6  0.821  0.825   46.192                                                All   \n",
       "\n",
       "  stance  \n",
       "0      1  \n",
       "1     -1  \n",
       "2      1  \n",
       "3     -1  \n",
       "4      1  \n",
       "5     -1  \n",
       "6    All  "
      ]
     },
     "execution_count": 14,
     "metadata": {},
     "output_type": "execute_result"
    }
   ],
   "source": [
    "cross_deberta_p = torch.load('models/match_scorer/cross_encoder/deberta-v2_p/2024-Feb-20_15-30-58/best_model.pt')\n",
    "cross_deberta_p_results = eval_match_scorer(model = cross_deberta_p, df_test = ArgKP21_test_processed, include_topic = False, output_dir = None)\n",
    "cross_deberta_p_results.round(3)"
   ]
  },
  {
   "cell_type": "markdown",
   "metadata": {},
   "source": [
    "## Train bi-encoder match scorer"
   ]
  },
  {
   "cell_type": "markdown",
   "metadata": {},
   "source": [
    "### RoBERTa with topic information (SMatchToPr)"
   ]
  },
  {
   "cell_type": "code",
   "execution_count": null,
   "metadata": {},
   "outputs": [
    {
     "name": "stderr",
     "output_type": "stream",
     "text": [
      "You are resizing the embedding layer without providing a `pad_to_multiple_of` parameter. This means that the new embeding dimension will be 50266. This might induce some performance reduction as *Tensor Cores* will not be available. For more details  about this, or help on choosing the correct value for resizing, refer to this guide: https://docs.nvidia.com/deeplearning/performance/dl-performance-matrix-multiplication/index.html#requirements-tc\n"
     ]
    },
    {
     "data": {
      "application/vnd.jupyter.widget-view+json": {
       "model_id": "6ee4a0e57c73460fb44f6ca919f5dbeb",
       "version_major": 2,
       "version_minor": 0
      },
      "text/plain": [
       "Epoch:   0%|          | 0/10 [00:00<?, ?it/s]"
      ]
     },
     "metadata": {},
     "output_type": "display_data"
    },
    {
     "data": {
      "application/vnd.jupyter.widget-view+json": {
       "model_id": "2159488137e44ce8b5f046522749883b",
       "version_major": 2,
       "version_minor": 0
      },
      "text/plain": [
       "Iteration:   0%|          | 0/645 [00:00<?, ?it/s]"
      ]
     },
     "metadata": {},
     "output_type": "display_data"
    },
    {
     "name": "stdout",
     "output_type": "stream",
     "text": [
      "mAP strict= 0.8237875914107331 ; mAP relaxed = 0.9624688429119803\n",
      "mAP strict= 0.8495422423644721 ; mAP relaxed = 0.9669891900878222\n",
      "mAP strict= 0.8503676321975991 ; mAP relaxed = 0.9819577853442427\n",
      "mAP strict= 0.8521223794220001 ; mAP relaxed = 0.9608445322896187\n"
     ]
    },
    {
     "data": {
      "application/vnd.jupyter.widget-view+json": {
       "model_id": "5a12237d97154a79a43045be24dce715",
       "version_major": 2,
       "version_minor": 0
      },
      "text/plain": [
       "Iteration:   0%|          | 0/645 [00:00<?, ?it/s]"
      ]
     },
     "metadata": {},
     "output_type": "display_data"
    },
    {
     "name": "stdout",
     "output_type": "stream",
     "text": [
      "mAP strict= 0.8592968120107937 ; mAP relaxed = 0.9768090109658079\n",
      "mAP strict= 0.8203065157356286 ; mAP relaxed = 0.9638533459590234\n",
      "mAP strict= 0.8366420530657916 ; mAP relaxed = 0.971805710415197\n",
      "mAP strict= 0.8427676191795066 ; mAP relaxed = 0.9719457700486427\n"
     ]
    },
    {
     "data": {
      "application/vnd.jupyter.widget-view+json": {
       "model_id": "7a99c97ed44b4a18affc0ac80a77b17e",
       "version_major": 2,
       "version_minor": 0
      },
      "text/plain": [
       "Iteration:   0%|          | 0/645 [00:00<?, ?it/s]"
      ]
     },
     "metadata": {},
     "output_type": "display_data"
    },
    {
     "name": "stdout",
     "output_type": "stream",
     "text": [
      "mAP strict= 0.8580938210551107 ; mAP relaxed = 0.9722326712261895\n",
      "mAP strict= 0.833308055866667 ; mAP relaxed = 0.9654389113622441\n",
      "mAP strict= 0.8377730669951031 ; mAP relaxed = 0.9551770847774523\n",
      "mAP strict= 0.8200234934282231 ; mAP relaxed = 0.9455690726766148\n"
     ]
    },
    {
     "data": {
      "application/vnd.jupyter.widget-view+json": {
       "model_id": "a25b4afd8244456c97c228b6c4780b32",
       "version_major": 2,
       "version_minor": 0
      },
      "text/plain": [
       "Iteration:   0%|          | 0/645 [00:00<?, ?it/s]"
      ]
     },
     "metadata": {},
     "output_type": "display_data"
    },
    {
     "name": "stdout",
     "output_type": "stream",
     "text": [
      "mAP strict= 0.8536455683973754 ; mAP relaxed = 0.9615909835677703\n",
      "mAP strict= 0.828172491885049 ; mAP relaxed = 0.9619733531390371\n",
      "mAP strict= 0.8015252531073354 ; mAP relaxed = 0.942426045389188\n",
      "mAP strict= 0.8267072270917379 ; mAP relaxed = 0.9509459629290915\n"
     ]
    },
    {
     "data": {
      "application/vnd.jupyter.widget-view+json": {
       "model_id": "33e3d4ea65954c2dbc878df8e7d9c4bf",
       "version_major": 2,
       "version_minor": 0
      },
      "text/plain": [
       "Iteration:   0%|          | 0/645 [00:00<?, ?it/s]"
      ]
     },
     "metadata": {},
     "output_type": "display_data"
    },
    {
     "name": "stdout",
     "output_type": "stream",
     "text": [
      "mAP strict= 0.8062875886957939 ; mAP relaxed = 0.9415641302275652\n",
      "mAP strict= 0.8146468362014572 ; mAP relaxed = 0.9425578616907554\n",
      "mAP strict= 0.8214958190800349 ; mAP relaxed = 0.9392164971968736\n",
      "mAP strict= 0.8340564808117049 ; mAP relaxed = 0.9598139583179\n"
     ]
    },
    {
     "data": {
      "application/vnd.jupyter.widget-view+json": {
       "model_id": "2d2c0d51b43546408dc8c5ae21ade67c",
       "version_major": 2,
       "version_minor": 0
      },
      "text/plain": [
       "Iteration:   0%|          | 0/645 [00:00<?, ?it/s]"
      ]
     },
     "metadata": {},
     "output_type": "display_data"
    },
    {
     "name": "stdout",
     "output_type": "stream",
     "text": [
      "mAP strict= 0.8417176793287786 ; mAP relaxed = 0.9365344553132369\n",
      "mAP strict= 0.834819610367153 ; mAP relaxed = 0.9292111746491414\n",
      "mAP strict= 0.7855103092144384 ; mAP relaxed = 0.9235261796253537\n",
      "mAP strict= 0.8203520993739184 ; mAP relaxed = 0.9421840517317343\n"
     ]
    },
    {
     "data": {
      "application/vnd.jupyter.widget-view+json": {
       "model_id": "f82b476b5bd14b009d6e261bb68432e2",
       "version_major": 2,
       "version_minor": 0
      },
      "text/plain": [
       "Iteration:   0%|          | 0/645 [00:00<?, ?it/s]"
      ]
     },
     "metadata": {},
     "output_type": "display_data"
    },
    {
     "name": "stdout",
     "output_type": "stream",
     "text": [
      "mAP strict= 0.8353366263875058 ; mAP relaxed = 0.9440468167776042\n",
      "mAP strict= 0.8379555012334428 ; mAP relaxed = 0.949758232476065\n",
      "mAP strict= 0.8060093734181956 ; mAP relaxed = 0.9363178811802421\n",
      "mAP strict= 0.8212350907716495 ; mAP relaxed = 0.9447454496391439\n"
     ]
    },
    {
     "data": {
      "application/vnd.jupyter.widget-view+json": {
       "model_id": "9bed8be121e64af6ad61890030c36ba0",
       "version_major": 2,
       "version_minor": 0
      },
      "text/plain": [
       "Iteration:   0%|          | 0/645 [00:00<?, ?it/s]"
      ]
     },
     "metadata": {},
     "output_type": "display_data"
    },
    {
     "name": "stdout",
     "output_type": "stream",
     "text": [
      "mAP strict= 0.825941825917272 ; mAP relaxed = 0.9375825754200111\n",
      "mAP strict= 0.8418441070833222 ; mAP relaxed = 0.9562260719693602\n",
      "mAP strict= 0.8055252827833492 ; mAP relaxed = 0.9342443375380594\n",
      "mAP strict= 0.8113479882711172 ; mAP relaxed = 0.9362993651311481\n"
     ]
    },
    {
     "data": {
      "application/vnd.jupyter.widget-view+json": {
       "model_id": "d707892cbe5d46fda51b658e2a690145",
       "version_major": 2,
       "version_minor": 0
      },
      "text/plain": [
       "Iteration:   0%|          | 0/645 [00:00<?, ?it/s]"
      ]
     },
     "metadata": {},
     "output_type": "display_data"
    },
    {
     "name": "stdout",
     "output_type": "stream",
     "text": [
      "mAP strict= 0.8038040975749488 ; mAP relaxed = 0.9373773371189336\n",
      "mAP strict= 0.8187744012703866 ; mAP relaxed = 0.9481448590839816\n",
      "mAP strict= 0.8100604116551472 ; mAP relaxed = 0.9352664093623403\n",
      "mAP strict= 0.8129509871747342 ; mAP relaxed = 0.9367331097737558\n"
     ]
    },
    {
     "data": {
      "application/vnd.jupyter.widget-view+json": {
       "model_id": "06f7f94c03974d6baa94a7c2fa1a0428",
       "version_major": 2,
       "version_minor": 0
      },
      "text/plain": [
       "Iteration:   0%|          | 0/645 [00:00<?, ?it/s]"
      ]
     },
     "metadata": {},
     "output_type": "display_data"
    },
    {
     "name": "stdout",
     "output_type": "stream",
     "text": [
      "mAP strict= 0.8178409754368224 ; mAP relaxed = 0.9426039572703933\n",
      "mAP strict= 0.8141321869569075 ; mAP relaxed = 0.9454576396410665\n",
      "mAP strict= 0.8180873096468767 ; mAP relaxed = 0.942038878537846\n",
      "mAP strict= 0.8185355635932959 ; mAP relaxed = 0.9421166197741828\n"
     ]
    }
   ],
   "source": [
    "train_bi_match_scorer_smatchtopr(ArgKP21_train, include_topic = True)"
   ]
  },
  {
   "cell_type": "code",
   "execution_count": 7,
   "metadata": {},
   "outputs": [
    {
     "data": {
      "text/html": [
       "<div>\n",
       "<style scoped>\n",
       "    .dataframe tbody tr th:only-of-type {\n",
       "        vertical-align: middle;\n",
       "    }\n",
       "\n",
       "    .dataframe tbody tr th {\n",
       "        vertical-align: top;\n",
       "    }\n",
       "\n",
       "    .dataframe thead th {\n",
       "        text-align: right;\n",
       "    }\n",
       "</style>\n",
       "<table border=\"1\" class=\"dataframe\">\n",
       "  <thead>\n",
       "    <tr style=\"text-align: right;\">\n",
       "      <th></th>\n",
       "      <th>acc</th>\n",
       "      <th>f1</th>\n",
       "      <th>runtime</th>\n",
       "      <th>topic</th>\n",
       "      <th>stance</th>\n",
       "    </tr>\n",
       "  </thead>\n",
       "  <tbody>\n",
       "    <tr>\n",
       "      <th>0</th>\n",
       "      <td>0.739</td>\n",
       "      <td>0.740</td>\n",
       "      <td>1.402</td>\n",
       "      <td>Routine child vaccinations should be mandatory</td>\n",
       "      <td>1</td>\n",
       "    </tr>\n",
       "    <tr>\n",
       "      <th>1</th>\n",
       "      <td>0.759</td>\n",
       "      <td>0.763</td>\n",
       "      <td>1.623</td>\n",
       "      <td>Routine child vaccinations should be mandatory</td>\n",
       "      <td>-1</td>\n",
       "    </tr>\n",
       "    <tr>\n",
       "      <th>2</th>\n",
       "      <td>0.771</td>\n",
       "      <td>0.767</td>\n",
       "      <td>1.500</td>\n",
       "      <td>Social media platforms should be regulated by ...</td>\n",
       "      <td>1</td>\n",
       "    </tr>\n",
       "    <tr>\n",
       "      <th>3</th>\n",
       "      <td>0.887</td>\n",
       "      <td>0.888</td>\n",
       "      <td>1.632</td>\n",
       "      <td>Social media platforms should be regulated by ...</td>\n",
       "      <td>-1</td>\n",
       "    </tr>\n",
       "    <tr>\n",
       "      <th>4</th>\n",
       "      <td>0.895</td>\n",
       "      <td>0.897</td>\n",
       "      <td>1.722</td>\n",
       "      <td>The USA is a good country to live in</td>\n",
       "      <td>1</td>\n",
       "    </tr>\n",
       "    <tr>\n",
       "      <th>5</th>\n",
       "      <td>0.756</td>\n",
       "      <td>0.763</td>\n",
       "      <td>1.101</td>\n",
       "      <td>The USA is a good country to live in</td>\n",
       "      <td>-1</td>\n",
       "    </tr>\n",
       "    <tr>\n",
       "      <th>6</th>\n",
       "      <td>0.801</td>\n",
       "      <td>0.803</td>\n",
       "      <td>8.981</td>\n",
       "      <td>All</td>\n",
       "      <td>All</td>\n",
       "    </tr>\n",
       "  </tbody>\n",
       "</table>\n",
       "</div>"
      ],
      "text/plain": [
       "     acc     f1  runtime                                              topic  \\\n",
       "0  0.739  0.740    1.402     Routine child vaccinations should be mandatory   \n",
       "1  0.759  0.763    1.623     Routine child vaccinations should be mandatory   \n",
       "2  0.771  0.767    1.500  Social media platforms should be regulated by ...   \n",
       "3  0.887  0.888    1.632  Social media platforms should be regulated by ...   \n",
       "4  0.895  0.897    1.722               The USA is a good country to live in   \n",
       "5  0.756  0.763    1.101               The USA is a good country to live in   \n",
       "6  0.801  0.803    8.981                                                All   \n",
       "\n",
       "  stance  \n",
       "0      1  \n",
       "1     -1  \n",
       "2      1  \n",
       "3     -1  \n",
       "4      1  \n",
       "5     -1  \n",
       "6    All  "
      ]
     },
     "execution_count": 7,
     "metadata": {},
     "output_type": "execute_result"
    }
   ],
   "source": [
    "bi_roberta = SentenceTransformer(f'models/match_scorer/bi_encoder/roberta_tp/2024-Feb-20_16-23-49')\n",
    "bi_roberta_results = eval_match_scorer(model = bi_roberta, df_test = ArgKP21_test_processed, include_topic = True, output_dir = None)\n",
    "bi_roberta_results.round(3)"
   ]
  },
  {
   "cell_type": "code",
   "execution_count": 8,
   "metadata": {},
   "outputs": [
    {
     "data": {
      "text/html": [
       "<div>\n",
       "<style scoped>\n",
       "    .dataframe tbody tr th:only-of-type {\n",
       "        vertical-align: middle;\n",
       "    }\n",
       "\n",
       "    .dataframe tbody tr th {\n",
       "        vertical-align: top;\n",
       "    }\n",
       "\n",
       "    .dataframe thead th {\n",
       "        text-align: right;\n",
       "    }\n",
       "</style>\n",
       "<table border=\"1\" class=\"dataframe\">\n",
       "  <thead>\n",
       "    <tr style=\"text-align: right;\">\n",
       "      <th></th>\n",
       "      <th>acc</th>\n",
       "      <th>f1</th>\n",
       "      <th>runtime</th>\n",
       "      <th>topic</th>\n",
       "      <th>stance</th>\n",
       "    </tr>\n",
       "  </thead>\n",
       "  <tbody>\n",
       "    <tr>\n",
       "      <th>0</th>\n",
       "      <td>0.710</td>\n",
       "      <td>0.697</td>\n",
       "      <td>1.361</td>\n",
       "      <td>Routine child vaccinations should be mandatory</td>\n",
       "      <td>1</td>\n",
       "    </tr>\n",
       "    <tr>\n",
       "      <th>1</th>\n",
       "      <td>0.805</td>\n",
       "      <td>0.815</td>\n",
       "      <td>1.620</td>\n",
       "      <td>Routine child vaccinations should be mandatory</td>\n",
       "      <td>-1</td>\n",
       "    </tr>\n",
       "    <tr>\n",
       "      <th>2</th>\n",
       "      <td>0.757</td>\n",
       "      <td>0.754</td>\n",
       "      <td>1.578</td>\n",
       "      <td>Social media platforms should be regulated by ...</td>\n",
       "      <td>1</td>\n",
       "    </tr>\n",
       "    <tr>\n",
       "      <th>3</th>\n",
       "      <td>0.901</td>\n",
       "      <td>0.900</td>\n",
       "      <td>1.608</td>\n",
       "      <td>Social media platforms should be regulated by ...</td>\n",
       "      <td>-1</td>\n",
       "    </tr>\n",
       "    <tr>\n",
       "      <th>4</th>\n",
       "      <td>0.837</td>\n",
       "      <td>0.817</td>\n",
       "      <td>1.762</td>\n",
       "      <td>The USA is a good country to live in</td>\n",
       "      <td>1</td>\n",
       "    </tr>\n",
       "    <tr>\n",
       "      <th>5</th>\n",
       "      <td>0.756</td>\n",
       "      <td>0.763</td>\n",
       "      <td>1.143</td>\n",
       "      <td>The USA is a good country to live in</td>\n",
       "      <td>-1</td>\n",
       "    </tr>\n",
       "    <tr>\n",
       "      <th>6</th>\n",
       "      <td>0.794</td>\n",
       "      <td>0.791</td>\n",
       "      <td>9.072</td>\n",
       "      <td>All</td>\n",
       "      <td>All</td>\n",
       "    </tr>\n",
       "  </tbody>\n",
       "</table>\n",
       "</div>"
      ],
      "text/plain": [
       "     acc     f1  runtime                                              topic  \\\n",
       "0  0.710  0.697    1.361     Routine child vaccinations should be mandatory   \n",
       "1  0.805  0.815    1.620     Routine child vaccinations should be mandatory   \n",
       "2  0.757  0.754    1.578  Social media platforms should be regulated by ...   \n",
       "3  0.901  0.900    1.608  Social media platforms should be regulated by ...   \n",
       "4  0.837  0.817    1.762               The USA is a good country to live in   \n",
       "5  0.756  0.763    1.143               The USA is a good country to live in   \n",
       "6  0.794  0.791    9.072                                                All   \n",
       "\n",
       "  stance  \n",
       "0      1  \n",
       "1     -1  \n",
       "2      1  \n",
       "3     -1  \n",
       "4      1  \n",
       "5     -1  \n",
       "6    All  "
      ]
     },
     "execution_count": 8,
     "metadata": {},
     "output_type": "execute_result"
    }
   ],
   "source": [
    "bi_roberta = SentenceTransformer(f'models/match_scorer/bi_encoder/roberta_tp/2024-Feb-20_16-23-49')\n",
    "bi_roberta_results = eval_match_scorer(model = bi_roberta, df_test = ArgKP21_test_processed, include_topic = False, output_dir = None)\n",
    "bi_roberta_results.round(3)"
   ]
  },
  {
   "cell_type": "markdown",
   "metadata": {},
   "source": [
    "### all-mpnet-base-v2 (own)"
   ]
  },
  {
   "cell_type": "code",
   "execution_count": null,
   "metadata": {},
   "outputs": [],
   "source": [
    "train_bi_match_scorer_barh(ArgKP21_train, loss = 'cos')"
   ]
  },
  {
   "cell_type": "code",
   "execution_count": 9,
   "metadata": {},
   "outputs": [
    {
     "data": {
      "text/html": [
       "<div>\n",
       "<style scoped>\n",
       "    .dataframe tbody tr th:only-of-type {\n",
       "        vertical-align: middle;\n",
       "    }\n",
       "\n",
       "    .dataframe tbody tr th {\n",
       "        vertical-align: top;\n",
       "    }\n",
       "\n",
       "    .dataframe thead th {\n",
       "        text-align: right;\n",
       "    }\n",
       "</style>\n",
       "<table border=\"1\" class=\"dataframe\">\n",
       "  <thead>\n",
       "    <tr style=\"text-align: right;\">\n",
       "      <th></th>\n",
       "      <th>acc</th>\n",
       "      <th>f1</th>\n",
       "      <th>runtime</th>\n",
       "      <th>topic</th>\n",
       "      <th>stance</th>\n",
       "    </tr>\n",
       "  </thead>\n",
       "  <tbody>\n",
       "    <tr>\n",
       "      <th>0</th>\n",
       "      <td>0.551</td>\n",
       "      <td>0.503</td>\n",
       "      <td>0.579</td>\n",
       "      <td>Routine child vaccinations should be mandatory</td>\n",
       "      <td>1</td>\n",
       "    </tr>\n",
       "    <tr>\n",
       "      <th>1</th>\n",
       "      <td>0.747</td>\n",
       "      <td>0.782</td>\n",
       "      <td>0.633</td>\n",
       "      <td>Routine child vaccinations should be mandatory</td>\n",
       "      <td>-1</td>\n",
       "    </tr>\n",
       "    <tr>\n",
       "      <th>2</th>\n",
       "      <td>0.700</td>\n",
       "      <td>0.706</td>\n",
       "      <td>0.603</td>\n",
       "      <td>Social media platforms should be regulated by ...</td>\n",
       "      <td>1</td>\n",
       "    </tr>\n",
       "    <tr>\n",
       "      <th>3</th>\n",
       "      <td>0.887</td>\n",
       "      <td>0.881</td>\n",
       "      <td>0.656</td>\n",
       "      <td>Social media platforms should be regulated by ...</td>\n",
       "      <td>-1</td>\n",
       "    </tr>\n",
       "    <tr>\n",
       "      <th>4</th>\n",
       "      <td>0.860</td>\n",
       "      <td>0.861</td>\n",
       "      <td>0.756</td>\n",
       "      <td>The USA is a good country to live in</td>\n",
       "      <td>1</td>\n",
       "    </tr>\n",
       "    <tr>\n",
       "      <th>5</th>\n",
       "      <td>0.778</td>\n",
       "      <td>0.770</td>\n",
       "      <td>0.513</td>\n",
       "      <td>The USA is a good country to live in</td>\n",
       "      <td>-1</td>\n",
       "    </tr>\n",
       "    <tr>\n",
       "      <th>6</th>\n",
       "      <td>0.754</td>\n",
       "      <td>0.750</td>\n",
       "      <td>3.740</td>\n",
       "      <td>All</td>\n",
       "      <td>All</td>\n",
       "    </tr>\n",
       "  </tbody>\n",
       "</table>\n",
       "</div>"
      ],
      "text/plain": [
       "     acc     f1  runtime                                              topic  \\\n",
       "0  0.551  0.503    0.579     Routine child vaccinations should be mandatory   \n",
       "1  0.747  0.782    0.633     Routine child vaccinations should be mandatory   \n",
       "2  0.700  0.706    0.603  Social media platforms should be regulated by ...   \n",
       "3  0.887  0.881    0.656  Social media platforms should be regulated by ...   \n",
       "4  0.860  0.861    0.756               The USA is a good country to live in   \n",
       "5  0.778  0.770    0.513               The USA is a good country to live in   \n",
       "6  0.754  0.750    3.740                                                All   \n",
       "\n",
       "  stance  \n",
       "0      1  \n",
       "1     -1  \n",
       "2      1  \n",
       "3     -1  \n",
       "4      1  \n",
       "5     -1  \n",
       "6    All  "
      ]
     },
     "execution_count": 9,
     "metadata": {},
     "output_type": "execute_result"
    }
   ],
   "source": [
    "bi_roberta = SentenceTransformer(f'models/match_scorer/bi_encoder/all-mpnet-base-v2/2024-Jun-05_22-29-27')\n",
    "bi_roberta_results = eval_match_scorer(model = bi_roberta, df_test = ArgKP21_test_processed, include_topic = False, output_dir = None)\n",
    "bi_roberta_results.round(3)"
   ]
  }
 ],
 "metadata": {
  "kernelspec": {
   "display_name": "AM",
   "language": "python",
   "name": "python3"
  },
  "language_info": {
   "codemirror_mode": {
    "name": "ipython",
    "version": 3
   },
   "file_extension": ".py",
   "mimetype": "text/x-python",
   "name": "python",
   "nbconvert_exporter": "python",
   "pygments_lexer": "ipython3",
   "version": "3.8.18"
  }
 },
 "nbformat": 4,
 "nbformat_minor": 2
}
