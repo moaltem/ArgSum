{
 "cells": [
  {
   "cell_type": "markdown",
   "metadata": {},
   "source": [
    "# Argument Seperation Capability"
   ]
  },
  {
   "cell_type": "markdown",
   "metadata": {},
   "source": [
    "## Import packages"
   ]
  },
  {
   "cell_type": "code",
   "execution_count": 40,
   "metadata": {},
   "outputs": [],
   "source": [
    "import os\n",
    "import json\n",
    "import numpy as np\n",
    "import pandas as pd\n",
    "import matplotlib.pyplot as plt \n",
    "from itertools import product\n",
    "from time import time\n",
    "from tqdm.notebook import tqdm\n",
    "from sklearn.metrics import adjusted_rand_score, completeness_score\n",
    "import torch\n",
    "from sentence_transformers import SentenceTransformer\n",
    "from argsum import load_test_df, get_match_score_matrix, get_iterative_clusters, get_summetix_clusters, get_uskpm_clusters, get_match_clusters\n",
    "\n",
    "##########################\n",
    "### Set plt parameters ###\n",
    "##########################\n",
    "plt.rcParams[\"font.family\"] = \"Times New Roman\"\n",
    "plt.rcParams[\"mathtext.fontset\"] = \"custom\"\n",
    "plt.rcParams[\"mathtext.rm\"] = \"Times New Roman\"\n",
    "plt.rcParams[\"mathtext.it\"] = \"Times New Roman:italic\"\n",
    "plt.rcParams[\"mathtext.bf\"] = \"Times New Roman:bold\""
   ]
  },
  {
   "cell_type": "markdown",
   "metadata": {},
   "source": [
    "## Define functions"
   ]
  },
  {
   "cell_type": "code",
   "execution_count": 4,
   "metadata": {},
   "outputs": [],
   "source": [
    "def plot_gold_cluster_sizes(df, bin_width = 2):\n",
    "\n",
    "    if 'key_point' in df.columns:\n",
    "        arg_sum_col = 'key_point'\n",
    "    elif 'summary' in df.columns:\n",
    "        arg_sum_col = 'summary'\n",
    "\n",
    "    argsums = df[arg_sum_col].unique()\n",
    "\n",
    "    clu_sizes = []\n",
    "    for argsum in argsums:\n",
    "        clu_sizes.append(len(df[df[arg_sum_col] == argsum]['argument']))\n",
    "    \n",
    "    bins = [i for i in range(0, np.max(clu_sizes)+1, bin_width)]\n",
    "    \n",
    "    plt.figure(figsize=(10,4))\n",
    "\n",
    "    plt.hist(clu_sizes, bins = bins, edgecolor = 'black', linewidth = 0.5)\n",
    "\n",
    "    plt.xticks(ticks = [bin for bin in bins if bin % 2 == 0], labels = [bin for bin in bins if bin % 2 == 0], rotation = 90)\n",
    "    \n",
    "    plt.show()\n",
    "\n",
    "def get_clusters(df, get_clusters_callable, parameter_dict, match_scorer = None, output_dir = None, file_name = None, iterative_clustering = False):\n",
    "    \n",
    "    # Get unique topics and stances\n",
    "    topics = df['topic'].unique().tolist()\n",
    "    stances = [str(int(sta)) for sta in sorted(df['stance'].unique())]\n",
    "\n",
    "    # Get parameter for iteration\n",
    "    iterate_parameter_names = [item[0] for item in parameter_dict.items() if type(item[1]) == list]\n",
    "    iterate_parameter_values = [parameter_dict[parameter_name] for parameter_name in iterate_parameter_names]\n",
    "    iter_parameter_value_combinations = list(product(*iterate_parameter_values))\n",
    "\n",
    "    # Create empty dict to store the clusters\n",
    "    results = dict(zip(['clustering', 'iterative_clustering', 'parameter_names', 'parameter_values'], [dict(zip([str(comb) for comb in iter_parameter_value_combinations], [dict(zip(topics, [dict(zip(stances, [dict(zip(['runtime', 'cluster_ids'], [None, []])) for i in range(len(stances))])) for i in range(len(topics))])) for i in range(len(iter_parameter_value_combinations))])) for i in range(len(['clustering', 'iterative_clustering']))] + [iterate_parameter_names, iterate_parameter_values]))\n",
    "\n",
    "    if iterative_clustering == False:\n",
    "        del results['iterative_clustering']\n",
    "\n",
    "    ################################\n",
    "    ### Iterate: topic & stance ####\n",
    "    ################################\n",
    "\n",
    "    for topic_stance in tqdm([(topic, stance) for topic in topics for stance in stances], leave = True, desc = 'topic + stance'):\n",
    "        \n",
    "        topic = topic_stance[0]\n",
    "        stance = topic_stance[1]\n",
    "        mask_topic_stance = (df['topic'] == topic) & (df['stance'] == int(stance))\n",
    "        arguments = df[mask_topic_stance]['argument'].to_list()\n",
    "\n",
    "        ##############################\n",
    "        ### Get match score matrix ###\n",
    "        ##############################\n",
    "\n",
    "        if match_scorer == None:\n",
    "            runtime_match_scorer = 0\n",
    "        elif match_scorer != None:\n",
    "            start_time_match_scorer = time()\n",
    "            match_score_matrix = get_match_score_matrix(model = match_scorer, arguments = arguments, candidates = arguments, topic = topic, comp_strategy = 'quadratic_upper')\n",
    "            runtime_match_scorer = time() - start_time_match_scorer\n",
    "       \n",
    "        ############################\n",
    "        ### Iterate: parameter #####\n",
    "        ############################\n",
    "\n",
    "        for comb in tqdm(iter_parameter_value_combinations, leave = False,  desc = 'parameter',):\n",
    "            iterate_parameter_dict = {**parameter_dict, **dict(zip(iterate_parameter_names, list(comb)))}\n",
    "\n",
    "            ########################\n",
    "            ### Get Clusters #######\n",
    "            ########################\n",
    "\n",
    "            start_time_clustering = time()\n",
    "            if match_scorer == None:\n",
    "                cluster_ids = [int(id) for id in get_clusters_callable(arguments = arguments, **iterate_parameter_dict)]\n",
    "            elif match_scorer != None:\n",
    "                cluster_ids = [int(id) for id in get_clusters_callable(match_score_matrix = match_score_matrix, **iterate_parameter_dict)]\n",
    "            runtime_clustering = time() - start_time_clustering\n",
    "            \n",
    "            results['clustering'][str(comb)][topic][stance]['cluster_ids'] = cluster_ids\n",
    "            results['clustering'][str(comb)][topic][stance]['runtime'] = np.round(runtime_match_scorer + runtime_clustering, 2)\n",
    "\n",
    "            ########################\n",
    "            ### Get It. Clusters ###\n",
    "            ########################\n",
    "\n",
    "            if iterative_clustering == True:\n",
    "                start_time_it_clustering = time()\n",
    "                it_cluster_ids = get_iterative_clusters(arguments = arguments, cluster_ids = cluster_ids, threshold = 0)\n",
    "                runtime_it_clustering = time() - start_time_it_clustering\n",
    "\n",
    "                results['iterative_clustering'][str(comb)][topic][stance]['cluster_ids'] = it_cluster_ids\n",
    "                results['iterative_clustering'][str(comb)][topic][stance]['runtime'] = np.round(runtime_match_scorer + runtime_clustering + runtime_it_clustering, 2)\n",
    "\n",
    "    ########################\n",
    "    ### Save results #######\n",
    "    ########################\n",
    "\n",
    "    if (output_dir != None) and (file_name != None):\n",
    "        if not os.path.exists(output_dir):\n",
    "            os.makedirs(output_dir)\n",
    "        with open(output_dir + '/' + file_name, 'w') as file:\n",
    "            json.dump(results, file)\n",
    "    \n",
    "    return results\n",
    "\n",
    "def eval_cluster_separation(df, cluster_dict, output_dir = None, file_name = None):\n",
    "    \n",
    "    if 'key_point' in df.columns:\n",
    "        arg_sum_col = 'key_point'\n",
    "    elif 'summary' in df.columns:\n",
    "        arg_sum_col = 'summary'\n",
    "\n",
    "    # Get unique topics and stances\n",
    "    topics = df['topic'].unique().tolist()\n",
    "    stances = [str(int(sta)) for sta in sorted(df['stance'].unique())] \n",
    "\n",
    "    # Get parameter combinations\n",
    "    iter_parameter_names = cluster_dict['parameter_names']\n",
    "    iter_parameter_values = cluster_dict['parameter_values']\n",
    "    iter_parameter_value_combinations = list(product(*iter_parameter_values))\n",
    "\n",
    "    # Create empty dict to store the clusters\n",
    "    results = dict(zip(['clustering', 'iterative_clustering', 'parameter_names', 'parameter_values'], [dict(zip([str(comb) for comb in iter_parameter_value_combinations], [dict(zip(['noise', 'no_noise'], [dict(zip(topics, [dict(zip(stances, [dict(zip(['ari', 'comp', 'prop_clustered', 'runtime', 'n_clusters'], [None, None, None, None, None])) for i in range(len(stances))])) for i in range(len(topics))])) for i in range(len(['noise', 'no_noise']))])) for i in range(len(iter_parameter_value_combinations))])), dict(zip([str(comb) for comb in iter_parameter_value_combinations], [dict(zip(topics, [dict(zip(stances, [dict(zip(['ari', 'comp', 'prop_clustered', 'runtime', 'n_clusters'], [None, None, None, None, None])) for i in range(len(stances))])) for i in range(len(topics))])) for i in range(len(iter_parameter_value_combinations))])), iter_parameter_names, iter_parameter_values]))\n",
    "\n",
    "    ################################\n",
    "    ### Iterate: topic & stance ####\n",
    "    ################################\n",
    "\n",
    "    for topic_stance in tqdm([(topic, stance) for topic in topics for stance in stances], leave = True, desc = 'topic + stance'):\n",
    "        \n",
    "        topic = topic_stance[0]\n",
    "        stance = topic_stance[1]\n",
    "        mask_topic_stance = (df['topic'] == topic) & (df['stance'] == int(stance))\n",
    "        reference_sums_num = [dict(zip(df[mask_topic_stance][arg_sum_col].unique(), [i for i in range(len(df[mask_topic_stance][arg_sum_col].unique()))]))[sum] for sum in df[mask_topic_stance][arg_sum_col]]\n",
    "        \n",
    "        ############################\n",
    "        ### Iterate: parameter #####\n",
    "        ############################\n",
    "\n",
    "        for comb in iter_parameter_value_combinations:\n",
    "\n",
    "            cluster_ids_noise = cluster_dict['clustering'][str(comb)][topic][stance]['cluster_ids']\n",
    "            results['clustering'][str(comb)]['noise'][topic][stance]['ari'] = float(np.round(adjusted_rand_score(reference_sums_num, cluster_ids_noise), 4))\n",
    "            results['clustering'][str(comb)]['noise'][topic][stance]['comp'] = float(np.round(completeness_score(reference_sums_num, cluster_ids_noise), 4))\n",
    "            results['clustering'][str(comb)]['noise'][topic][stance]['prop_clustered'] = 1.0\n",
    "            results['clustering'][str(comb)]['noise'][topic][stance]['runtime'] = cluster_dict['clustering'][str(comb)][topic][stance]['runtime']\n",
    "            results['clustering'][str(comb)]['noise'][topic][stance]['n_clusters'] = len(set(cluster_ids_noise))\n",
    "\n",
    "            cluster_ids_no_noise = [cluster_ids_noise[i] for i in range(len(cluster_ids_noise)) if cluster_ids_noise[i] != -1]\n",
    "            reference_sums_num_no_noise = [reference_sums_num[i] for i in range(len(cluster_ids_noise)) if cluster_ids_noise[i] != -1]\n",
    "            prop_clustered_no_noise = float(np.round(len(cluster_ids_no_noise)/len(cluster_ids_noise), 4))\n",
    "            results['clustering'][str(comb)]['no_noise'][topic][stance]['ari'] = float(np.round(adjusted_rand_score(reference_sums_num_no_noise, cluster_ids_no_noise), 4))\n",
    "            results['clustering'][str(comb)]['no_noise'][topic][stance]['comp'] = float(np.round(completeness_score(reference_sums_num_no_noise, cluster_ids_no_noise), 4))\n",
    "            results['clustering'][str(comb)]['no_noise'][topic][stance]['prop_clustered'] = prop_clustered_no_noise\n",
    "            results['clustering'][str(comb)]['no_noise'][topic][stance]['runtime'] = cluster_dict['clustering'][str(comb)][topic][stance]['runtime']\n",
    "            results['clustering'][str(comb)]['no_noise'][topic][stance]['n_clusters'] = len(set(cluster_ids_no_noise))\n",
    "            try:\n",
    "                it_cluster_ids = cluster_dict['iterative_clustering'][str(comb)][topic][stance]['cluster_ids']\n",
    "                results['iterative_clustering'][str(comb)][topic][stance]['ari'] = float(np.round(adjusted_rand_score(reference_sums_num, it_cluster_ids), 4))\n",
    "                results['iterative_clustering'][str(comb)][topic][stance]['comp'] = float(np.round(completeness_score(reference_sums_num, it_cluster_ids), 4))\n",
    "                results['iterative_clustering'][str(comb)][topic][stance]['prop_clustered'] = 1.0\n",
    "                results['iterative_clustering'][str(comb)][topic][stance]['runtime'] = cluster_dict['iterative_clustering'][str(comb)][topic][stance]['runtime']\n",
    "                results['iterative_clustering'][str(comb)][topic][stance]['n_clusters'] = len(set(it_cluster_ids))\n",
    "            except:\n",
    "                pass\n",
    "\n",
    "    ########################\n",
    "    ### Save results #######\n",
    "    ########################\n",
    "\n",
    "    if (output_dir != None) and (file_name != None):\n",
    "        if not os.path.exists(output_dir):\n",
    "            os.makedirs(output_dir)\n",
    "        with open(output_dir + '/' + file_name, 'w') as file:\n",
    "            json.dump(results, file)\n",
    "    \n",
    "    return results\n",
    "\n",
    "def read_eval_dict(df, eval_dict, specification):\n",
    "\n",
    "    topics = df['topic'].unique().tolist()\n",
    "    stances = df['stance'].unique().tolist() \n",
    "\n",
    "    parameter_names = eval_dict['parameter_names']\n",
    "    parameter_values = eval_dict['parameter_values']\n",
    "    parameter_value_combinations = list(product(*parameter_values))\n",
    "\n",
    "    topics_stances = [top_sta for top_sta in product(topics, [str(int(sta)) for sta in sorted(stances)])]\n",
    "\n",
    "    ari = []\n",
    "    comp = []\n",
    "    prop_clustered = []\n",
    "    runtime = []\n",
    "    n_clusters = []\n",
    "\n",
    "    for topic_stance in topics_stances:\n",
    "        topic = topic_stance[0]\n",
    "        stance = topic_stance[1]\n",
    "\n",
    "        ari_topic_stance = []\n",
    "        comp_topic_stance = []\n",
    "        prop_clustered_topic_stance = []\n",
    "        runtime_topic_stance = []\n",
    "        n_clusters_topic_stance = []\n",
    "\n",
    "        for parameter_values_combination in parameter_value_combinations:\n",
    "\n",
    "            if specification == 'iterative_clustering':\n",
    "                ari_topic_stance.append(eval_dict['iterative_clustering'][str(parameter_values_combination)][topic][stance]['ari'])\n",
    "                comp_topic_stance.append(eval_dict['iterative_clustering'][str(parameter_values_combination)][topic][stance]['comp'])\n",
    "                prop_clustered_topic_stance.append(eval_dict['iterative_clustering'][str(parameter_values_combination)][topic][stance]['prop_clustered'])\n",
    "                runtime_topic_stance.append(eval_dict['iterative_clustering'][str(parameter_values_combination)][topic][stance]['runtime'])\n",
    "                n_clusters_topic_stance.append(eval_dict['iterative_clustering'][str(parameter_values_combination)][topic][stance]['n_clusters'])\n",
    "            \n",
    "            elif specification == 'clustering_noise':\n",
    "                ari_topic_stance.append(eval_dict['clustering'][str(parameter_values_combination)]['noise'][topic][stance]['ari'])\n",
    "                comp_topic_stance.append(eval_dict['clustering'][str(parameter_values_combination)]['noise'][topic][stance]['comp'])\n",
    "                prop_clustered_topic_stance.append(eval_dict['clustering'][str(parameter_values_combination)]['noise'][topic][stance]['prop_clustered'])  \n",
    "                runtime_topic_stance.append(eval_dict['clustering'][str(parameter_values_combination)]['noise'][topic][stance]['runtime'])  \n",
    "                n_clusters_topic_stance.append(eval_dict['clustering'][str(parameter_values_combination)]['noise'][topic][stance]['n_clusters'])\n",
    "\n",
    "\n",
    "            elif specification == 'clustering_no_noise':\n",
    "                ari_topic_stance.append(eval_dict['clustering'][str(parameter_values_combination)]['no_noise'][topic][stance]['ari'])\n",
    "                comp_topic_stance.append(eval_dict['clustering'][str(parameter_values_combination)]['no_noise'][topic][stance]['comp'])\n",
    "                prop_clustered_topic_stance.append(eval_dict['clustering'][str(parameter_values_combination)]['no_noise'][topic][stance]['prop_clustered'])  \n",
    "                runtime_topic_stance.append(eval_dict['clustering'][str(parameter_values_combination)]['no_noise'][topic][stance]['runtime']) \n",
    "                n_clusters_topic_stance.append(eval_dict['clustering'][str(parameter_values_combination)]['no_noise'][topic][stance]['n_clusters'])            \n",
    "\n",
    "        ari.append(ari_topic_stance)\n",
    "        comp.append(comp_topic_stance)\n",
    "        prop_clustered.append(prop_clustered_topic_stance)\n",
    "        runtime.append(runtime_topic_stance)\n",
    "        n_clusters.append(n_clusters_topic_stance)\n",
    "\n",
    "    return ari, comp, prop_clustered, n_clusters, runtime, parameter_names, parameter_value_combinations, topics_stances\n",
    "\n",
    "def get_results(df, system_names, path, file_names, t_prop_clustered = 0.75):\n",
    "    \n",
    "    ari_systems = []\n",
    "    comp_systems = []\n",
    "    prop_clustered_systems = []\n",
    "    n_clusters_systems = []\n",
    "    runtime_systems = []\n",
    "    parameter_value_combinations_systems = []\n",
    "    parameter_names_systems = []\n",
    "    topics_stances_system = []\n",
    "\n",
    "    for i in range(len(system_names)):\n",
    "\n",
    "        with open(path + file_names[i]) as f:\n",
    "            clusters = json.load(f)\n",
    "        eval = eval_cluster_separation(df = df, cluster_dict = clusters)\n",
    "        \n",
    "        ari_specification = []\n",
    "        comp_specification = []\n",
    "        prop_clustered_specification = []\n",
    "        n_clusters_specification = []\n",
    "        runtime_specification = []\n",
    "        parameter_value_combinations_specification = []\n",
    "\n",
    "        for specification in ['clustering_no_noise', 'clustering_noise', 'iterative_clustering']:\n",
    "\n",
    "            ari, comp, prop_clustered, n_clusters, runtime, parameter_names, parameter_value_combinations, topics_stances = read_eval_dict(df = df, eval_dict = eval, specification = specification)\n",
    "            ari_top_sta = []\n",
    "            comp_top_sta = []\n",
    "            prop_clustered_top_sta = []\n",
    "            n_clusters_top_sta = []\n",
    "            runtime_top_sta = []\n",
    "            parameter_value_combinations_top_sta = []\n",
    "\n",
    "            for j in range(len(ari)):\n",
    "                \n",
    "                if specification == 'clustering_no_noise':\n",
    "                \n",
    "                    idx_t_prop_clustered  = [i for i in range(len(prop_clustered[j])) if prop_clustered[j][i] >= t_prop_clustered]\n",
    "                    ari_t_prop_clustered  = [ari[j][i] for i in range(len(ari[j])) if i in idx_t_prop_clustered]\n",
    "                    best_ari_idx = idx_t_prop_clustered[np.argmax(ari_t_prop_clustered)]\n",
    "\n",
    "                elif specification in ['clustering_noise', 'iterative_clustering']:\n",
    "                    try:\n",
    "                        best_ari_idx = np.argmax(ari[j])\n",
    "                    except:\n",
    "                        pass\n",
    "\n",
    "                ari_top_sta.append(ari[j][best_ari_idx])\n",
    "                comp_top_sta.append(comp[j][best_ari_idx])\n",
    "                prop_clustered_top_sta.append(prop_clustered[j][best_ari_idx])\n",
    "                n_clusters_top_sta.append(n_clusters[j][best_ari_idx])\n",
    "                runtime_top_sta.append(runtime[j][best_ari_idx])\n",
    "                parameter_value_combinations_top_sta.append(parameter_value_combinations[best_ari_idx])\n",
    "            \n",
    "            ari_specification.append(ari_top_sta)\n",
    "            comp_specification.append(comp_top_sta)\n",
    "            prop_clustered_specification.append(prop_clustered_top_sta)\n",
    "            n_clusters_specification.append(n_clusters_top_sta)\n",
    "            runtime_specification.append(runtime_top_sta)\n",
    "            parameter_value_combinations_specification.append(parameter_value_combinations_top_sta)\n",
    "        \n",
    "        ari_systems.append(ari_specification)\n",
    "        comp_systems.append(comp_specification)\n",
    "        prop_clustered_systems.append(prop_clustered_specification)\n",
    "        n_clusters_systems.append(n_clusters_specification)\n",
    "        runtime_systems.append(runtime_specification)\n",
    "        parameter_value_combinations_systems.append(parameter_value_combinations_specification)\n",
    "    \n",
    "    return ari_systems, comp_systems, prop_clustered_systems, n_clusters_systems, runtime_systems, parameter_value_combinations_systems"
   ]
  },
  {
   "cell_type": "markdown",
   "metadata": {},
   "source": [
    "## Load test data"
   ]
  },
  {
   "cell_type": "code",
   "execution_count": 5,
   "metadata": {},
   "outputs": [],
   "source": [
    "ArgKP21 = load_test_df('ArgKP21')\n",
    "Debate = load_test_df('Debate')\n",
    "Debate_test = pd.read_csv('data/Debate/dataset_scores_processed_test.csv')"
   ]
  },
  {
   "cell_type": "code",
   "execution_count": 118,
   "metadata": {},
   "outputs": [
    {
     "data": {
      "image/png": "[encoded data removed]",
      "text/plain": [
       "<Figure size 1000x400 with 1 Axes>"
      ]
     },
     "metadata": {},
     "output_type": "display_data"
    }
   ],
   "source": [
    "plot_gold_cluster_sizes(df = ArgKP21, bin_width = 1)"
   ]
  },
  {
   "cell_type": "code",
   "execution_count": 119,
   "metadata": {},
   "outputs": [
    {
     "data": {
      "image/png": "[encoded data removed]",
      "text/plain": [
       "<Figure size 1000x400 with 1 Axes>"
      ]
     },
     "metadata": {},
     "output_type": "display_data"
    }
   ],
   "source": [
    "plot_gold_cluster_sizes(df = Debate, bin_width = 3)"
   ]
  },
  {
   "cell_type": "markdown",
   "metadata": {},
   "source": [
    "## Clustering"
   ]
  },
  {
   "cell_type": "markdown",
   "metadata": {},
   "source": [
    "### Summetix"
   ]
  },
  {
   "cell_type": "code",
   "execution_count": 61,
   "metadata": {},
   "outputs": [],
   "source": [
    "summetix_parameter_dict = {'threshold':[np.round(i,4) for i in np.arange(0.05,0.96,0.025)],\n",
    "                           'min_cluster_size':3}"
   ]
  },
  {
   "cell_type": "code",
   "execution_count": null,
   "metadata": {},
   "outputs": [],
   "source": [
    "argkp_summetix_clusters = get_clusters(df = ArgKP21,\n",
    "                                       get_clusters_callable = get_summetix_clusters,\n",
    "                                       parameter_dict = summetix_parameter_dict,\n",
    "                                       output_dir = 'investigations/1_argument_clusters',\n",
    "                                       file_name = 'ArgKP21_Summetix.json')"
   ]
  },
  {
   "cell_type": "code",
   "execution_count": null,
   "metadata": {},
   "outputs": [],
   "source": [
    "debate_summetix_clusters = get_clusters(df = Debate,\n",
    "                                        get_clusters_callable = get_summetix_clusters,\n",
    "                                        parameter_dict = summetix_parameter_dict,\n",
    "                                        output_dir = 'investigations/1_argument_clusters',\n",
    "                                        file_name = 'Debate_Summetix.json')"
   ]
  },
  {
   "cell_type": "code",
   "execution_count": null,
   "metadata": {},
   "outputs": [],
   "source": [
    "debate_test_summetix_clusters = get_clusters(df = Debate_test,\n",
    "                                             get_clusters_callable = get_summetix_clusters,\n",
    "                                             parameter_dict = summetix_parameter_dict,\n",
    "                                             output_dir = 'investigations/1_argument_clusters',\n",
    "                                             file_name = 'Debate_test_Summetix.json')"
   ]
  },
  {
   "cell_type": "markdown",
   "metadata": {},
   "source": [
    "### USKPM"
   ]
  },
  {
   "cell_type": "code",
   "execution_count": 4,
   "metadata": {},
   "outputs": [],
   "source": [
    "uskpm_parameter_dict = {'n_neighbors':[i for i in range(2,6)],\n",
    "                        'n_components':[i for i in range(2,6)],\n",
    "                        'min_dist':[i for i in np.arange(0,0.41, 0.2)],\n",
    "                        'min_cluster_size':3}"
   ]
  },
  {
   "cell_type": "code",
   "execution_count": null,
   "metadata": {},
   "outputs": [],
   "source": [
    "argkp_uskpm_clusters = get_clusters(df = ArgKP21,\n",
    "                                    get_clusters_callable = get_uskpm_clusters,\n",
    "                                    parameter_dict = uskpm_parameter_dict,\n",
    "                                    output_dir = 'investigations/1_argument_clusters',\n",
    "                                    file_name = 'ArgKP21_USKPM.json',\n",
    "                                    iterative_clustering = True)"
   ]
  },
  {
   "cell_type": "code",
   "execution_count": null,
   "metadata": {},
   "outputs": [],
   "source": [
    "debate_uskpm_clusters = get_clusters(df = Debate,\n",
    "                                     get_clusters_callable = get_uskpm_clusters,\n",
    "                                     parameter_dict = uskpm_parameter_dict,\n",
    "                                     output_dir = 'investigations/1_argument_clusters',\n",
    "                                     file_name = 'Debate_USKPM.json',\n",
    "                                     iterative_clustering = True)"
   ]
  },
  {
   "cell_type": "code",
   "execution_count": 5,
   "metadata": {},
   "outputs": [
    {
     "data": {
      "application/vnd.jupyter.widget-view+json": {
       "model_id": "847defdbd72d484fb539093dfbe24527",
       "version_major": 2,
       "version_minor": 0
      },
      "text/plain": [
       "topic + stance:   0%|          | 0/8 [00:00<?, ?it/s]"
      ]
     },
     "metadata": {},
     "output_type": "display_data"
    },
    {
     "data": {
      "application/vnd.jupyter.widget-view+json": {
       "model_id": "d075e255b3334f8d93ad1f99f1f10b0f",
       "version_major": 2,
       "version_minor": 0
      },
      "text/plain": [
       "parameter:   0%|          | 0/48 [00:00<?, ?it/s]"
      ]
     },
     "metadata": {},
     "output_type": "display_data"
    },
    {
     "data": {
      "application/vnd.jupyter.widget-view+json": {
       "model_id": "6d765f02461642a6be945d19f32dae82",
       "version_major": 2,
       "version_minor": 0
      },
      "text/plain": [
       "parameter:   0%|          | 0/48 [00:00<?, ?it/s]"
      ]
     },
     "metadata": {},
     "output_type": "display_data"
    },
    {
     "data": {
      "application/vnd.jupyter.widget-view+json": {
       "model_id": "e5f389290af24ccb88d155de26576dde",
       "version_major": 2,
       "version_minor": 0
      },
      "text/plain": [
       "parameter:   0%|          | 0/48 [00:00<?, ?it/s]"
      ]
     },
     "metadata": {},
     "output_type": "display_data"
    },
    {
     "data": {
      "application/vnd.jupyter.widget-view+json": {
       "model_id": "df5d6ff9bb444348a90120257901237d",
       "version_major": 2,
       "version_minor": 0
      },
      "text/plain": [
       "parameter:   0%|          | 0/48 [00:00<?, ?it/s]"
      ]
     },
     "metadata": {},
     "output_type": "display_data"
    },
    {
     "data": {
      "application/vnd.jupyter.widget-view+json": {
       "model_id": "ac147a7676a04825ae32007de42c1b81",
       "version_major": 2,
       "version_minor": 0
      },
      "text/plain": [
       "parameter:   0%|          | 0/48 [00:00<?, ?it/s]"
      ]
     },
     "metadata": {},
     "output_type": "display_data"
    },
    {
     "data": {
      "application/vnd.jupyter.widget-view+json": {
       "model_id": "a0c79158cfda473ba72570d2c6abbfc8",
       "version_major": 2,
       "version_minor": 0
      },
      "text/plain": [
       "parameter:   0%|          | 0/48 [00:00<?, ?it/s]"
      ]
     },
     "metadata": {},
     "output_type": "display_data"
    },
    {
     "data": {
      "application/vnd.jupyter.widget-view+json": {
       "model_id": "4b5d5759336d4a369eb43c12afaa098c",
       "version_major": 2,
       "version_minor": 0
      },
      "text/plain": [
       "parameter:   0%|          | 0/48 [00:00<?, ?it/s]"
      ]
     },
     "metadata": {},
     "output_type": "display_data"
    },
    {
     "data": {
      "application/vnd.jupyter.widget-view+json": {
       "model_id": "e3fa7f35c2dd4df5b3dd58c3b86104f7",
       "version_major": 2,
       "version_minor": 0
      },
      "text/plain": [
       "parameter:   0%|          | 0/48 [00:00<?, ?it/s]"
      ]
     },
     "metadata": {},
     "output_type": "display_data"
    }
   ],
   "source": [
    "debate_test_uskpm_clusters = get_clusters(df = Debate_test,\n",
    "                                          get_clusters_callable = get_uskpm_clusters,\n",
    "                                          parameter_dict = uskpm_parameter_dict,\n",
    "                                          output_dir = 'investigations/1_argument_clusters',\n",
    "                                          file_name = 'Debate_test_USKPM.json',\n",
    "                                          iterative_clustering = True)"
   ]
  },
  {
   "cell_type": "markdown",
   "metadata": {},
   "source": [
    "### MCArgSum"
   ]
  },
  {
   "cell_type": "markdown",
   "metadata": {},
   "source": [
    "#### RoBERTa"
   ]
  },
  {
   "cell_type": "code",
   "execution_count": 77,
   "metadata": {},
   "outputs": [],
   "source": [
    "mcargsum_roberta_match_scorer= torch.load('models/match_scorer/cross_encoder/roberta_np/2024-Feb-20_08-20-28/best_model.pt')\n",
    "\n",
    "mcargsum_roberta_parameter_dict = {'threshold':[np.round(i,4) for i in np.arange(0.05,0.96,0.025)],\n",
    "                                    'min_cluster_size':3}"
   ]
  },
  {
   "cell_type": "code",
   "execution_count": null,
   "metadata": {},
   "outputs": [],
   "source": [
    "argkp_mcargsum_roberta_clusters=  get_clusters(df = ArgKP21, \n",
    "                                               get_clusters_callable = get_match_clusters, \n",
    "                                               parameter_dict = mcargsum_roberta_parameter_dict, \n",
    "                                               match_scorer = mcargsum_roberta_match_scorer,\n",
    "                                               output_dir = 'investigations/1_argument_clusters',\n",
    "                                               file_name = 'ArgKP21_MCArgSum_RoBERTa.json')"
   ]
  },
  {
   "cell_type": "code",
   "execution_count": null,
   "metadata": {},
   "outputs": [],
   "source": [
    "debate_mcargsum_roberta_clusters = get_clusters(df = Debate, \n",
    "                                                get_clusters_callable = get_match_clusters, \n",
    "                                                parameter_dict = mcargsum_roberta_parameter_dict, \n",
    "                                                match_scorer = mcargsum_roberta_match_scorer,\n",
    "                                                output_dir = 'investigations/1_argument_clusters',\n",
    "                                                file_name = 'Debate_MCArgSum_RoBERTa.json')"
   ]
  },
  {
   "cell_type": "code",
   "execution_count": null,
   "metadata": {},
   "outputs": [],
   "source": [
    "debate_test_mcargsum_roberta_clusters = get_clusters(df = Debate_test, \n",
    "                                                     get_clusters_callable = get_match_clusters, \n",
    "                                                     parameter_dict = mcargsum_roberta_parameter_dict, \n",
    "                                                     match_scorer = mcargsum_roberta_match_scorer,\n",
    "                                                     output_dir = 'investigations/1_argument_clusters',\n",
    "                                                     file_name = 'Debate_test_MCArgSum_RoBERTa.json')"
   ]
  },
  {
   "cell_type": "markdown",
   "metadata": {},
   "source": [
    "#### SBERT RoBERTa"
   ]
  },
  {
   "cell_type": "code",
   "execution_count": 79,
   "metadata": {},
   "outputs": [],
   "source": [
    "mcargsum_sbert_roberta_match_scorer = SentenceTransformer('models/match_scorer/bi_encoder/roberta_tp/2024-Feb-20_16-23-49')\n",
    "\n",
    "mcargsum_sbert_roberta_parameter_dict = {'threshold':[np.round(i,4) for i in np.arange(0.05,0.96,0.025)],\n",
    "                                         'min_cluster_size':3}"
   ]
  },
  {
   "cell_type": "code",
   "execution_count": null,
   "metadata": {},
   "outputs": [],
   "source": [
    "argkp_mcargsum_sbert_roberta__clusters = get_clusters(df = ArgKP21, \n",
    "                                                      get_clusters_callable = get_match_clusters, \n",
    "                                                      parameter_dict = mcargsum_sbert_roberta_parameter_dict,\n",
    "                                                      match_scorer = mcargsum_sbert_roberta_match_scorer,\n",
    "                                                      output_dir = 'investigations/1_argument_clusters',\n",
    "                                                      file_name = 'ArgKP21_MCArgSum_SBERT_RoBERTa.json')"
   ]
  },
  {
   "cell_type": "code",
   "execution_count": null,
   "metadata": {},
   "outputs": [],
   "source": [
    "debate_mcargsum_sbert_roberta__clusters = get_clusters(df = Debate, \n",
    "                                                       get_clusters_callable = get_match_clusters, \n",
    "                                                       parameter_dict = mcargsum_sbert_roberta_parameter_dict,\n",
    "                                                       match_scorer = mcargsum_sbert_roberta_match_scorer,\n",
    "                                                       output_dir = 'investigations/1_argument_clusters',\n",
    "                                                       file_name = 'Debate_MCArgSum_SBERT_RoBERTa.json')"
   ]
  },
  {
   "cell_type": "code",
   "execution_count": null,
   "metadata": {},
   "outputs": [],
   "source": [
    "debate_test_mcargsum_sbert_roberta__clusters = get_clusters(df = Debate_test, \n",
    "                                                            get_clusters_callable = get_match_clusters, \n",
    "                                                            parameter_dict = mcargsum_sbert_roberta_parameter_dict,\n",
    "                                                            match_scorer = mcargsum_sbert_roberta_match_scorer,\n",
    "                                                            output_dir = 'investigations/1_argument_clusters',\n",
    "                                                            file_name = 'Debate_test_MCArgSum_SBERT_RoBERTa.json')"
   ]
  },
  {
   "cell_type": "markdown",
   "metadata": {},
   "source": [
    "#### SBERT all-mpnet-base"
   ]
  },
  {
   "cell_type": "code",
   "execution_count": 47,
   "metadata": {},
   "outputs": [],
   "source": [
    "mcargsum_sbert_all_mpnet_base_match_scorer = SentenceTransformer('models/match_scorer/bi_encoder/all-mpnet-base-v2/2024-Jun-05_22-29-27')\n",
    "\n",
    "mcargsum_sbert_all_mpnet_base_parameter_dict = {'threshold':[np.round(i,4) for i in np.arange(0.05,0.96,0.025)],\n",
    "                                                  'min_cluster_size':3}"
   ]
  },
  {
   "cell_type": "code",
   "execution_count": null,
   "metadata": {},
   "outputs": [],
   "source": [
    "argkp_mcargsum_sbert_all_mpnet_base_clusters = get_clusters(df = ArgKP21, \n",
    "                                                            get_clusters_callable = get_match_clusters, \n",
    "                                                            parameter_dict = mcargsum_sbert_all_mpnet_base_parameter_dict,\n",
    "                                                            match_scorer = mcargsum_sbert_all_mpnet_base_match_scorer,\n",
    "                                                            output_dir = 'investigations/1_argument_clusters',\n",
    "                                                            file_name = 'ArgKP21_MCArgSum_SBERT_all_mpnet_base.json')"
   ]
  },
  {
   "cell_type": "code",
   "execution_count": null,
   "metadata": {},
   "outputs": [],
   "source": [
    "debate_test_mcargsum_sbert_all_mpnet_base_clusters = get_clusters(df = Debate_test,\n",
    "                                                                  get_clusters_callable = get_match_clusters, \n",
    "                                                                  parameter_dict = mcargsum_sbert_all_mpnet_base_parameter_dict,\n",
    "                                                                  match_scorer = mcargsum_sbert_all_mpnet_base_match_scorer,\n",
    "                                                                  output_dir = 'investigations/1_argument_clusters',\n",
    "                                                                  file_name = 'Debate_test_MCArgSum_SBERT_all_mpnet_base.json')"
   ]
  },
  {
   "cell_type": "markdown",
   "metadata": {},
   "source": [
    "#### DeBERTa"
   ]
  },
  {
   "cell_type": "code",
   "execution_count": 81,
   "metadata": {},
   "outputs": [],
   "source": [
    "mcargsum_deberta_match_scorer= torch.load('models/match_scorer/cross_encoder/deberta-v2_np/2024-Feb-20_13-41-02/best_model.pt')\n",
    "\n",
    "mcargsum_deberta_parameter_dict = {'threshold':[np.round(i,4) for i in np.arange(0.05,0.96,0.025)],\n",
    "                                    'min_cluster_size':3}"
   ]
  },
  {
   "cell_type": "code",
   "execution_count": null,
   "metadata": {},
   "outputs": [],
   "source": [
    "argkp_mcargsum_deberta_clusters=  get_clusters(df = ArgKP21, \n",
    "                                               get_clusters_callable = get_match_clusters, \n",
    "                                               parameter_dict = mcargsum_deberta_parameter_dict, \n",
    "                                               match_scorer = mcargsum_deberta_match_scorer,\n",
    "                                               output_dir = 'investigations/1_argument_clusters',\n",
    "                                               file_name = 'ArgKP21_MCArgSum_DeBERTa.json')"
   ]
  },
  {
   "cell_type": "code",
   "execution_count": null,
   "metadata": {},
   "outputs": [],
   "source": [
    "debate_mcargsum_deberta_clusters = get_clusters(df = Debate, \n",
    "                                                get_clusters_callable = get_match_clusters, \n",
    "                                                parameter_dict = mcargsum_deberta_parameter_dict, \n",
    "                                                match_scorer = mcargsum_deberta_match_scorer,\n",
    "                                                output_dir = 'investigations/1_argument_clusters',\n",
    "                                                file_name = 'Debate_MCArgSum_DeBERTa.json')"
   ]
  },
  {
   "cell_type": "code",
   "execution_count": null,
   "metadata": {},
   "outputs": [],
   "source": [
    "debate_test_mcargsum_deberta_clusters = get_clusters(df = Debate_test, \n",
    "                                                     get_clusters_callable = get_match_clusters, \n",
    "                                                     parameter_dict = mcargsum_deberta_parameter_dict, \n",
    "                                                     match_scorer = mcargsum_deberta_match_scorer,\n",
    "                                                     output_dir = 'investigations/1_argument_clusters',\n",
    "                                                     file_name = 'Debate_test_MCArgSum_DeBERTa.json')"
   ]
  },
  {
   "cell_type": "markdown",
   "metadata": {},
   "source": [
    "## Results"
   ]
  },
  {
   "cell_type": "code",
   "execution_count": 1,
   "metadata": {},
   "outputs": [],
   "source": [
    "system_names = ['Summetix', 'USKPM', 'MCArgSum_RoBERTa', 'MCArgSum_SBERT_RoBERTa', 'MCArgSum_SBERT_mpnet_base', 'MCArgSum DeBERTa']\n",
    "path = 'investigations/1_argument_clusters/'\n",
    "ArgKP21_file_names = ['ArgKP21_Summetix.json', 'ArgKP21_USKPM.json','ArgKP21_MCArgSum_RoBERTa.json', 'ArgKP21_MCArgSum_SBERT_RoBERTa.json', 'ArgKP21_MCArgSum_SBERT_all_mpnet_base.json', 'ArgKP21_MCArgSum_DeBERTa.json']\n",
    "Debate_test_file_names = ['Debate_test_Summetix.json', 'Debate_test_USKPM.json','Debate_test_MCArgSum_RoBERTa.json', 'Debate_test_MCArgSum_SBERT_RoBERTa.json', 'Debate_test_MCArgSum_SBERT_all_mpnet_base.json', 'Debate_test_MCArgSum_DeBERTa.json']"
   ]
  },
  {
   "cell_type": "markdown",
   "metadata": {},
   "source": [
    "### ArgKP21"
   ]
  },
  {
   "cell_type": "code",
   "execution_count": 140,
   "metadata": {},
   "outputs": [
    {
     "data": {
      "application/vnd.jupyter.widget-view+json": {
       "model_id": "497cc2e70d144c19b953b941d7075191",
       "version_major": 2,
       "version_minor": 0
      },
      "text/plain": [
       "topic + stance:   0%|          | 0/6 [00:00<?, ?it/s]"
      ]
     },
     "metadata": {},
     "output_type": "display_data"
    },
    {
     "data": {
      "application/vnd.jupyter.widget-view+json": {
       "model_id": "3701f591e20a4e80a90ed7131bf3aedc",
       "version_major": 2,
       "version_minor": 0
      },
      "text/plain": [
       "topic + stance:   0%|          | 0/6 [00:00<?, ?it/s]"
      ]
     },
     "metadata": {},
     "output_type": "display_data"
    },
    {
     "data": {
      "application/vnd.jupyter.widget-view+json": {
       "model_id": "2f344e5a7de34fab9849b602315477f3",
       "version_major": 2,
       "version_minor": 0
      },
      "text/plain": [
       "topic + stance:   0%|          | 0/6 [00:00<?, ?it/s]"
      ]
     },
     "metadata": {},
     "output_type": "display_data"
    },
    {
     "data": {
      "application/vnd.jupyter.widget-view+json": {
       "model_id": "a161c738c8d04058a47b389f70e6b64b",
       "version_major": 2,
       "version_minor": 0
      },
      "text/plain": [
       "topic + stance:   0%|          | 0/6 [00:00<?, ?it/s]"
      ]
     },
     "metadata": {},
     "output_type": "display_data"
    },
    {
     "data": {
      "application/vnd.jupyter.widget-view+json": {
       "model_id": "7ef3ada10aa24215bcb72e7c1ce1e552",
       "version_major": 2,
       "version_minor": 0
      },
      "text/plain": [
       "topic + stance:   0%|          | 0/6 [00:00<?, ?it/s]"
      ]
     },
     "metadata": {},
     "output_type": "display_data"
    },
    {
     "data": {
      "application/vnd.jupyter.widget-view+json": {
       "model_id": "355ae430f51a400fba976e2ef88daddf",
       "version_major": 2,
       "version_minor": 0
      },
      "text/plain": [
       "topic + stance:   0%|          | 0/6 [00:00<?, ?it/s]"
      ]
     },
     "metadata": {},
     "output_type": "display_data"
    }
   ],
   "source": [
    "ari_systems, comp_systems, prop_clustered_systems, n_clusters_systems, runtime_systems, parameter_value_combinations_systems = get_results(df = ArgKP21, \n",
    "                                                                                                                                           system_names = system_names, \n",
    "                                                                                                                                           path = path, \n",
    "                                                                                                                                           file_names = ArgKP21_file_names)"
   ]
  },
  {
   "cell_type": "code",
   "execution_count": 141,
   "metadata": {},
   "outputs": [
    {
     "data": {
      "image/png": "[encoded data removed]",
      "text/plain": [
       "<Figure size 800x300 with 1 Axes>"
      ]
     },
     "metadata": {},
     "output_type": "display_data"
    }
   ],
   "source": [
    "mean_aris_systems = []\n",
    "std_aris_systems = []\n",
    "for i in range(len(ari_systems)-1):\n",
    "    mean_aris_scenarios = []\n",
    "    std_aris_scenarios = []\n",
    "    for s in [0,1,2]:   \n",
    "        try:\n",
    "            mean_aris_scenarios.append(np.mean(ari_systems[i][s]))\n",
    "            std_aris_scenarios.append(np.std(ari_systems[i][s]))\n",
    "        except:\n",
    "            pass\n",
    "    mean_aris_systems.append(mean_aris_scenarios)\n",
    "    std_aris_systems.append(std_aris_scenarios)\n",
    "\n",
    "plt.figure(figsize=(8,3))\n",
    "\n",
    "plt.bar(0 + 0, mean_aris_systems[0][0], color = 'tab:blue', width = 0.4, label = 'Excl. Noise', edgecolor = 'black', linewidth = 0.5, alpha = 0.9)\n",
    "plt.bar(0 + 0.42, mean_aris_systems[0][1], color = 'tab:orange', width = 0.4, label = 'Incl. Noise', edgecolor = 'black', linewidth = 0.5, alpha = 0.9)\n",
    "\n",
    "plt.text(0 - 0.185 + 0.035, mean_aris_systems[0][0] + 0.062, f'{np.round(mean_aris_systems[0][0], 3)}00'[0:5], fontsize = 11.5)\n",
    "plt.text(0 - 0.185, mean_aris_systems[0][0] + 0.012, r'$\\pm$' + f'{np.round(std_aris_systems[0][0], 3)}00'[0:5], fontsize = 10.5)\n",
    "plt.text(0 + 0.42 - 0.185 + 0.035, mean_aris_systems[0][1] + 0.062, f'{np.round(mean_aris_systems[0][1], 3)}00'[0:5], fontsize = 11.5)\n",
    "plt.text(0 + 0.42 - 0.185, mean_aris_systems[0][1] + 0.012, r'$\\pm$' + f'{np.round(std_aris_systems[0][1], 3)}00'[0:5], fontsize = 10.5)\n",
    "\n",
    "plt.bar(1, mean_aris_systems[1][0], color = 'tab:blue', width = 0.4, edgecolor = 'black', linewidth = 0.5, alpha = 0.9)\n",
    "plt.bar(1 + 0.42, mean_aris_systems[1][1], color = 'tab:orange', width = 0.4, edgecolor = 'black', linewidth = 0.5, alpha = 0.9)\n",
    "plt.bar(1 + 0.84, mean_aris_systems[1][2], color = 'tab:green', width = 0.4, edgecolor = 'black', linewidth = 0.5, alpha = 0.9, label = 'IC')\n",
    "\n",
    "plt.text(1 - 0.185 + 0.035, mean_aris_systems[1][0] + 0.062, f'{np.round(mean_aris_systems[1][0], 3)}00'[0:5], fontsize = 11.5)\n",
    "plt.text(1 - 0.185, mean_aris_systems[1][0] + 0.012, r'$\\pm$' + f'{np.round(std_aris_systems[1][0], 3)}00'[0:5], fontsize = 10.5)\n",
    "plt.text(1 + 0.42 - 0.185 + 0.035, mean_aris_systems[1][1] + 0.062, f'{np.round(mean_aris_systems[1][1], 3)}00'[0:5], fontsize = 11.5)\n",
    "plt.text(1 + 0.42 - 0.185, mean_aris_systems[1][1] + 0.012, r'$\\pm$' + f'{np.round(std_aris_systems[1][1], 3)}00'[0:5], fontsize = 10.5)\n",
    "plt.text(1 + 0.84 - 0.185 + 0.035, mean_aris_systems[1][2] + 0.062, f'{np.round(mean_aris_systems[1][2], 3)}00'[0:5], fontsize = 11.5)\n",
    "plt.text(1 + 0.84 - 0.185, mean_aris_systems[1][2] + 0.012, r'$\\pm$' + f'{np.round(std_aris_systems[1][2], 3)}00'[0:5], fontsize = 10.5)\n",
    "\n",
    "plt.bar(2 + 0.42, mean_aris_systems[4][0], color = 'tab:blue', width = 0.4, edgecolor = 'black', linewidth = 0.5, alpha = 0.9)\n",
    "plt.bar(2 + 0.84, mean_aris_systems[4][1], color = 'tab:orange', width = 0.4, edgecolor = 'black', linewidth = 0.5, alpha = 0.9)\n",
    "\n",
    "plt.text(2 + 0.42 - 0.185 + 0.035, mean_aris_systems[4][0] + 0.062, f'{np.round(mean_aris_systems[4][0], 3)}00'[0:5], fontsize = 11.5)\n",
    "plt.text(2 + 0.42 - 0.185, mean_aris_systems[4][0] + 0.012, r'$\\pm$' + f'{np.round(std_aris_systems[4][0], 3)}00'[0:5], fontsize = 10.5)\n",
    "plt.text(2 + 0.84 - 0.185 + 0.035, mean_aris_systems[4][1] + 0.062, f'{np.round(mean_aris_systems[4][1], 3)}00'[0:5], fontsize = 11.5)\n",
    "plt.text(2 + 0.84 - 0.185, mean_aris_systems[4][1] + 0.012, r'$\\pm$' + f'{np.round(std_aris_systems[4][1], 3)}00'[0:5], fontsize = 10.5)\n",
    "\n",
    "plt.bar(3 + 0.42, mean_aris_systems[2][0], color = 'tab:blue', width = 0.4, edgecolor = 'black', linewidth = 0.5, alpha = 0.9)\n",
    "plt.bar(3 + 0.84, mean_aris_systems[2][1], color = 'tab:orange', width = 0.4, edgecolor = 'black', linewidth = 0.5, alpha = 0.9)\n",
    "\n",
    "plt.text(3 + 0.42 - 0.185 + 0.035, mean_aris_systems[2][0] + 0.062, f'{np.round(mean_aris_systems[2][0], 3)}00'[0:5], fontsize = 11.5)\n",
    "plt.text(3 + 0.42 - 0.185, mean_aris_systems[2][0] + 0.012, r'$\\pm$' + f'{np.round(std_aris_systems[2][0], 3)}00'[0:5], fontsize = 10.5)\n",
    "plt.text(3 + 0.84 - 0.185 + 0.035, mean_aris_systems[2][1] + 0.062, f'{np.round(mean_aris_systems[2][1], 3)}00'[0:5], fontsize = 11.5)\n",
    "plt.text(3 + 0.84 - 0.185, mean_aris_systems[2][1] + 0.012, r'$\\pm$' + f'{np.round(std_aris_systems[2][1], 3)}00'[0:5], fontsize = 10.5)\n",
    "\n",
    "plt.bar(4 + 0.42, mean_aris_systems[3][0], color = 'tab:blue', width = 0.4, edgecolor = 'black', linewidth = 0.5, alpha = 0.9)\n",
    "plt.bar(4 + 0.84, mean_aris_systems[3][1], color = 'tab:orange', width = 0.4, edgecolor = 'black', linewidth = 0.5, alpha = 0.9)\n",
    "\n",
    "plt.text(4 + 0.42 - 0.185 + 0.035, mean_aris_systems[3][0] + 0.062, f'{np.round(mean_aris_systems[3][0], 3)}00'[0:5], fontsize = 11.5)\n",
    "plt.text(4 + 0.42 - 0.185, mean_aris_systems[3][0] + 0.012, r'$\\pm$' + f'{np.round(std_aris_systems[3][0], 3)}00'[0:5], fontsize = 10.5)\n",
    "plt.text(4 + 0.84 - 0.185 + 0.035, mean_aris_systems[3][1] + 0.062, f'{np.round(mean_aris_systems[3][1], 3)}00'[0:5], fontsize = 11.5)\n",
    "plt.text(4 + 0.84 - 0.185, mean_aris_systems[3][1] + 0.012, r'$\\pm$' + f'{np.round(std_aris_systems[3][1], 3)}00'[0:5], fontsize = 10.5)\n",
    "\n",
    "\n",
    "plt.grid(axis = 'y', linestyle = '--', alpha = 0.5)\n",
    "plt.xticks(ticks = [0.21, 1.42, 2.63, 3.63, 4.63], labels = ['Summetix', 'USKPM', 'MCArgSum', 'MCArgSum\\n(BarH)', 'MCArgSum\\n(SMatchToPr)'], fontsize = 12)\n",
    "plt.yticks(fontsize = 11, ticks = [i for i in np.arange(0,0.91,0.1)])\n",
    "plt.ylabel('ARI', fontsize = 12)\n",
    "plt.legend(loc='upper center', bbox_to_anchor=(0.5, 1.2), ncol = 3, fontsize = 11, fancybox = True)\n",
    "\n",
    "plt.show()"
   ]
  },
  {
   "cell_type": "code",
   "execution_count": 46,
   "metadata": {},
   "outputs": [
    {
     "name": "stdout",
     "output_type": "stream",
     "text": [
      "Summetix\n"
     ]
    },
    {
     "data": {
      "text/html": [
       "<div>\n",
       "<style scoped>\n",
       "    .dataframe tbody tr th:only-of-type {\n",
       "        vertical-align: middle;\n",
       "    }\n",
       "\n",
       "    .dataframe tbody tr th {\n",
       "        vertical-align: top;\n",
       "    }\n",
       "\n",
       "    .dataframe thead th {\n",
       "        text-align: right;\n",
       "    }\n",
       "</style>\n",
       "<table border=\"1\" class=\"dataframe\">\n",
       "  <thead>\n",
       "    <tr style=\"text-align: right;\">\n",
       "      <th></th>\n",
       "      <th>ARI</th>\n",
       "      <th>Std</th>\n",
       "      <th>COMP</th>\n",
       "      <th>Std</th>\n",
       "      <th>Prop. Clustered</th>\n",
       "      <th>Std</th>\n",
       "      <th>Runtime</th>\n",
       "      <th>Std</th>\n",
       "    </tr>\n",
       "  </thead>\n",
       "  <tbody>\n",
       "    <tr>\n",
       "      <th>clustering_no_noise</th>\n",
       "      <td>0.300</td>\n",
       "      <td>0.244</td>\n",
       "      <td>0.469</td>\n",
       "      <td>0.178</td>\n",
       "      <td>0.859</td>\n",
       "      <td>0.089</td>\n",
       "      <td>0.675</td>\n",
       "      <td>0.044</td>\n",
       "    </tr>\n",
       "    <tr>\n",
       "      <th>clustering_noise</th>\n",
       "      <td>0.298</td>\n",
       "      <td>0.227</td>\n",
       "      <td>0.412</td>\n",
       "      <td>0.152</td>\n",
       "      <td>1.000</td>\n",
       "      <td>0.000</td>\n",
       "      <td>0.645</td>\n",
       "      <td>0.024</td>\n",
       "    </tr>\n",
       "  </tbody>\n",
       "</table>\n",
       "</div>"
      ],
      "text/plain": [
       "                       ARI    Std   COMP    Std  Prop. Clustered    Std  \\\n",
       "clustering_no_noise  0.300  0.244  0.469  0.178            0.859  0.089   \n",
       "clustering_noise     0.298  0.227  0.412  0.152            1.000  0.000   \n",
       "\n",
       "                     Runtime    Std  \n",
       "clustering_no_noise    0.675  0.044  \n",
       "clustering_noise       0.645  0.024  "
      ]
     },
     "execution_count": 46,
     "metadata": {},
     "output_type": "execute_result"
    }
   ],
   "source": [
    "system_idx = 0\n",
    "\n",
    "print(system_names[system_idx])\n",
    "\n",
    "index = ['ARI', 'Std', 'COMP', 'Std', 'Prop. Clustered', 'Std', 'Runtime', 'Std']\n",
    "values = [np.round(np.mean(ari_systems[system_idx][0:2], axis = 1), 3), \n",
    "          np.round(np.std(ari_systems[system_idx][0:2], axis = 1), 3), \n",
    "          np.round(np.mean(comp_systems[system_idx][0:2], axis = 1), 3), \n",
    "          np.round(np.std(comp_systems[system_idx][0:2], axis = 1), 3), \n",
    "          np.round(np.mean(prop_clustered_systems[system_idx][0:2], axis = 1), 3),\n",
    "          np.round(np.std(prop_clustered_systems[system_idx][0:2], axis = 1), 3),\n",
    "          np.round(np.mean(runtime_systems[system_idx][0:2], axis = 1), 3),\n",
    "          np.round(np.std(runtime_systems[system_idx][0:2], axis = 1), 3)]\n",
    "\n",
    "pd.DataFrame(values, columns = ['clustering_no_noise', 'clustering_noise'], index = index).T"
   ]
  },
  {
   "cell_type": "code",
   "execution_count": 49,
   "metadata": {},
   "outputs": [
    {
     "name": "stdout",
     "output_type": "stream",
     "text": [
      "USKPM\n"
     ]
    },
    {
     "data": {
      "text/html": [
       "<div>\n",
       "<style scoped>\n",
       "    .dataframe tbody tr th:only-of-type {\n",
       "        vertical-align: middle;\n",
       "    }\n",
       "\n",
       "    .dataframe tbody tr th {\n",
       "        vertical-align: top;\n",
       "    }\n",
       "\n",
       "    .dataframe thead th {\n",
       "        text-align: right;\n",
       "    }\n",
       "</style>\n",
       "<table border=\"1\" class=\"dataframe\">\n",
       "  <thead>\n",
       "    <tr style=\"text-align: right;\">\n",
       "      <th></th>\n",
       "      <th>ARI</th>\n",
       "      <th>Std</th>\n",
       "      <th>COMP</th>\n",
       "      <th>Std</th>\n",
       "      <th>Prop. Clustered</th>\n",
       "      <th>Std</th>\n",
       "      <th>Runtime</th>\n",
       "      <th>Std</th>\n",
       "    </tr>\n",
       "  </thead>\n",
       "  <tbody>\n",
       "    <tr>\n",
       "      <th>clustering_no_noise</th>\n",
       "      <td>0.273</td>\n",
       "      <td>0.045</td>\n",
       "      <td>0.405</td>\n",
       "      <td>0.101</td>\n",
       "      <td>0.884</td>\n",
       "      <td>0.079</td>\n",
       "      <td>1.417</td>\n",
       "      <td>0.136</td>\n",
       "    </tr>\n",
       "    <tr>\n",
       "      <th>clustering_noise</th>\n",
       "      <td>0.253</td>\n",
       "      <td>0.057</td>\n",
       "      <td>0.375</td>\n",
       "      <td>0.100</td>\n",
       "      <td>1.000</td>\n",
       "      <td>0.000</td>\n",
       "      <td>1.478</td>\n",
       "      <td>0.113</td>\n",
       "    </tr>\n",
       "    <tr>\n",
       "      <th>iterative_clustering</th>\n",
       "      <td>0.268</td>\n",
       "      <td>0.052</td>\n",
       "      <td>0.397</td>\n",
       "      <td>0.108</td>\n",
       "      <td>1.000</td>\n",
       "      <td>0.000</td>\n",
       "      <td>4.377</td>\n",
       "      <td>4.378</td>\n",
       "    </tr>\n",
       "  </tbody>\n",
       "</table>\n",
       "</div>"
      ],
      "text/plain": [
       "                        ARI    Std   COMP    Std  Prop. Clustered    Std  \\\n",
       "clustering_no_noise   0.273  0.045  0.405  0.101            0.884  0.079   \n",
       "clustering_noise      0.253  0.057  0.375  0.100            1.000  0.000   \n",
       "iterative_clustering  0.268  0.052  0.397  0.108            1.000  0.000   \n",
       "\n",
       "                      Runtime    Std  \n",
       "clustering_no_noise     1.417  0.136  \n",
       "clustering_noise        1.478  0.113  \n",
       "iterative_clustering    4.377  4.378  "
      ]
     },
     "execution_count": 49,
     "metadata": {},
     "output_type": "execute_result"
    }
   ],
   "source": [
    "system_idx = 1\n",
    "\n",
    "print(system_names[system_idx])\n",
    "\n",
    "index = ['ARI', 'Std', 'COMP', 'Std', 'Prop. Clustered', 'Std', 'Runtime', 'Std']\n",
    "values = [np.round(np.mean(ari_systems[system_idx][0:3], axis = 1), 3), \n",
    "          np.round(np.std(ari_systems[system_idx][0:3], axis = 1), 3), \n",
    "          np.round(np.mean(comp_systems[system_idx][0:3], axis = 1), 3), \n",
    "          np.round(np.std(comp_systems[system_idx][0:3], axis = 1), 3), \n",
    "          np.round(np.mean(prop_clustered_systems[system_idx][0:3], axis = 1), 3),\n",
    "          np.round(np.std(prop_clustered_systems[system_idx][0:3], axis = 1), 3),\n",
    "          np.round(np.mean(runtime_systems[system_idx][0:3], axis = 1), 3),\n",
    "          np.round(np.std(runtime_systems[system_idx][0:3], axis = 1), 3)]\n",
    "\n",
    "pd.DataFrame(values, columns = ['clustering_no_noise', 'clustering_noise', 'iterative_clustering'], index = index).T"
   ]
  },
  {
   "cell_type": "code",
   "execution_count": 50,
   "metadata": {},
   "outputs": [
    {
     "name": "stdout",
     "output_type": "stream",
     "text": [
      "MCArgSum_RoBERTa\n"
     ]
    },
    {
     "data": {
      "text/html": [
       "<div>\n",
       "<style scoped>\n",
       "    .dataframe tbody tr th:only-of-type {\n",
       "        vertical-align: middle;\n",
       "    }\n",
       "\n",
       "    .dataframe tbody tr th {\n",
       "        vertical-align: top;\n",
       "    }\n",
       "\n",
       "    .dataframe thead th {\n",
       "        text-align: right;\n",
       "    }\n",
       "</style>\n",
       "<table border=\"1\" class=\"dataframe\">\n",
       "  <thead>\n",
       "    <tr style=\"text-align: right;\">\n",
       "      <th></th>\n",
       "      <th>ARI</th>\n",
       "      <th>Std</th>\n",
       "      <th>COMP</th>\n",
       "      <th>Std</th>\n",
       "      <th>Prop. Clustered</th>\n",
       "      <th>Std</th>\n",
       "      <th>Runtime</th>\n",
       "      <th>Std</th>\n",
       "    </tr>\n",
       "  </thead>\n",
       "  <tbody>\n",
       "    <tr>\n",
       "      <th>clustering_no_noise</th>\n",
       "      <td>0.725</td>\n",
       "      <td>0.182</td>\n",
       "      <td>0.744</td>\n",
       "      <td>0.127</td>\n",
       "      <td>0.858</td>\n",
       "      <td>0.064</td>\n",
       "      <td>53.857</td>\n",
       "      <td>25.185</td>\n",
       "    </tr>\n",
       "    <tr>\n",
       "      <th>clustering_noise</th>\n",
       "      <td>0.640</td>\n",
       "      <td>0.158</td>\n",
       "      <td>0.675</td>\n",
       "      <td>0.136</td>\n",
       "      <td>1.000</td>\n",
       "      <td>0.000</td>\n",
       "      <td>53.857</td>\n",
       "      <td>25.185</td>\n",
       "    </tr>\n",
       "  </tbody>\n",
       "</table>\n",
       "</div>"
      ],
      "text/plain": [
       "                       ARI    Std   COMP    Std  Prop. Clustered    Std  \\\n",
       "clustering_no_noise  0.725  0.182  0.744  0.127            0.858  0.064   \n",
       "clustering_noise     0.640  0.158  0.675  0.136            1.000  0.000   \n",
       "\n",
       "                     Runtime     Std  \n",
       "clustering_no_noise   53.857  25.185  \n",
       "clustering_noise      53.857  25.185  "
      ]
     },
     "execution_count": 50,
     "metadata": {},
     "output_type": "execute_result"
    }
   ],
   "source": [
    "system_idx = 2\n",
    "\n",
    "print(system_names[system_idx])\n",
    "\n",
    "index = ['ARI', 'Std', 'COMP', 'Std', 'Prop. Clustered', 'Std', 'Runtime', 'Std']\n",
    "values = [np.round(np.mean(ari_systems[system_idx][0:2], axis = 1), 3), \n",
    "          np.round(np.std(ari_systems[system_idx][0:2], axis = 1), 3), \n",
    "          np.round(np.mean(comp_systems[system_idx][0:2], axis = 1), 3), \n",
    "          np.round(np.std(comp_systems[system_idx][0:2], axis = 1), 3), \n",
    "          np.round(np.mean(prop_clustered_systems[system_idx][0:2], axis = 1), 3),\n",
    "          np.round(np.std(prop_clustered_systems[system_idx][0:2], axis = 1), 3),\n",
    "          np.round(np.mean(runtime_systems[system_idx][0:2], axis = 1), 3),\n",
    "          np.round(np.std(runtime_systems[system_idx][0:2], axis = 1), 3)]\n",
    "\n",
    "pd.DataFrame(values, columns = ['clustering_no_noise', 'clustering_noise'], index = index).T"
   ]
  },
  {
   "cell_type": "code",
   "execution_count": 51,
   "metadata": {},
   "outputs": [
    {
     "name": "stdout",
     "output_type": "stream",
     "text": [
      "MCArgSum_SBERT_RoBERTa\n"
     ]
    },
    {
     "data": {
      "text/html": [
       "<div>\n",
       "<style scoped>\n",
       "    .dataframe tbody tr th:only-of-type {\n",
       "        vertical-align: middle;\n",
       "    }\n",
       "\n",
       "    .dataframe tbody tr th {\n",
       "        vertical-align: top;\n",
       "    }\n",
       "\n",
       "    .dataframe thead th {\n",
       "        text-align: right;\n",
       "    }\n",
       "</style>\n",
       "<table border=\"1\" class=\"dataframe\">\n",
       "  <thead>\n",
       "    <tr style=\"text-align: right;\">\n",
       "      <th></th>\n",
       "      <th>ARI</th>\n",
       "      <th>Std</th>\n",
       "      <th>COMP</th>\n",
       "      <th>Std</th>\n",
       "      <th>Prop. Clustered</th>\n",
       "      <th>Std</th>\n",
       "      <th>Runtime</th>\n",
       "      <th>Std</th>\n",
       "    </tr>\n",
       "  </thead>\n",
       "  <tbody>\n",
       "    <tr>\n",
       "      <th>clustering_no_noise</th>\n",
       "      <td>0.682</td>\n",
       "      <td>0.109</td>\n",
       "      <td>0.777</td>\n",
       "      <td>0.118</td>\n",
       "      <td>0.881</td>\n",
       "      <td>0.042</td>\n",
       "      <td>2.723</td>\n",
       "      <td>0.435</td>\n",
       "    </tr>\n",
       "    <tr>\n",
       "      <th>clustering_noise</th>\n",
       "      <td>0.639</td>\n",
       "      <td>0.113</td>\n",
       "      <td>0.671</td>\n",
       "      <td>0.106</td>\n",
       "      <td>1.000</td>\n",
       "      <td>0.000</td>\n",
       "      <td>2.723</td>\n",
       "      <td>0.435</td>\n",
       "    </tr>\n",
       "  </tbody>\n",
       "</table>\n",
       "</div>"
      ],
      "text/plain": [
       "                       ARI    Std   COMP    Std  Prop. Clustered    Std  \\\n",
       "clustering_no_noise  0.682  0.109  0.777  0.118            0.881  0.042   \n",
       "clustering_noise     0.639  0.113  0.671  0.106            1.000  0.000   \n",
       "\n",
       "                     Runtime    Std  \n",
       "clustering_no_noise    2.723  0.435  \n",
       "clustering_noise       2.723  0.435  "
      ]
     },
     "execution_count": 51,
     "metadata": {},
     "output_type": "execute_result"
    }
   ],
   "source": [
    "system_idx = 3\n",
    "\n",
    "print(system_names[system_idx])\n",
    "\n",
    "index = ['ARI', 'Std', 'COMP', 'Std', 'Prop. Clustered', 'Std', 'Runtime', 'Std']\n",
    "values = [np.round(np.mean(ari_systems[system_idx][0:2], axis = 1), 3), \n",
    "          np.round(np.std(ari_systems[system_idx][0:2], axis = 1), 3), \n",
    "          np.round(np.mean(comp_systems[system_idx][0:2], axis = 1), 3), \n",
    "          np.round(np.std(comp_systems[system_idx][0:2], axis = 1), 3), \n",
    "          np.round(np.mean(prop_clustered_systems[system_idx][0:2], axis = 1), 3),\n",
    "          np.round(np.std(prop_clustered_systems[system_idx][0:2], axis = 1), 3),\n",
    "          np.round(np.mean(runtime_systems[system_idx][0:2], axis = 1), 3),\n",
    "          np.round(np.std(runtime_systems[system_idx][0:2], axis = 1), 3)]\n",
    "\n",
    "pd.DataFrame(values, columns = ['clustering_no_noise', 'clustering_noise'], index = index).T"
   ]
  },
  {
   "cell_type": "code",
   "execution_count": 52,
   "metadata": {},
   "outputs": [
    {
     "name": "stdout",
     "output_type": "stream",
     "text": [
      "MCArgSum_SBERT_mpnet_base\n"
     ]
    },
    {
     "data": {
      "text/html": [
       "<div>\n",
       "<style scoped>\n",
       "    .dataframe tbody tr th:only-of-type {\n",
       "        vertical-align: middle;\n",
       "    }\n",
       "\n",
       "    .dataframe tbody tr th {\n",
       "        vertical-align: top;\n",
       "    }\n",
       "\n",
       "    .dataframe thead th {\n",
       "        text-align: right;\n",
       "    }\n",
       "</style>\n",
       "<table border=\"1\" class=\"dataframe\">\n",
       "  <thead>\n",
       "    <tr style=\"text-align: right;\">\n",
       "      <th></th>\n",
       "      <th>ARI</th>\n",
       "      <th>Std</th>\n",
       "      <th>COMP</th>\n",
       "      <th>Std</th>\n",
       "      <th>Prop. Clustered</th>\n",
       "      <th>Std</th>\n",
       "      <th>Runtime</th>\n",
       "      <th>Std</th>\n",
       "    </tr>\n",
       "  </thead>\n",
       "  <tbody>\n",
       "    <tr>\n",
       "      <th>clustering_no_noise</th>\n",
       "      <td>0.594</td>\n",
       "      <td>0.299</td>\n",
       "      <td>0.789</td>\n",
       "      <td>0.144</td>\n",
       "      <td>0.908</td>\n",
       "      <td>0.061</td>\n",
       "      <td>1.133</td>\n",
       "      <td>0.178</td>\n",
       "    </tr>\n",
       "    <tr>\n",
       "      <th>clustering_noise</th>\n",
       "      <td>0.547</td>\n",
       "      <td>0.255</td>\n",
       "      <td>0.566</td>\n",
       "      <td>0.214</td>\n",
       "      <td>1.000</td>\n",
       "      <td>0.000</td>\n",
       "      <td>1.133</td>\n",
       "      <td>0.178</td>\n",
       "    </tr>\n",
       "  </tbody>\n",
       "</table>\n",
       "</div>"
      ],
      "text/plain": [
       "                       ARI    Std   COMP    Std  Prop. Clustered    Std  \\\n",
       "clustering_no_noise  0.594  0.299  0.789  0.144            0.908  0.061   \n",
       "clustering_noise     0.547  0.255  0.566  0.214            1.000  0.000   \n",
       "\n",
       "                     Runtime    Std  \n",
       "clustering_no_noise    1.133  0.178  \n",
       "clustering_noise       1.133  0.178  "
      ]
     },
     "execution_count": 52,
     "metadata": {},
     "output_type": "execute_result"
    }
   ],
   "source": [
    "system_idx = 4\n",
    "\n",
    "print(system_names[system_idx])\n",
    "\n",
    "index = ['ARI', 'Std', 'COMP', 'Std', 'Prop. Clustered', 'Std', 'Runtime', 'Std']\n",
    "values = [np.round(np.mean(ari_systems[system_idx][0:2], axis = 1), 3), \n",
    "          np.round(np.std(ari_systems[system_idx][0:2], axis = 1), 3), \n",
    "          np.round(np.mean(comp_systems[system_idx][0:2], axis = 1), 3), \n",
    "          np.round(np.std(comp_systems[system_idx][0:2], axis = 1), 3), \n",
    "          np.round(np.mean(prop_clustered_systems[system_idx][0:2], axis = 1), 3),\n",
    "          np.round(np.std(prop_clustered_systems[system_idx][0:2], axis = 1), 3),\n",
    "          np.round(np.mean(runtime_systems[system_idx][0:2], axis = 1), 3),\n",
    "          np.round(np.std(runtime_systems[system_idx][0:2], axis = 1), 3)]\n",
    "\n",
    "pd.DataFrame(values, columns = ['clustering_no_noise', 'clustering_noise'], index = index).T"
   ]
  },
  {
   "cell_type": "code",
   "execution_count": 53,
   "metadata": {},
   "outputs": [
    {
     "name": "stdout",
     "output_type": "stream",
     "text": [
      "MCArgSum DeBERTa\n"
     ]
    },
    {
     "data": {
      "text/html": [
       "<div>\n",
       "<style scoped>\n",
       "    .dataframe tbody tr th:only-of-type {\n",
       "        vertical-align: middle;\n",
       "    }\n",
       "\n",
       "    .dataframe tbody tr th {\n",
       "        vertical-align: top;\n",
       "    }\n",
       "\n",
       "    .dataframe thead th {\n",
       "        text-align: right;\n",
       "    }\n",
       "</style>\n",
       "<table border=\"1\" class=\"dataframe\">\n",
       "  <thead>\n",
       "    <tr style=\"text-align: right;\">\n",
       "      <th></th>\n",
       "      <th>ARI</th>\n",
       "      <th>Std</th>\n",
       "      <th>COMP</th>\n",
       "      <th>Std</th>\n",
       "      <th>Prop. Clustered</th>\n",
       "      <th>Std</th>\n",
       "      <th>Runtime</th>\n",
       "      <th>Std</th>\n",
       "    </tr>\n",
       "  </thead>\n",
       "  <tbody>\n",
       "    <tr>\n",
       "      <th>clustering_no_noise</th>\n",
       "      <td>0.699</td>\n",
       "      <td>0.182</td>\n",
       "      <td>0.734</td>\n",
       "      <td>0.141</td>\n",
       "      <td>0.894</td>\n",
       "      <td>0.066</td>\n",
       "      <td>46.8</td>\n",
       "      <td>15.88</td>\n",
       "    </tr>\n",
       "    <tr>\n",
       "      <th>clustering_noise</th>\n",
       "      <td>0.634</td>\n",
       "      <td>0.179</td>\n",
       "      <td>0.661</td>\n",
       "      <td>0.146</td>\n",
       "      <td>1.000</td>\n",
       "      <td>0.000</td>\n",
       "      <td>46.8</td>\n",
       "      <td>15.88</td>\n",
       "    </tr>\n",
       "  </tbody>\n",
       "</table>\n",
       "</div>"
      ],
      "text/plain": [
       "                       ARI    Std   COMP    Std  Prop. Clustered    Std  \\\n",
       "clustering_no_noise  0.699  0.182  0.734  0.141            0.894  0.066   \n",
       "clustering_noise     0.634  0.179  0.661  0.146            1.000  0.000   \n",
       "\n",
       "                     Runtime    Std  \n",
       "clustering_no_noise     46.8  15.88  \n",
       "clustering_noise        46.8  15.88  "
      ]
     },
     "execution_count": 53,
     "metadata": {},
     "output_type": "execute_result"
    }
   ],
   "source": [
    "system_idx = 5\n",
    "\n",
    "print(system_names[system_idx])\n",
    "\n",
    "index = ['ARI', 'Std', 'COMP', 'Std', 'Prop. Clustered', 'Std', 'Runtime', 'Std']\n",
    "values = [np.round(np.mean(ari_systems[system_idx][0:2], axis = 1), 3), \n",
    "          np.round(np.std(ari_systems[system_idx][0:2], axis = 1), 3), \n",
    "          np.round(np.mean(comp_systems[system_idx][0:2], axis = 1), 3), \n",
    "          np.round(np.std(comp_systems[system_idx][0:2], axis = 1), 3), \n",
    "          np.round(np.mean(prop_clustered_systems[system_idx][0:2], axis = 1), 3),\n",
    "          np.round(np.std(prop_clustered_systems[system_idx][0:2], axis = 1), 3),\n",
    "          np.round(np.mean(runtime_systems[system_idx][0:2], axis = 1), 3),\n",
    "          np.round(np.std(runtime_systems[system_idx][0:2], axis = 1), 3)]\n",
    "\n",
    "pd.DataFrame(values, columns = ['clustering_no_noise', 'clustering_noise'], index = index).T"
   ]
  },
  {
   "cell_type": "markdown",
   "metadata": {},
   "source": [
    "### Debate test"
   ]
  },
  {
   "cell_type": "code",
   "execution_count": 144,
   "metadata": {},
   "outputs": [
    {
     "data": {
      "application/vnd.jupyter.widget-view+json": {
       "model_id": "d363324fa9c64dfd95de8cad8ef2349c",
       "version_major": 2,
       "version_minor": 0
      },
      "text/plain": [
       "topic + stance:   0%|          | 0/8 [00:00<?, ?it/s]"
      ]
     },
     "metadata": {},
     "output_type": "display_data"
    },
    {
     "data": {
      "application/vnd.jupyter.widget-view+json": {
       "model_id": "3a3da8e9d9e443b399fb3399732268a8",
       "version_major": 2,
       "version_minor": 0
      },
      "text/plain": [
       "topic + stance:   0%|          | 0/8 [00:00<?, ?it/s]"
      ]
     },
     "metadata": {},
     "output_type": "display_data"
    },
    {
     "data": {
      "application/vnd.jupyter.widget-view+json": {
       "model_id": "298256972b5d43c1b68e4e7ecb47d4d9",
       "version_major": 2,
       "version_minor": 0
      },
      "text/plain": [
       "topic + stance:   0%|          | 0/8 [00:00<?, ?it/s]"
      ]
     },
     "metadata": {},
     "output_type": "display_data"
    },
    {
     "data": {
      "application/vnd.jupyter.widget-view+json": {
       "model_id": "f14bbc3697a54aa38469f1d8d37310bb",
       "version_major": 2,
       "version_minor": 0
      },
      "text/plain": [
       "topic + stance:   0%|          | 0/8 [00:00<?, ?it/s]"
      ]
     },
     "metadata": {},
     "output_type": "display_data"
    },
    {
     "data": {
      "application/vnd.jupyter.widget-view+json": {
       "model_id": "006711eac8d7415aaac1988497f990c3",
       "version_major": 2,
       "version_minor": 0
      },
      "text/plain": [
       "topic + stance:   0%|          | 0/8 [00:00<?, ?it/s]"
      ]
     },
     "metadata": {},
     "output_type": "display_data"
    },
    {
     "data": {
      "application/vnd.jupyter.widget-view+json": {
       "model_id": "bcc4d5eaba48422ba1ec29d8d3e26c20",
       "version_major": 2,
       "version_minor": 0
      },
      "text/plain": [
       "topic + stance:   0%|          | 0/8 [00:00<?, ?it/s]"
      ]
     },
     "metadata": {},
     "output_type": "display_data"
    }
   ],
   "source": [
    "ari_systems, comp_systems, prop_clustered_systems, n_clusters_systems, runtime_systems, parameter_value_combinations_systems = get_results(df = Debate_test, \n",
    "                                                                                                                                           system_names = system_names,\n",
    "                                                                                                                                           path = path, \n",
    "                                                                                                                                           file_names = Debate_test_file_names,\n",
    "                                                                                                                                           t_prop_clustered = 0.70)"
   ]
  },
  {
   "cell_type": "code",
   "execution_count": 145,
   "metadata": {},
   "outputs": [
    {
     "data": {
      "image/png": "[encoded data removed]",
      "text/plain": [
       "<Figure size 800x300 with 1 Axes>"
      ]
     },
     "metadata": {},
     "output_type": "display_data"
    }
   ],
   "source": [
    "mean_aris_systems = []\n",
    "std_aris_systems = []\n",
    "for i in range(len(ari_systems)-1):\n",
    "    mean_aris_scenarios = []\n",
    "    std_aris_scenarios = []\n",
    "    for s in [0,1,2]:   \n",
    "        try:\n",
    "            mean_aris_scenarios.append(np.mean(ari_systems[i][s]))\n",
    "            std_aris_scenarios.append(np.std(ari_systems[i][s]))\n",
    "        except:\n",
    "            pass\n",
    "    mean_aris_systems.append(mean_aris_scenarios)\n",
    "    std_aris_systems.append(std_aris_scenarios)\n",
    "\n",
    "plt.figure(figsize=(8,3))\n",
    "\n",
    "plt.bar(0 + 0, mean_aris_systems[0][0], color = 'tab:blue', width = 0.4, label = 'Excl. Noise', edgecolor = 'black', linewidth = 0.5, alpha = 0.9)\n",
    "plt.bar(0 + 0.42, mean_aris_systems[0][1], color = 'tab:orange', width = 0.4, label = 'Incl. Noise', edgecolor = 'black', linewidth = 0.5, alpha = 0.9)\n",
    "\n",
    "plt.text(0 - 0.185 + 0.035, mean_aris_systems[0][0] + 0.062, f'{np.round(mean_aris_systems[0][0], 3)}00'[0:5], fontsize = 11.5)\n",
    "plt.text(0 - 0.185, mean_aris_systems[0][0] + 0.012, r'$\\pm$' + f'{np.round(std_aris_systems[0][0], 3)}00'[0:5], fontsize = 10.5)\n",
    "plt.text(0 + 0.42 - 0.185 + 0.035, mean_aris_systems[0][1] + 0.062, f'{np.round(mean_aris_systems[0][1], 3)}00'[0:5], fontsize = 11.5)\n",
    "plt.text(0 + 0.42 - 0.185, mean_aris_systems[0][1] + 0.012, r'$\\pm$' + f'{np.round(std_aris_systems[0][1], 3)}00'[0:5], fontsize = 10.5)\n",
    "\n",
    "plt.bar(1, mean_aris_systems[1][0], color = 'tab:blue', width = 0.4, edgecolor = 'black', linewidth = 0.5, alpha = 0.9)\n",
    "plt.bar(1 + 0.42, mean_aris_systems[1][1], color = 'tab:orange', width = 0.4, edgecolor = 'black', linewidth = 0.5, alpha = 0.9)\n",
    "plt.bar(1 + 0.84, mean_aris_systems[1][2], color = 'tab:green', width = 0.4, edgecolor = 'black', linewidth = 0.5, alpha = 0.9, label = 'IC')\n",
    "\n",
    "plt.text(1 - 0.185 + 0.035, mean_aris_systems[1][0] + 0.062, f'{np.round(mean_aris_systems[1][0], 3)}00'[0:5], fontsize = 11.5)\n",
    "plt.text(1 - 0.185, mean_aris_systems[1][0] + 0.012, r'$\\pm$' + f'{np.round(std_aris_systems[1][0], 3)}00'[0:5], fontsize = 10.5)\n",
    "plt.text(1 + 0.42 - 0.185 + 0.035, mean_aris_systems[1][1] + 0.062, f'{np.round(mean_aris_systems[1][1], 3)}00'[0:5], fontsize = 11.5)\n",
    "plt.text(1 + 0.42 - 0.185, mean_aris_systems[1][1] + 0.012, r'$\\pm$' + f'{np.round(std_aris_systems[1][1], 3)}00'[0:5], fontsize = 10.5)\n",
    "plt.text(1 + 0.84 - 0.185 + 0.035, mean_aris_systems[1][2] + 0.062, f'{np.round(mean_aris_systems[1][2], 3)}00'[0:5], fontsize = 11.5)\n",
    "plt.text(1 + 0.84 - 0.185, mean_aris_systems[1][2] + 0.012, r'$\\pm$' + f'{np.round(std_aris_systems[1][2], 3)}00'[0:5], fontsize = 10.5)\n",
    "\n",
    "plt.bar(2 + 0.42, mean_aris_systems[4][0], color = 'tab:blue', width = 0.4, edgecolor = 'black', linewidth = 0.5, alpha = 0.9)\n",
    "plt.bar(2 + 0.84, mean_aris_systems[4][1], color = 'tab:orange', width = 0.4, edgecolor = 'black', linewidth = 0.5, alpha = 0.9)\n",
    "\n",
    "plt.text(2 + 0.42 - 0.185 + 0.035, mean_aris_systems[4][0] + 0.062, f'{np.round(mean_aris_systems[4][0], 3)}00'[0:5], fontsize = 11.5)\n",
    "plt.text(2 + 0.42 - 0.185, mean_aris_systems[4][0] + 0.012, r'$\\pm$' + f'{np.round(std_aris_systems[4][0], 3)}00'[0:5], fontsize = 10.5)\n",
    "plt.text(2 + 0.84 - 0.185 + 0.035, mean_aris_systems[4][1] + 0.062, f'{np.round(mean_aris_systems[4][1], 3)}00'[0:5], fontsize = 11.5)\n",
    "plt.text(2 + 0.84 - 0.185, mean_aris_systems[4][1] + 0.012, r'$\\pm$' + f'{np.round(std_aris_systems[4][1], 3)}00'[0:5], fontsize = 10.5)\n",
    "\n",
    "plt.bar(3 + 0.42, mean_aris_systems[2][0], color = 'tab:blue', width = 0.4, edgecolor = 'black', linewidth = 0.5, alpha = 0.9)\n",
    "plt.bar(3 + 0.84, mean_aris_systems[2][1], color = 'tab:orange', width = 0.4, edgecolor = 'black', linewidth = 0.5, alpha = 0.9)\n",
    "\n",
    "plt.text(3 + 0.42 - 0.185 + 0.035, mean_aris_systems[2][0] + 0.062, f'{np.round(mean_aris_systems[2][0], 3)}00'[0:5], fontsize = 11.5)\n",
    "plt.text(3 + 0.42 - 0.185, mean_aris_systems[2][0] + 0.012, r'$\\pm$' + f'{np.round(std_aris_systems[2][0], 3)}00'[0:5], fontsize = 10.5)\n",
    "plt.text(3 + 0.84 - 0.185 + 0.035, mean_aris_systems[2][1] + 0.062, f'{np.round(mean_aris_systems[2][1], 3)}00'[0:5], fontsize = 11.5)\n",
    "plt.text(3 + 0.84 - 0.185, mean_aris_systems[2][1] + 0.012, r'$\\pm$' + f'{np.round(std_aris_systems[2][1], 3)}00'[0:5], fontsize = 10.5)\n",
    "\n",
    "plt.bar(4 + 0.42, mean_aris_systems[3][0], color = 'tab:blue', width = 0.4, edgecolor = 'black', linewidth = 0.5, alpha = 0.9)\n",
    "plt.bar(4 + 0.84, mean_aris_systems[3][1], color = 'tab:orange', width = 0.4, edgecolor = 'black', linewidth = 0.5, alpha = 0.9)\n",
    "\n",
    "plt.text(4 + 0.42 - 0.185 + 0.035, mean_aris_systems[3][0] + 0.062, f'{np.round(mean_aris_systems[3][0], 3)}00'[0:5], fontsize = 11.5)\n",
    "plt.text(4 + 0.42 - 0.185, mean_aris_systems[3][0] + 0.012, r'$\\pm$' + f'{np.round(std_aris_systems[3][0], 3)}00'[0:5], fontsize = 10.5)\n",
    "plt.text(4 + 0.84 - 0.185 + 0.035, mean_aris_systems[3][1] + 0.062, f'{np.round(mean_aris_systems[3][1], 3)}00'[0:5], fontsize = 11.5)\n",
    "plt.text(4 + 0.84 - 0.185, mean_aris_systems[3][1] + 0.012, r'$\\pm$' + f'{np.round(std_aris_systems[3][1], 3)}00'[0:5], fontsize = 10.5)\n",
    "\n",
    "\n",
    "plt.grid(axis = 'y', linestyle = '--', alpha = 0.5)\n",
    "plt.xticks(ticks = [0.21, 1.42, 2.63, 3.63, 4.63], labels = ['Summetix', 'USKPM', 'MCArgSum', 'MCArgSum\\n(BarH)', 'MCArgSum\\n(SMatchToPr)'], fontsize = 12)\n",
    "plt.yticks(fontsize = 11, ticks = [i for i in np.arange(0,0.91,0.1)])\n",
    "plt.ylabel('ARI', fontsize = 12)\n",
    "plt.legend(loc='upper center', bbox_to_anchor=(0.5, 1.2), ncol = 3, fontsize = 11, fancybox = True)\n",
    "\n",
    "plt.show()"
   ]
  },
  {
   "cell_type": "code",
   "execution_count": 7,
   "metadata": {},
   "outputs": [
    {
     "name": "stdout",
     "output_type": "stream",
     "text": [
      "Summetix\n"
     ]
    },
    {
     "data": {
      "text/html": [
       "<div>\n",
       "<style scoped>\n",
       "    .dataframe tbody tr th:only-of-type {\n",
       "        vertical-align: middle;\n",
       "    }\n",
       "\n",
       "    .dataframe tbody tr th {\n",
       "        vertical-align: top;\n",
       "    }\n",
       "\n",
       "    .dataframe thead th {\n",
       "        text-align: right;\n",
       "    }\n",
       "</style>\n",
       "<table border=\"1\" class=\"dataframe\">\n",
       "  <thead>\n",
       "    <tr style=\"text-align: right;\">\n",
       "      <th></th>\n",
       "      <th>ARI</th>\n",
       "      <th>Std</th>\n",
       "      <th>COMP</th>\n",
       "      <th>Std</th>\n",
       "      <th>Prop. Clustered</th>\n",
       "      <th>Std</th>\n",
       "      <th>Runtime</th>\n",
       "      <th>Std</th>\n",
       "    </tr>\n",
       "  </thead>\n",
       "  <tbody>\n",
       "    <tr>\n",
       "      <th>clustering_no_noise</th>\n",
       "      <td>0.324</td>\n",
       "      <td>0.130</td>\n",
       "      <td>0.477</td>\n",
       "      <td>0.139</td>\n",
       "      <td>0.823</td>\n",
       "      <td>0.071</td>\n",
       "      <td>0.738</td>\n",
       "      <td>0.075</td>\n",
       "    </tr>\n",
       "    <tr>\n",
       "      <th>clustering_noise</th>\n",
       "      <td>0.254</td>\n",
       "      <td>0.097</td>\n",
       "      <td>0.382</td>\n",
       "      <td>0.090</td>\n",
       "      <td>1.000</td>\n",
       "      <td>0.000</td>\n",
       "      <td>0.722</td>\n",
       "      <td>0.068</td>\n",
       "    </tr>\n",
       "  </tbody>\n",
       "</table>\n",
       "</div>"
      ],
      "text/plain": [
       "                       ARI    Std   COMP    Std  Prop. Clustered    Std  \\\n",
       "clustering_no_noise  0.324  0.130  0.477  0.139            0.823  0.071   \n",
       "clustering_noise     0.254  0.097  0.382  0.090            1.000  0.000   \n",
       "\n",
       "                     Runtime    Std  \n",
       "clustering_no_noise    0.738  0.075  \n",
       "clustering_noise       0.722  0.068  "
      ]
     },
     "execution_count": 7,
     "metadata": {},
     "output_type": "execute_result"
    }
   ],
   "source": [
    "system_idx = 0\n",
    "\n",
    "print(system_names[system_idx])\n",
    "\n",
    "index = ['ARI', 'Std', 'COMP', 'Std', 'Prop. Clustered', 'Std', 'Runtime', 'Std']\n",
    "values = [np.round(np.mean(ari_systems[system_idx][0:2], axis = 1), 3), \n",
    "          np.round(np.std(ari_systems[system_idx][0:2], axis = 1), 3), \n",
    "          np.round(np.mean(comp_systems[system_idx][0:2], axis = 1), 3), \n",
    "          np.round(np.std(comp_systems[system_idx][0:2], axis = 1), 3), \n",
    "          np.round(np.mean(prop_clustered_systems[system_idx][0:2], axis = 1), 3),\n",
    "          np.round(np.std(prop_clustered_systems[system_idx][0:2], axis = 1), 3),\n",
    "          np.round(np.mean(runtime_systems[system_idx][0:2], axis = 1), 3),\n",
    "          np.round(np.std(runtime_systems[system_idx][0:2], axis = 1), 3)]\n",
    "\n",
    "pd.DataFrame(values, columns = ['clustering_no_noise', 'clustering_noise'], index = index).T"
   ]
  },
  {
   "cell_type": "code",
   "execution_count": 13,
   "metadata": {},
   "outputs": [
    {
     "name": "stdout",
     "output_type": "stream",
     "text": [
      "USKPM\n"
     ]
    },
    {
     "data": {
      "text/html": [
       "<div>\n",
       "<style scoped>\n",
       "    .dataframe tbody tr th:only-of-type {\n",
       "        vertical-align: middle;\n",
       "    }\n",
       "\n",
       "    .dataframe tbody tr th {\n",
       "        vertical-align: top;\n",
       "    }\n",
       "\n",
       "    .dataframe thead th {\n",
       "        text-align: right;\n",
       "    }\n",
       "</style>\n",
       "<table border=\"1\" class=\"dataframe\">\n",
       "  <thead>\n",
       "    <tr style=\"text-align: right;\">\n",
       "      <th></th>\n",
       "      <th>ARI</th>\n",
       "      <th>Std</th>\n",
       "      <th>COMP</th>\n",
       "      <th>Std</th>\n",
       "      <th>Prop. Clustered</th>\n",
       "      <th>Std</th>\n",
       "      <th>Runtime</th>\n",
       "      <th>Std</th>\n",
       "    </tr>\n",
       "  </thead>\n",
       "  <tbody>\n",
       "    <tr>\n",
       "      <th>clustering_no_noise</th>\n",
       "      <td>0.298</td>\n",
       "      <td>0.054</td>\n",
       "      <td>0.430</td>\n",
       "      <td>0.046</td>\n",
       "      <td>0.797</td>\n",
       "      <td>0.051</td>\n",
       "      <td>2.090</td>\n",
       "      <td>0.518</td>\n",
       "    </tr>\n",
       "    <tr>\n",
       "      <th>clustering_noise</th>\n",
       "      <td>0.232</td>\n",
       "      <td>0.049</td>\n",
       "      <td>0.365</td>\n",
       "      <td>0.048</td>\n",
       "      <td>1.000</td>\n",
       "      <td>0.000</td>\n",
       "      <td>2.044</td>\n",
       "      <td>0.507</td>\n",
       "    </tr>\n",
       "    <tr>\n",
       "      <th>iterative clustering</th>\n",
       "      <td>0.262</td>\n",
       "      <td>0.054</td>\n",
       "      <td>0.380</td>\n",
       "      <td>0.048</td>\n",
       "      <td>1.000</td>\n",
       "      <td>0.000</td>\n",
       "      <td>15.384</td>\n",
       "      <td>9.633</td>\n",
       "    </tr>\n",
       "  </tbody>\n",
       "</table>\n",
       "</div>"
      ],
      "text/plain": [
       "                        ARI    Std   COMP    Std  Prop. Clustered    Std  \\\n",
       "clustering_no_noise   0.298  0.054  0.430  0.046            0.797  0.051   \n",
       "clustering_noise      0.232  0.049  0.365  0.048            1.000  0.000   \n",
       "iterative clustering  0.262  0.054  0.380  0.048            1.000  0.000   \n",
       "\n",
       "                      Runtime    Std  \n",
       "clustering_no_noise     2.090  0.518  \n",
       "clustering_noise        2.044  0.507  \n",
       "iterative clustering   15.384  9.633  "
      ]
     },
     "execution_count": 13,
     "metadata": {},
     "output_type": "execute_result"
    }
   ],
   "source": [
    "system_idx = 1\n",
    "\n",
    "print(system_names[system_idx])\n",
    "\n",
    "index = ['ARI', 'Std', 'COMP', 'Std', 'Prop. Clustered', 'Std', 'Runtime', 'Std']\n",
    "values = [np.round(np.mean(ari_systems[system_idx][0:3], axis = 1), 3), \n",
    "          np.round(np.std(ari_systems[system_idx][0:3], axis = 1), 3), \n",
    "          np.round(np.mean(comp_systems[system_idx][0:3], axis = 1), 3), \n",
    "          np.round(np.std(comp_systems[system_idx][0:3], axis = 1), 3), \n",
    "          np.round(np.mean(prop_clustered_systems[system_idx][0:3], axis = 1), 3),\n",
    "          np.round(np.std(prop_clustered_systems[system_idx][0:3], axis = 1), 3),\n",
    "          np.round(np.mean(runtime_systems[system_idx][0:3], axis = 1), 3),\n",
    "          np.round(np.std(runtime_systems[system_idx][0:3], axis = 1), 3)]\n",
    "\n",
    "pd.DataFrame(values, columns = ['clustering_no_noise', 'clustering_noise', 'iterative clustering'], index = index).T"
   ]
  },
  {
   "cell_type": "code",
   "execution_count": 9,
   "metadata": {},
   "outputs": [
    {
     "name": "stdout",
     "output_type": "stream",
     "text": [
      "MCArgSum_RoBERTa\n"
     ]
    },
    {
     "data": {
      "text/html": [
       "<div>\n",
       "<style scoped>\n",
       "    .dataframe tbody tr th:only-of-type {\n",
       "        vertical-align: middle;\n",
       "    }\n",
       "\n",
       "    .dataframe tbody tr th {\n",
       "        vertical-align: top;\n",
       "    }\n",
       "\n",
       "    .dataframe thead th {\n",
       "        text-align: right;\n",
       "    }\n",
       "</style>\n",
       "<table border=\"1\" class=\"dataframe\">\n",
       "  <thead>\n",
       "    <tr style=\"text-align: right;\">\n",
       "      <th></th>\n",
       "      <th>ARI</th>\n",
       "      <th>Std</th>\n",
       "      <th>COMP</th>\n",
       "      <th>Std</th>\n",
       "      <th>Prop. Clustered</th>\n",
       "      <th>Std</th>\n",
       "      <th>Runtime</th>\n",
       "      <th>Std</th>\n",
       "    </tr>\n",
       "  </thead>\n",
       "  <tbody>\n",
       "    <tr>\n",
       "      <th>clustering_no_noise</th>\n",
       "      <td>0.411</td>\n",
       "      <td>0.085</td>\n",
       "      <td>0.489</td>\n",
       "      <td>0.091</td>\n",
       "      <td>0.789</td>\n",
       "      <td>0.079</td>\n",
       "      <td>201.866</td>\n",
       "      <td>166.687</td>\n",
       "    </tr>\n",
       "    <tr>\n",
       "      <th>clustering_noise</th>\n",
       "      <td>0.311</td>\n",
       "      <td>0.099</td>\n",
       "      <td>0.438</td>\n",
       "      <td>0.125</td>\n",
       "      <td>1.000</td>\n",
       "      <td>0.000</td>\n",
       "      <td>201.866</td>\n",
       "      <td>166.686</td>\n",
       "    </tr>\n",
       "  </tbody>\n",
       "</table>\n",
       "</div>"
      ],
      "text/plain": [
       "                       ARI    Std   COMP    Std  Prop. Clustered    Std  \\\n",
       "clustering_no_noise  0.411  0.085  0.489  0.091            0.789  0.079   \n",
       "clustering_noise     0.311  0.099  0.438  0.125            1.000  0.000   \n",
       "\n",
       "                     Runtime      Std  \n",
       "clustering_no_noise  201.866  166.687  \n",
       "clustering_noise     201.866  166.686  "
      ]
     },
     "execution_count": 9,
     "metadata": {},
     "output_type": "execute_result"
    }
   ],
   "source": [
    "system_idx = 2\n",
    "\n",
    "print(system_names[system_idx])\n",
    "\n",
    "index = ['ARI', 'Std', 'COMP', 'Std', 'Prop. Clustered', 'Std', 'Runtime', 'Std']\n",
    "values = [np.round(np.mean(ari_systems[system_idx][0:2], axis = 1), 3), \n",
    "          np.round(np.std(ari_systems[system_idx][0:2], axis = 1), 3), \n",
    "          np.round(np.mean(comp_systems[system_idx][0:2], axis = 1), 3), \n",
    "          np.round(np.std(comp_systems[system_idx][0:2], axis = 1), 3), \n",
    "          np.round(np.mean(prop_clustered_systems[system_idx][0:2], axis = 1), 3),\n",
    "          np.round(np.std(prop_clustered_systems[system_idx][0:2], axis = 1), 3),\n",
    "          np.round(np.mean(runtime_systems[system_idx][0:2], axis = 1), 3),\n",
    "          np.round(np.std(runtime_systems[system_idx][0:2], axis = 1), 3)]\n",
    "\n",
    "pd.DataFrame(values, columns = ['clustering_no_noise', 'clustering_noise'], index = index).T"
   ]
  },
  {
   "cell_type": "code",
   "execution_count": 20,
   "metadata": {},
   "outputs": [
    {
     "name": "stdout",
     "output_type": "stream",
     "text": [
      "MCArgSum_SBERT_RoBERTa\n"
     ]
    },
    {
     "data": {
      "text/html": [
       "<div>\n",
       "<style scoped>\n",
       "    .dataframe tbody tr th:only-of-type {\n",
       "        vertical-align: middle;\n",
       "    }\n",
       "\n",
       "    .dataframe tbody tr th {\n",
       "        vertical-align: top;\n",
       "    }\n",
       "\n",
       "    .dataframe thead th {\n",
       "        text-align: right;\n",
       "    }\n",
       "</style>\n",
       "<table border=\"1\" class=\"dataframe\">\n",
       "  <thead>\n",
       "    <tr style=\"text-align: right;\">\n",
       "      <th></th>\n",
       "      <th>ARI</th>\n",
       "      <th>Std</th>\n",
       "      <th>COMP</th>\n",
       "      <th>Std</th>\n",
       "      <th>Prop. Clustered</th>\n",
       "      <th>Std</th>\n",
       "      <th>Runtime</th>\n",
       "      <th>Std</th>\n",
       "    </tr>\n",
       "  </thead>\n",
       "  <tbody>\n",
       "    <tr>\n",
       "      <th>clustering_no_noise</th>\n",
       "      <td>0.305</td>\n",
       "      <td>0.071</td>\n",
       "      <td>0.414</td>\n",
       "      <td>0.079</td>\n",
       "      <td>0.783</td>\n",
       "      <td>0.068</td>\n",
       "      <td>6.109</td>\n",
       "      <td>2.323</td>\n",
       "    </tr>\n",
       "    <tr>\n",
       "      <th>clustering_noise</th>\n",
       "      <td>0.245</td>\n",
       "      <td>0.045</td>\n",
       "      <td>0.364</td>\n",
       "      <td>0.066</td>\n",
       "      <td>1.000</td>\n",
       "      <td>0.000</td>\n",
       "      <td>6.109</td>\n",
       "      <td>2.323</td>\n",
       "    </tr>\n",
       "  </tbody>\n",
       "</table>\n",
       "</div>"
      ],
      "text/plain": [
       "                       ARI    Std   COMP    Std  Prop. Clustered    Std  \\\n",
       "clustering_no_noise  0.305  0.071  0.414  0.079            0.783  0.068   \n",
       "clustering_noise     0.245  0.045  0.364  0.066            1.000  0.000   \n",
       "\n",
       "                     Runtime    Std  \n",
       "clustering_no_noise    6.109  2.323  \n",
       "clustering_noise       6.109  2.323  "
      ]
     },
     "execution_count": 20,
     "metadata": {},
     "output_type": "execute_result"
    }
   ],
   "source": [
    "system_idx = 3\n",
    "\n",
    "print(system_names[system_idx])\n",
    "\n",
    "index = ['ARI', 'Std', 'COMP', 'Std', 'Prop. Clustered', 'Std', 'Runtime', 'Std']\n",
    "values = [np.round(np.mean(ari_systems[system_idx][0:2], axis = 1), 3), \n",
    "          np.round(np.std(ari_systems[system_idx][0:2], axis = 1), 3), \n",
    "          np.round(np.mean(comp_systems[system_idx][0:2], axis = 1), 3), \n",
    "          np.round(np.std(comp_systems[system_idx][0:2], axis = 1), 3), \n",
    "          np.round(np.mean(prop_clustered_systems[system_idx][0:2], axis = 1), 3),\n",
    "          np.round(np.std(prop_clustered_systems[system_idx][0:2], axis = 1), 3),\n",
    "          np.round(np.mean(runtime_systems[system_idx][0:2], axis = 1), 3),\n",
    "          np.round(np.std(runtime_systems[system_idx][0:2], axis = 1), 3)]\n",
    "\n",
    "pd.DataFrame(values, columns = ['clustering_no_noise', 'clustering_noise'], index = index).T"
   ]
  },
  {
   "cell_type": "code",
   "execution_count": 21,
   "metadata": {},
   "outputs": [
    {
     "name": "stdout",
     "output_type": "stream",
     "text": [
      "MCArgSum_SBERT_mpnet_base\n"
     ]
    },
    {
     "data": {
      "text/html": [
       "<div>\n",
       "<style scoped>\n",
       "    .dataframe tbody tr th:only-of-type {\n",
       "        vertical-align: middle;\n",
       "    }\n",
       "\n",
       "    .dataframe tbody tr th {\n",
       "        vertical-align: top;\n",
       "    }\n",
       "\n",
       "    .dataframe thead th {\n",
       "        text-align: right;\n",
       "    }\n",
       "</style>\n",
       "<table border=\"1\" class=\"dataframe\">\n",
       "  <thead>\n",
       "    <tr style=\"text-align: right;\">\n",
       "      <th></th>\n",
       "      <th>ARI</th>\n",
       "      <th>Std</th>\n",
       "      <th>COMP</th>\n",
       "      <th>Std</th>\n",
       "      <th>Prop. Clustered</th>\n",
       "      <th>Std</th>\n",
       "      <th>Runtime</th>\n",
       "      <th>Std</th>\n",
       "    </tr>\n",
       "  </thead>\n",
       "  <tbody>\n",
       "    <tr>\n",
       "      <th>clustering_no_noise</th>\n",
       "      <td>0.369</td>\n",
       "      <td>0.135</td>\n",
       "      <td>0.447</td>\n",
       "      <td>0.078</td>\n",
       "      <td>0.878</td>\n",
       "      <td>0.095</td>\n",
       "      <td>1.931</td>\n",
       "      <td>0.69</td>\n",
       "    </tr>\n",
       "    <tr>\n",
       "      <th>clustering_noise</th>\n",
       "      <td>0.315</td>\n",
       "      <td>0.123</td>\n",
       "      <td>0.399</td>\n",
       "      <td>0.104</td>\n",
       "      <td>1.000</td>\n",
       "      <td>0.000</td>\n",
       "      <td>1.931</td>\n",
       "      <td>0.69</td>\n",
       "    </tr>\n",
       "  </tbody>\n",
       "</table>\n",
       "</div>"
      ],
      "text/plain": [
       "                       ARI    Std   COMP    Std  Prop. Clustered    Std  \\\n",
       "clustering_no_noise  0.369  0.135  0.447  0.078            0.878  0.095   \n",
       "clustering_noise     0.315  0.123  0.399  0.104            1.000  0.000   \n",
       "\n",
       "                     Runtime   Std  \n",
       "clustering_no_noise    1.931  0.69  \n",
       "clustering_noise       1.931  0.69  "
      ]
     },
     "execution_count": 21,
     "metadata": {},
     "output_type": "execute_result"
    }
   ],
   "source": [
    "system_idx = 4\n",
    "\n",
    "print(system_names[system_idx])\n",
    "\n",
    "index = ['ARI', 'Std', 'COMP', 'Std', 'Prop. Clustered', 'Std', 'Runtime', 'Std']\n",
    "values = [np.round(np.mean(ari_systems[system_idx][0:2], axis = 1), 3), \n",
    "          np.round(np.std(ari_systems[system_idx][0:2], axis = 1), 3), \n",
    "          np.round(np.mean(comp_systems[system_idx][0:2], axis = 1), 3), \n",
    "          np.round(np.std(comp_systems[system_idx][0:2], axis = 1), 3), \n",
    "          np.round(np.mean(prop_clustered_systems[system_idx][0:2], axis = 1), 3),\n",
    "          np.round(np.std(prop_clustered_systems[system_idx][0:2], axis = 1), 3),\n",
    "          np.round(np.mean(runtime_systems[system_idx][0:2], axis = 1), 3),\n",
    "          np.round(np.std(runtime_systems[system_idx][0:2], axis = 1), 3)]\n",
    "\n",
    "pd.DataFrame(values, columns = ['clustering_no_noise', 'clustering_noise'], index = index).T"
   ]
  },
  {
   "cell_type": "code",
   "execution_count": 22,
   "metadata": {},
   "outputs": [
    {
     "name": "stdout",
     "output_type": "stream",
     "text": [
      "MCArgSum DeBERTa\n"
     ]
    },
    {
     "data": {
      "text/html": [
       "<div>\n",
       "<style scoped>\n",
       "    .dataframe tbody tr th:only-of-type {\n",
       "        vertical-align: middle;\n",
       "    }\n",
       "\n",
       "    .dataframe tbody tr th {\n",
       "        vertical-align: top;\n",
       "    }\n",
       "\n",
       "    .dataframe thead th {\n",
       "        text-align: right;\n",
       "    }\n",
       "</style>\n",
       "<table border=\"1\" class=\"dataframe\">\n",
       "  <thead>\n",
       "    <tr style=\"text-align: right;\">\n",
       "      <th></th>\n",
       "      <th>ARI</th>\n",
       "      <th>Std</th>\n",
       "      <th>COMP</th>\n",
       "      <th>Std</th>\n",
       "      <th>Prop. Clustered</th>\n",
       "      <th>Std</th>\n",
       "      <th>Runtime</th>\n",
       "      <th>Std</th>\n",
       "    </tr>\n",
       "  </thead>\n",
       "  <tbody>\n",
       "    <tr>\n",
       "      <th>clustering_no_noise</th>\n",
       "      <td>0.398</td>\n",
       "      <td>0.181</td>\n",
       "      <td>0.488</td>\n",
       "      <td>0.108</td>\n",
       "      <td>0.833</td>\n",
       "      <td>0.093</td>\n",
       "      <td>298.645</td>\n",
       "      <td>242.07</td>\n",
       "    </tr>\n",
       "    <tr>\n",
       "      <th>clustering_noise</th>\n",
       "      <td>0.337</td>\n",
       "      <td>0.156</td>\n",
       "      <td>0.419</td>\n",
       "      <td>0.100</td>\n",
       "      <td>1.000</td>\n",
       "      <td>0.000</td>\n",
       "      <td>298.645</td>\n",
       "      <td>242.07</td>\n",
       "    </tr>\n",
       "  </tbody>\n",
       "</table>\n",
       "</div>"
      ],
      "text/plain": [
       "                       ARI    Std   COMP    Std  Prop. Clustered    Std  \\\n",
       "clustering_no_noise  0.398  0.181  0.488  0.108            0.833  0.093   \n",
       "clustering_noise     0.337  0.156  0.419  0.100            1.000  0.000   \n",
       "\n",
       "                     Runtime     Std  \n",
       "clustering_no_noise  298.645  242.07  \n",
       "clustering_noise     298.645  242.07  "
      ]
     },
     "execution_count": 22,
     "metadata": {},
     "output_type": "execute_result"
    }
   ],
   "source": [
    "system_idx = 5\n",
    "\n",
    "print(system_names[system_idx])\n",
    "\n",
    "index = ['ARI', 'Std', 'COMP', 'Std', 'Prop. Clustered', 'Std', 'Runtime', 'Std']\n",
    "values = [np.round(np.mean(ari_systems[system_idx][0:2], axis = 1), 3), \n",
    "          np.round(np.std(ari_systems[system_idx][0:2], axis = 1), 3), \n",
    "          np.round(np.mean(comp_systems[system_idx][0:2], axis = 1), 3), \n",
    "          np.round(np.std(comp_systems[system_idx][0:2], axis = 1), 3), \n",
    "          np.round(np.mean(prop_clustered_systems[system_idx][0:2], axis = 1), 3),\n",
    "          np.round(np.std(prop_clustered_systems[system_idx][0:2], axis = 1), 3),\n",
    "          np.round(np.mean(runtime_systems[system_idx][0:2], axis = 1), 3),\n",
    "          np.round(np.std(runtime_systems[system_idx][0:2], axis = 1), 3)]\n",
    "\n",
    "pd.DataFrame(values, columns = ['clustering_no_noise', 'clustering_noise'], index = index).T"
   ]
  }
 ],
 "metadata": {
  "kernelspec": {
   "display_name": "AM",
   "language": "python",
   "name": "python3"
  },
  "language_info": {
   "codemirror_mode": {
    "name": "ipython",
    "version": 3
   },
   "file_extension": ".py",
   "mimetype": "text/x-python",
   "name": "python",
   "nbconvert_exporter": "python",
   "pygments_lexer": "ipython3",
   "version": "3.8.18"
  }
 },
 "nbformat": 4,
 "nbformat_minor": 2
}
