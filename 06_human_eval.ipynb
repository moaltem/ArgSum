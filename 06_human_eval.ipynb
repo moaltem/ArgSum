{
 "cells": [
  {
   "cell_type": "markdown",
   "metadata": {},
   "source": [
    "# Human Evaluation"
   ]
  },
  {
   "cell_type": "markdown",
   "metadata": {},
   "source": [
    "## Preliminary"
   ]
  },
  {
   "cell_type": "code",
   "execution_count": 1,
   "metadata": {},
   "outputs": [
    {
     "name": "stderr",
     "output_type": "stream",
     "text": [
      "/Users/moritz/miniconda3/envs/AM/lib/python3.8/site-packages/transformers/utils/generic.py:311: UserWarning: torch.utils._pytree._register_pytree_node is deprecated. Please use torch.utils._pytree.register_pytree_node instead.\n",
      "  torch.utils._pytree._register_pytree_node(\n",
      "/Users/moritz/miniconda3/envs/AM/lib/python3.8/site-packages/transformers/utils/generic.py:311: UserWarning: torch.utils._pytree._register_pytree_node is deprecated. Please use torch.utils._pytree.register_pytree_node instead.\n",
      "  torch.utils._pytree._register_pytree_node(\n",
      "Xformers is not installed correctly. If you want to use memory_efficient_attention to accelerate training use the following command to install Xformers\n",
      "pip install xformers.\n",
      "loading configuration file config.json from cache at /Users/moritz/.cache/huggingface/hub/models--distilbert-base-uncased/snapshots/12040accade4e8a0f71eabdb258fecc2e7e948be/config.json\n",
      "Model config DistilBertConfig {\n",
      "  \"activation\": \"gelu\",\n",
      "  \"architectures\": [\n",
      "    \"DistilBertForMaskedLM\"\n",
      "  ],\n",
      "  \"attention_dropout\": 0.1,\n",
      "  \"dim\": 768,\n",
      "  \"dropout\": 0.1,\n",
      "  \"hidden_dim\": 3072,\n",
      "  \"initializer_range\": 0.02,\n",
      "  \"max_position_embeddings\": 512,\n",
      "  \"model_type\": \"distilbert\",\n",
      "  \"n_heads\": 12,\n",
      "  \"n_layers\": 6,\n",
      "  \"output_attentions\": true,\n",
      "  \"output_hidden_states\": true,\n",
      "  \"pad_token_id\": 0,\n",
      "  \"qa_dropout\": 0.1,\n",
      "  \"seq_classif_dropout\": 0.2,\n",
      "  \"sinusoidal_pos_embds\": false,\n",
      "  \"tie_weights_\": true,\n",
      "  \"transformers_version\": \"4.33.3\",\n",
      "  \"vocab_size\": 30522\n",
      "}\n",
      "\n",
      "loading file vocab.txt from cache at /Users/moritz/.cache/huggingface/hub/models--distilbert-base-uncased/snapshots/12040accade4e8a0f71eabdb258fecc2e7e948be/vocab.txt\n",
      "loading file added_tokens.json from cache at None\n",
      "loading file special_tokens_map.json from cache at None\n",
      "loading file tokenizer_config.json from cache at /Users/moritz/.cache/huggingface/hub/models--distilbert-base-uncased/snapshots/12040accade4e8a0f71eabdb258fecc2e7e948be/tokenizer_config.json\n",
      "loading configuration file config.json from cache at /Users/moritz/.cache/huggingface/hub/models--distilbert-base-uncased/snapshots/12040accade4e8a0f71eabdb258fecc2e7e948be/config.json\n",
      "Model config DistilBertConfig {\n",
      "  \"_name_or_path\": \"distilbert-base-uncased\",\n",
      "  \"activation\": \"gelu\",\n",
      "  \"architectures\": [\n",
      "    \"DistilBertForMaskedLM\"\n",
      "  ],\n",
      "  \"attention_dropout\": 0.1,\n",
      "  \"dim\": 768,\n",
      "  \"dropout\": 0.1,\n",
      "  \"hidden_dim\": 3072,\n",
      "  \"initializer_range\": 0.02,\n",
      "  \"max_position_embeddings\": 512,\n",
      "  \"model_type\": \"distilbert\",\n",
      "  \"n_heads\": 12,\n",
      "  \"n_layers\": 6,\n",
      "  \"pad_token_id\": 0,\n",
      "  \"qa_dropout\": 0.1,\n",
      "  \"seq_classif_dropout\": 0.2,\n",
      "  \"sinusoidal_pos_embds\": false,\n",
      "  \"tie_weights_\": true,\n",
      "  \"transformers_version\": \"4.33.3\",\n",
      "  \"vocab_size\": 30522\n",
      "}\n",
      "\n",
      "loading weights file model.safetensors from cache at /Users/moritz/.cache/huggingface/hub/models--distilbert-base-uncased/snapshots/12040accade4e8a0f71eabdb258fecc2e7e948be/model.safetensors\n",
      "Some weights of the model checkpoint at distilbert-base-uncased were not used when initializing DistilBertModel: ['vocab_transform.bias', 'vocab_layer_norm.bias', 'vocab_projector.bias', 'vocab_layer_norm.weight', 'vocab_transform.weight']\n",
      "- This IS expected if you are initializing DistilBertModel from the checkpoint of a model trained on another task or with another architecture (e.g. initializing a BertForSequenceClassification model from a BertForPreTraining model).\n",
      "- This IS NOT expected if you are initializing DistilBertModel from the checkpoint of a model that you expect to be exactly identical (initializing a BertForSequenceClassification model from a BertForSequenceClassification model).\n",
      "All the weights of DistilBertModel were initialized from the model checkpoint at distilbert-base-uncased.\n",
      "If your task is similar to the task the model of the checkpoint was trained on, you can already use DistilBertModel for predictions without further training.\n"
     ]
    }
   ],
   "source": [
    "#######################\n",
    "### Import packages ###\n",
    "#######################\n",
    "import os\n",
    "import json\n",
    "import itertools\n",
    "from time import time\n",
    "from tqdm.notebook import tqdm\n",
    "\n",
    "import pandas as pd\n",
    "import numpy as np\n",
    "import matplotlib.pyplot as plt\n",
    "\n",
    "import torch\n",
    "from sentence_transformers import SentenceTransformer\n",
    "\n",
    "from argsum import get_soft_scores, match_scorer_cov_eval, llm_cov_eval, llm_red_eval\n",
    "\n",
    "##########################\n",
    "### Set plt parameters ###\n",
    "##########################\n",
    "\n",
    "plt.rcParams[\"font.family\"] = \"Times New Roman\"\n",
    "plt.rcParams[\"mathtext.fontset\"] = \"custom\"\n",
    "plt.rcParams[\"mathtext.rm\"] = \"Times New Roman\"\n",
    "plt.rcParams[\"mathtext.it\"] = \"Times New Roman:italic\"\n",
    "plt.rcParams[\"mathtext.bf\"] = \"Times New Roman:bold\"\n",
    "\n",
    "#################\n",
    "### Load data ###\n",
    "#################\n",
    "\n",
    "benjamin = pd.read_csv('investigations/0_human_evaluation_argkp21/annotations/1_summary_quality_benjamin_3.csv')\n",
    "johannes = pd.read_csv('investigations/0_human_evaluation_argkp21/annotations/1_summary_quality_johannes_4.csv')\n",
    "steffen = pd.read_csv('investigations/0_human_evaluation_argkp21/annotations/1_summary_quality_steffen_3.csv')\n",
    "moritz = pd.read_csv('investigations/0_human_evaluation_argkp21/annotations/1_summary_quality_moritz_4.csv')\n",
    "\n",
    "summetix_models = ['match_summetix_bleurt_it_0.csv', 'sep_gold_clusters_summetix_0.csv', 'sep_summetix_it_0.csv']\n",
    "common_models = set(benjamin[benjamin['coverage'] != -2]['file_name'].to_list()).intersection(set(johannes[johannes['coverage'] != -2]['file_name'].to_list()).intersection(set(steffen[steffen['coverage'] != -2]['file_name'].to_list()).intersection(set(moritz[moritz['coverage'] != -2]['file_name'].to_list()))))\n",
    "common_models = [model for model in common_models if model not in summetix_models]\n",
    "\n",
    "benjamin = benjamin[(benjamin['coverage'] != -2) & (benjamin['file_name'].isin(common_models))].sort_values(['topic', 'stance', 'file_name']).reset_index()\n",
    "johannes = johannes[(johannes['coverage'] != -2) & (johannes['file_name'].isin(common_models))].sort_values(['topic', 'stance', 'file_name']).reset_index()\n",
    "steffen = steffen[(steffen['coverage'] != -2) & (steffen['file_name'].isin(common_models))].sort_values(['topic', 'stance', 'file_name']).reset_index()\n",
    "moritz = moritz[(moritz['coverage'] != -2) & (moritz['file_name'].isin(common_models))].sort_values(['topic', 'stance', 'file_name']).reset_index()\n",
    "\n",
    "benjamin_cov = benjamin['coverage'].to_list()\n",
    "benjamin_red = benjamin['redundancy'].to_list()\n",
    "\n",
    "benjamin_n_cov = benjamin['n_covered'].to_list()\n",
    "benjamin_n_uni = benjamin['n_unique'].to_list()\n",
    "\n",
    "johannes_cov = johannes['coverage'].to_list()\n",
    "johannes_red = johannes['redundancy'].to_list()\n",
    "\n",
    "johannes_n_cov = johannes['n_covered'].to_list()\n",
    "johannes_n_uni = johannes['n_unique'].to_list()\n",
    "\n",
    "steffen_cov = steffen['coverage'].to_list()\n",
    "steffen_red = steffen['redundancy'].to_list()\n",
    "\n",
    "steffen_n_cov = steffen['n_covered'].to_list()\n",
    "steffen_n_uni = steffen['n_unique'].to_list()\n",
    "\n",
    "moritz_cov = moritz['coverage'].to_list()\n",
    "moritz_red = moritz['redundancy'].to_list()\n",
    "\n",
    "moritz_n_cov = moritz['n_covered'].to_list()\n",
    "moritz_n_uni = moritz['n_unique'].to_list()\n",
    "\n",
    "mean_cov = np.mean([benjamin_cov[0:len(benjamin)], johannes_cov[0:len(benjamin)], steffen_cov[0:len(benjamin)], moritz_cov[0:len(benjamin)]], axis = 0)\n",
    "mean_red = np.mean([benjamin_red[0:len(benjamin)], johannes_red[0:len(benjamin)], steffen_red[0:len(benjamin)], moritz_red[0:len(benjamin)]], axis = 0)\n",
    "\n",
    "mean_cov = np.append(mean_cov, np.mean([johannes_cov[len(benjamin):], steffen_cov[len(benjamin):], moritz_cov[len(benjamin):]], axis = 0))\n",
    "mean_red = np.append(mean_red, np.mean([johannes_red[len(benjamin):], steffen_red[len(benjamin):], moritz_red[len(benjamin):]], axis = 0))\n",
    "\n",
    "topics = johannes['topic'].to_list()\n",
    "stances = johannes['stance'].to_list()\n",
    "top_sta = [i for i in itertools.product(johannes['topic'].unique(), benjamin['stance'].unique())]\n",
    "\n",
    "references = [[ref[3:] for ref in refs.splitlines()] for refs in johannes['reference'].to_list()]\n",
    "candidates = [[cand[3:] for cand in cands.splitlines()] for cands in johannes['prediction'].to_list()]"
   ]
  },
  {
   "cell_type": "markdown",
   "metadata": {},
   "source": [
    "## Performance of systems"
   ]
  },
  {
   "cell_type": "code",
   "execution_count": 12,
   "metadata": {},
   "outputs": [
    {
     "data": {
      "text/html": [
       "<div>\n",
       "<style scoped>\n",
       "    .dataframe tbody tr th:only-of-type {\n",
       "        vertical-align: middle;\n",
       "    }\n",
       "\n",
       "    .dataframe tbody tr th {\n",
       "        vertical-align: top;\n",
       "    }\n",
       "\n",
       "    .dataframe thead th {\n",
       "        text-align: right;\n",
       "    }\n",
       "</style>\n",
       "<table border=\"1\" class=\"dataframe\">\n",
       "  <thead>\n",
       "    <tr style=\"text-align: right;\">\n",
       "      <th></th>\n",
       "      <th>Coverage</th>\n",
       "      <th>Redundancy</th>\n",
       "      <th>Weighted</th>\n",
       "    </tr>\n",
       "  </thead>\n",
       "  <tbody>\n",
       "    <tr>\n",
       "      <th>sep_gold_clusters_mc_argsum_local_0.csv</th>\n",
       "      <td>0.888</td>\n",
       "      <td>0.033</td>\n",
       "      <td>0.912</td>\n",
       "    </tr>\n",
       "    <tr>\n",
       "      <th>sep_gold_clusters_mc_argsum_global_0.csv</th>\n",
       "      <td>0.888</td>\n",
       "      <td>0.045</td>\n",
       "      <td>0.908</td>\n",
       "    </tr>\n",
       "    <tr>\n",
       "      <th>sep_mc_argsum_deberta_global_it_0.csv</th>\n",
       "      <td>0.686</td>\n",
       "      <td>0.043</td>\n",
       "      <td>0.767</td>\n",
       "    </tr>\n",
       "    <tr>\n",
       "      <th>match_smatchtopr_key_points_bleurt_bm_0.csv</th>\n",
       "      <td>0.684</td>\n",
       "      <td>0.144</td>\n",
       "      <td>0.735</td>\n",
       "    </tr>\n",
       "    <tr>\n",
       "      <th>sep_smatchtopr_key_points_bm_0.csv</th>\n",
       "      <td>0.674</td>\n",
       "      <td>0.144</td>\n",
       "      <td>0.729</td>\n",
       "    </tr>\n",
       "    <tr>\n",
       "      <th>sep_mc_argsum_sbert_local_it_0.csv</th>\n",
       "      <td>0.643</td>\n",
       "      <td>0.070</td>\n",
       "      <td>0.729</td>\n",
       "    </tr>\n",
       "    <tr>\n",
       "      <th>sep_mc_argsum_deberta_local_it_0.csv</th>\n",
       "      <td>0.643</td>\n",
       "      <td>0.097</td>\n",
       "      <td>0.721</td>\n",
       "    </tr>\n",
       "    <tr>\n",
       "      <th>match_barh_key_points_bleurt_bm_0.csv</th>\n",
       "      <td>0.688</td>\n",
       "      <td>0.241</td>\n",
       "      <td>0.710</td>\n",
       "    </tr>\n",
       "    <tr>\n",
       "      <th>sep_mc_argsum_sbert_global_it_0.csv</th>\n",
       "      <td>0.618</td>\n",
       "      <td>0.084</td>\n",
       "      <td>0.707</td>\n",
       "    </tr>\n",
       "    <tr>\n",
       "      <th>sep_gold_clusters_uskpm_0.csv</th>\n",
       "      <td>0.648</td>\n",
       "      <td>0.182</td>\n",
       "      <td>0.699</td>\n",
       "    </tr>\n",
       "    <tr>\n",
       "      <th>sep_barh_key_points_bm_0.csv</th>\n",
       "      <td>0.603</td>\n",
       "      <td>0.134</td>\n",
       "      <td>0.682</td>\n",
       "    </tr>\n",
       "    <tr>\n",
       "      <th>sep_smatchtopr_bm_0.csv</th>\n",
       "      <td>0.515</td>\n",
       "      <td>0.027</td>\n",
       "      <td>0.653</td>\n",
       "    </tr>\n",
       "    <tr>\n",
       "      <th>match_smatchtopr_bleurt_bm_0.csv</th>\n",
       "      <td>0.702</td>\n",
       "      <td>0.489</td>\n",
       "      <td>0.645</td>\n",
       "    </tr>\n",
       "    <tr>\n",
       "      <th>match_barh_bleurt_bm_0.csv</th>\n",
       "      <td>0.552</td>\n",
       "      <td>0.167</td>\n",
       "      <td>0.636</td>\n",
       "    </tr>\n",
       "    <tr>\n",
       "      <th>match_mc_argsum_deberta_local_bleurt_it_0.csv</th>\n",
       "      <td>0.543</td>\n",
       "      <td>0.178</td>\n",
       "      <td>0.627</td>\n",
       "    </tr>\n",
       "    <tr>\n",
       "      <th>sep_barh_bm_0.csv</th>\n",
       "      <td>0.502</td>\n",
       "      <td>0.122</td>\n",
       "      <td>0.615</td>\n",
       "    </tr>\n",
       "    <tr>\n",
       "      <th>match_mc_argsum_sbert_global_bleurt_it_0.csv</th>\n",
       "      <td>0.494</td>\n",
       "      <td>0.149</td>\n",
       "      <td>0.601</td>\n",
       "    </tr>\n",
       "    <tr>\n",
       "      <th>match_mc_argsum_sbert_local_bleurt_it_0.csv</th>\n",
       "      <td>0.530</td>\n",
       "      <td>0.240</td>\n",
       "      <td>0.599</td>\n",
       "    </tr>\n",
       "    <tr>\n",
       "      <th>match_mc_argsum_deberta_global_bleurt_it_0.csv</th>\n",
       "      <td>0.450</td>\n",
       "      <td>0.092</td>\n",
       "      <td>0.587</td>\n",
       "    </tr>\n",
       "    <tr>\n",
       "      <th>sep_uskpm_it_0.csv</th>\n",
       "      <td>0.499</td>\n",
       "      <td>0.330</td>\n",
       "      <td>0.550</td>\n",
       "    </tr>\n",
       "    <tr>\n",
       "      <th>match_uskpm_bleurt_it_0.csv</th>\n",
       "      <td>0.490</td>\n",
       "      <td>0.439</td>\n",
       "      <td>0.511</td>\n",
       "    </tr>\n",
       "  </tbody>\n",
       "</table>\n",
       "</div>"
      ],
      "text/plain": [
       "                                                Coverage  Redundancy  Weighted\n",
       "sep_gold_clusters_mc_argsum_local_0.csv            0.888       0.033     0.912\n",
       "sep_gold_clusters_mc_argsum_global_0.csv           0.888       0.045     0.908\n",
       "sep_mc_argsum_deberta_global_it_0.csv              0.686       0.043     0.767\n",
       "match_smatchtopr_key_points_bleurt_bm_0.csv        0.684       0.144     0.735\n",
       "sep_smatchtopr_key_points_bm_0.csv                 0.674       0.144     0.729\n",
       "sep_mc_argsum_sbert_local_it_0.csv                 0.643       0.070     0.729\n",
       "sep_mc_argsum_deberta_local_it_0.csv               0.643       0.097     0.721\n",
       "match_barh_key_points_bleurt_bm_0.csv              0.688       0.241     0.710\n",
       "sep_mc_argsum_sbert_global_it_0.csv                0.618       0.084     0.707\n",
       "sep_gold_clusters_uskpm_0.csv                      0.648       0.182     0.699\n",
       "sep_barh_key_points_bm_0.csv                       0.603       0.134     0.682\n",
       "sep_smatchtopr_bm_0.csv                            0.515       0.027     0.653\n",
       "match_smatchtopr_bleurt_bm_0.csv                   0.702       0.489     0.645\n",
       "match_barh_bleurt_bm_0.csv                         0.552       0.167     0.636\n",
       "match_mc_argsum_deberta_local_bleurt_it_0.csv      0.543       0.178     0.627\n",
       "sep_barh_bm_0.csv                                  0.502       0.122     0.615\n",
       "match_mc_argsum_sbert_global_bleurt_it_0.csv       0.494       0.149     0.601\n",
       "match_mc_argsum_sbert_local_bleurt_it_0.csv        0.530       0.240     0.599\n",
       "match_mc_argsum_deberta_global_bleurt_it_0.csv     0.450       0.092     0.587\n",
       "sep_uskpm_it_0.csv                                 0.499       0.330     0.550\n",
       "match_uskpm_bleurt_it_0.csv                        0.490       0.439     0.511"
      ]
     },
     "execution_count": 12,
     "metadata": {},
     "output_type": "execute_result"
    }
   ],
   "source": [
    "systems = johannes['file_name'].unique()\n",
    "df = pd.concat([benjamin, johannes, steffen, moritz])\n",
    "systems_cov = []\n",
    "systems_red = []\n",
    "\n",
    "for system in systems:\n",
    "    systems_cov.append(np.mean(df[df['file_name'] == system].coverage.to_list()))\n",
    "    systems_red.append(np.mean(df[df['file_name'] == system].redundancy.to_list()))\n",
    "                       \n",
    "pd.DataFrame({'Coverage':np.round(systems_cov, 3),\n",
    "              'Redundancy': np.round(systems_red, 3),\n",
    "              'Weighted': [np.round((0.7 * systems_cov[i] + 0.3 * (1 - systems_red[i])), 3) for i in range(len(systems_cov))]}, index = systems).sort_values(['Weighted'], ascending = False)"
   ]
  },
  {
   "cell_type": "markdown",
   "metadata": {},
   "source": [
    "## Distribution of annotations"
   ]
  },
  {
   "cell_type": "code",
   "execution_count": 490,
   "metadata": {},
   "outputs": [
    {
     "data": {
      "image/png": "[encoded data removed]",
      "text/plain": [
       "<Figure size 800x200 with 2 Axes>"
      ]
     },
     "metadata": {},
     "output_type": "display_data"
    }
   ],
   "source": [
    "plt.figure(figsize=(8,2))\n",
    "plt.subplot(1,2,1)\n",
    "bins = [i for i in np.arange(0,1.1,0.1)]\n",
    "data = benjamin_cov + johannes_cov + steffen_cov + moritz_cov\n",
    "plt.hist(x = data, bins = bins, color = 'tab:blue', edgecolor = 'black', linewidth = 0.5, alpha = 0.9)\n",
    "plt.xticks(ticks = bins, labels = [np.round(bins[i],2) if i % 2 ==  0 else '' for i in range(len(bins))], rotation = 0, fontsize = 12)\n",
    "plt.yticks(fontsize = 12)\n",
    "plt.grid(axis = 'y', linestyle = '--', alpha = 0.5)\n",
    "plt.title('Coverage', fontsize = 14)\n",
    "plt.xlabel('Score', fontsize = 14)\n",
    "plt.ylabel('Count', fontsize = 14)\n",
    "plt.ylim(0,250)\n",
    "\n",
    "plt.subplot(1,2,2)\n",
    "bins = [i for i in np.arange(0,1.1,0.1)]\n",
    "data = benjamin_red + johannes_red + steffen_red + moritz_red\n",
    "plt.hist(x = data, bins = bins, color = 'tab:blue', edgecolor = 'black', linewidth = 0.5, alpha = 0.9)\n",
    "plt.xticks(ticks = bins, labels = [np.round(bins[i],2) if i % 2 ==  0 else '' for i in range(len(bins))], rotation = 0, fontsize = 12)\n",
    "plt.xticks(ticks = bins, rotation = 0, fontsize = 12)\n",
    "plt.grid(axis = 'y', linestyle = '--', alpha = 0.5)\n",
    "plt.title('Redundancy', fontsize = 14)\n",
    "plt.xlabel('Score', fontsize = 14)\n",
    "plt.ylim(0,250)\n",
    "\n",
    "plt.show()"
   ]
  },
  {
   "cell_type": "code",
   "execution_count": 491,
   "metadata": {},
   "outputs": [
    {
     "data": {
      "image/png": "[encoded data removed]",
      "text/plain": [
       "<Figure size 800x200 with 2 Axes>"
      ]
     },
     "metadata": {},
     "output_type": "display_data"
    }
   ],
   "source": [
    "plt.figure(figsize=(8,2))\n",
    "plt.subplot(1,2,1)\n",
    "bins = [i for i in np.arange(0,1.1,0.1)]\n",
    "data = mean_cov\n",
    "plt.hist(x = data, bins = bins, color = 'tab:blue', edgecolor = 'black', linewidth = 0.5, alpha = 0.9)\n",
    "plt.xticks(ticks = bins, labels = [np.round(bins[i],2) if i % 2 ==  0 else '' for i in range(len(bins))], rotation = 0, fontsize = 12)\n",
    "plt.yticks(fontsize = 12)\n",
    "plt.grid(axis = 'y', linestyle = '--', alpha = 0.5)\n",
    "plt.title('Coverage', fontsize = 14)\n",
    "plt.xlabel('Score', fontsize = 14)\n",
    "plt.ylabel('Count', fontsize = 14)\n",
    "plt.ylim(0,70)\n",
    "\n",
    "plt.subplot(1,2,2)\n",
    "bins = [i for i in np.arange(0,1.1,0.1)]\n",
    "data = mean_red\n",
    "plt.hist(x = data, bins = bins, color = 'tab:blue', edgecolor = 'black', linewidth = 0.5, alpha = 0.9)\n",
    "plt.xticks(ticks = bins, labels = [np.round(bins[i],2) if i % 2 ==  0 else '' for i in range(len(bins))], rotation = 0, fontsize = 12)\n",
    "plt.xticks(ticks = bins, rotation = 0, fontsize = 12)\n",
    "plt.grid(axis = 'y', linestyle = '--', alpha = 0.5)\n",
    "plt.title('Redundancy', fontsize = 14)\n",
    "plt.xlabel('Score', fontsize = 14)\n",
    "plt.ylim(0,70)\n",
    "\n",
    "plt.show()"
   ]
  },
  {
   "cell_type": "code",
   "execution_count": 553,
   "metadata": {},
   "outputs": [
    {
     "data": {
      "image/png": "[encoded data removed]",
      "text/plain": [
       "<Figure size 600x600 with 1 Axes>"
      ]
     },
     "metadata": {},
     "output_type": "display_data"
    }
   ],
   "source": [
    "plt.figure(figsize=(6,6))\n",
    "plt.scatter(mean_cov, mean_red)\n",
    "plt.xticks(fontsize = 12)\n",
    "plt.yticks(fontsize = 12)\n",
    "plt.xlabel('Averaged Human Coverage Score' ,fontsize = 14)\n",
    "plt.ylabel('Averaged Human Redundancy Score' ,fontsize = 14)\n",
    "plt.title(f'Pearson Correlation Coefficient: {np.round(np.corrcoef(mean_cov, mean_red)[0][1],3)}',fontsize = 14)\n",
    "plt.ylim(-0.1,1.1)\n",
    "plt.xlim(-0.1,1.1)\n",
    "plt.grid(linestyle = '--', alpha = 0.5)\n",
    "plt.show()"
   ]
  },
  {
   "cell_type": "markdown",
   "metadata": {},
   "source": [
    "## Inter-rater Reliability"
   ]
  },
  {
   "cell_type": "code",
   "execution_count": 16,
   "metadata": {},
   "outputs": [],
   "source": [
    "corr_cov_benjamin = np.round(np.corrcoef([benjamin_cov[:len(benjamin_cov)], johannes_cov[:len(benjamin_cov)], steffen_cov[:len(benjamin_cov)], moritz_cov[:len(benjamin_cov)]]), 3)\n",
    "corr_cov_benjamin_only = corr_cov_benjamin[0]\n",
    "\n",
    "corr_cov_others = np.round(np.corrcoef([johannes_cov, steffen_cov, moritz_cov]), 3)\n",
    "corr_cov = np.zeros((4,4))\n",
    "corr_cov[0,:] = corr_cov_benjamin_only\n",
    "corr_cov[:,0] = corr_cov_benjamin_only\n",
    "corr_cov[1:,1:] = corr_cov_others\n",
    "\n",
    "corr_red_benjamin = np.round(np.corrcoef([benjamin_red[:len(benjamin_red)], johannes_red[:len(benjamin_red)], steffen_red[:len(benjamin_red)], moritz_red[:len(benjamin_red)]]), 3)\n",
    "corr_red_benjamin_only = corr_red_benjamin[0]\n",
    "\n",
    "corr_red_others = np.round(np.corrcoef([johannes_red, steffen_red, moritz_red]), 3)\n",
    "corr_red = np.zeros((4,4))\n",
    "corr_red[0,:] = corr_red_benjamin_only\n",
    "corr_red[:,0] = corr_red_benjamin_only\n",
    "corr_red[1:,1:] = corr_red_others"
   ]
  },
  {
   "cell_type": "code",
   "execution_count": 17,
   "metadata": {},
   "outputs": [
    {
     "data": {
      "image/png": "[encoded data removed]",
      "text/plain": [
       "<Figure size 800x400 with 2 Axes>"
      ]
     },
     "metadata": {},
     "output_type": "display_data"
    }
   ],
   "source": [
    "names = ['A1', 'A2', 'A3', 'A4']\n",
    "mean_corr_cov = np.round(np.mean(corr_cov_benjamin[np.triu_indices(4, k=1)]), 3)\n",
    "mean_corr_red = np.round(np.mean(corr_red_benjamin[np.triu_indices(4, k=1)]), 3)\n",
    "\n",
    "fig, axs = plt.subplots(1, 2, figsize=(8, 4))\n",
    "\n",
    "im1 = axs[0].imshow(corr_cov_benjamin, cmap=plt.get_cmap('coolwarm'), vmin=-1, vmax=1, alpha = 0.9)\n",
    "axs[0].set_xticks(np.arange(len(names)))\n",
    "axs[0].set_yticks(np.arange(len(names)))\n",
    "axs[0].set_xticklabels(names, rotation=0, fontsize = 14)\n",
    "axs[0].set_yticklabels(names, fontsize = 12)\n",
    "for i in range(len(names)):\n",
    "    for j in range(len(names)):\n",
    "        text = axs[0].text(j, i, corr_cov_benjamin[i, j], ha=\"center\", va=\"center\", color=\"black\", fontsize = 12)\n",
    "\n",
    "axs[0].set_title(f'Coverage ({mean_corr_cov})', fontsize = 14)\n",
    "\n",
    "im2 = axs[1].imshow(corr_red_benjamin, cmap=plt.get_cmap('coolwarm'), vmin=-1, vmax=1, alpha = 0.9)\n",
    "axs[1].set_xticks(np.arange(len(names)))\n",
    "axs[1].set_yticks(np.arange(len(names)))\n",
    "axs[1].set_xticklabels(names, rotation=0, fontsize = 14)\n",
    "axs[1].set_yticklabels(names, fontsize = 12)\n",
    "for i in range(len(names)):\n",
    "    for j in range(len(names)):\n",
    "        text = axs[1].text(j, i, corr_cov_benjamin[i, j], ha=\"center\", va=\"center\", color=\"black\", fontsize = 12)\n",
    "\n",
    "axs[1].set_title(f'Redundancy ({mean_corr_red})', fontsize = 14)\n",
    "\n",
    "# Adjust layout\n",
    "plt.tight_layout()\n",
    "\n",
    "# Show the plots\n",
    "plt.show()"
   ]
  },
  {
   "cell_type": "code",
   "execution_count": 18,
   "metadata": {},
   "outputs": [
    {
     "data": {
      "image/png": "[encoded data removed]",
      "text/plain": [
       "<Figure size 800x400 with 2 Axes>"
      ]
     },
     "metadata": {},
     "output_type": "display_data"
    }
   ],
   "source": [
    "names = ['A1', 'A2', 'A3', 'A4']\n",
    "mean_corr_cov = np.round(np.mean(corr_cov[np.triu_indices(4, k=1)]), 3)\n",
    "mean_corr_red = np.round(np.mean(corr_red[np.triu_indices(4, k=1)]), 3)\n",
    "\n",
    "fig, axs = plt.subplots(1, 2, figsize=(8, 4))\n",
    "\n",
    "im1 = axs[0].imshow(corr_cov, cmap=plt.get_cmap('Blues'), vmin=0, vmax=1.2, alpha = 0.9)\n",
    "axs[0].set_xticks(np.arange(len(names)))\n",
    "axs[0].set_yticks(np.arange(len(names)))\n",
    "axs[0].set_xticklabels(names, rotation=0, fontsize = 12)#, ha=\"right\", rotation_mode=\"anchor\")\n",
    "axs[0].set_yticklabels(names, fontsize = 12)\n",
    "for i in range(len(names)):\n",
    "    for j in range(len(names)):\n",
    "        text = axs[0].text(j, i, corr_cov[i, j], ha=\"center\", va=\"center\", color=\"black\", fontsize = 12)\n",
    "\n",
    "axs[0].set_title(f'Coverage ({mean_corr_cov})', fontsize = 14)\n",
    "\n",
    "im2 = axs[1].imshow(corr_red, cmap=plt.get_cmap('Blues'), vmin=0, vmax=1.2, alpha = 0.9)\n",
    "axs[1].set_xticks(np.arange(len(names)))\n",
    "axs[1].set_yticks(np.arange(len(names)))\n",
    "axs[1].set_xticklabels(names, rotation=0, fontsize = 12)#, ha=\"right\", rotation_mode=\"anchor\")\n",
    "axs[1].set_yticklabels(names, fontsize = 12)\n",
    "for i in range(len(names)):\n",
    "    for j in range(len(names)):\n",
    "        text = axs[1].text(j, i, corr_red[i, j], ha=\"center\", va=\"center\", color=\"black\", fontsize = 12)\n",
    "\n",
    "axs[1].set_title(f'Redundancy ({mean_corr_red})', fontsize = 14)\n",
    "\n",
    "# Adjust layout\n",
    "plt.tight_layout()\n",
    "\n",
    "# Show the plots\n",
    "plt.show()\n"
   ]
  },
  {
   "cell_type": "code",
   "execution_count": 25,
   "metadata": {},
   "outputs": [
    {
     "data": {
      "text/html": [
       "<div>\n",
       "<style scoped>\n",
       "    .dataframe tbody tr th:only-of-type {\n",
       "        vertical-align: middle;\n",
       "    }\n",
       "\n",
       "    .dataframe tbody tr th {\n",
       "        vertical-align: top;\n",
       "    }\n",
       "\n",
       "    .dataframe thead th {\n",
       "        text-align: right;\n",
       "    }\n",
       "</style>\n",
       "<table border=\"1\" class=\"dataframe\">\n",
       "  <thead>\n",
       "    <tr style=\"text-align: right;\">\n",
       "      <th></th>\n",
       "      <th>Coverage</th>\n",
       "      <th>Std</th>\n",
       "      <th>Redudnancy</th>\n",
       "      <th>Std</th>\n",
       "    </tr>\n",
       "  </thead>\n",
       "  <tbody>\n",
       "    <tr>\n",
       "      <th>(Routine child vaccinations should be mandatory, -1)</th>\n",
       "      <td>0.533000</td>\n",
       "      <td>0.116</td>\n",
       "      <td>0.873</td>\n",
       "      <td>0.037000</td>\n",
       "    </tr>\n",
       "    <tr>\n",
       "      <th>(Routine child vaccinations should be mandatory, 1)</th>\n",
       "      <td>0.581000</td>\n",
       "      <td>0.245</td>\n",
       "      <td>0.620</td>\n",
       "      <td>0.084000</td>\n",
       "    </tr>\n",
       "    <tr>\n",
       "      <th>(Social media platforms should be regulated by the government, -1)</th>\n",
       "      <td>0.787000</td>\n",
       "      <td>0.087</td>\n",
       "      <td>0.627</td>\n",
       "      <td>0.138000</td>\n",
       "    </tr>\n",
       "    <tr>\n",
       "      <th>(Social media platforms should be regulated by the government, 1)</th>\n",
       "      <td>0.829000</td>\n",
       "      <td>0.048</td>\n",
       "      <td>0.611</td>\n",
       "      <td>0.081000</td>\n",
       "    </tr>\n",
       "    <tr>\n",
       "      <th>(The USA is a good country to live in, -1)</th>\n",
       "      <td>0.846000</td>\n",
       "      <td>0.041</td>\n",
       "      <td>0.609</td>\n",
       "      <td>0.118000</td>\n",
       "    </tr>\n",
       "    <tr>\n",
       "      <th>(The USA is a good country to live in, 1)</th>\n",
       "      <td>0.898000</td>\n",
       "      <td>0.015</td>\n",
       "      <td>0.884</td>\n",
       "      <td>0.033000</td>\n",
       "    </tr>\n",
       "    <tr>\n",
       "      <th>Mean</th>\n",
       "      <td>0.745667</td>\n",
       "      <td>0.092</td>\n",
       "      <td>0.704</td>\n",
       "      <td>0.081833</td>\n",
       "    </tr>\n",
       "  </tbody>\n",
       "</table>\n",
       "</div>"
      ],
      "text/plain": [
       "                                                    Coverage    Std  \\\n",
       "(Routine child vaccinations should be mandatory...  0.533000  0.116   \n",
       "(Routine child vaccinations should be mandatory...  0.581000  0.245   \n",
       "(Social media platforms should be regulated by ...  0.787000  0.087   \n",
       "(Social media platforms should be regulated by ...  0.829000  0.048   \n",
       "(The USA is a good country to live in, -1)          0.846000  0.041   \n",
       "(The USA is a good country to live in, 1)           0.898000  0.015   \n",
       "Mean                                                0.745667  0.092   \n",
       "\n",
       "                                                    Redudnancy       Std  \n",
       "(Routine child vaccinations should be mandatory...       0.873  0.037000  \n",
       "(Routine child vaccinations should be mandatory...       0.620  0.084000  \n",
       "(Social media platforms should be regulated by ...       0.627  0.138000  \n",
       "(Social media platforms should be regulated by ...       0.611  0.081000  \n",
       "(The USA is a good country to live in, -1)               0.609  0.118000  \n",
       "(The USA is a good country to live in, 1)                0.884  0.033000  \n",
       "Mean                                                     0.704  0.081833  "
      ]
     },
     "execution_count": 25,
     "metadata": {},
     "output_type": "execute_result"
    }
   ],
   "source": [
    "n_sums_topic_sta = 21\n",
    "\n",
    "corr_cov = []\n",
    "mean_corr_cov = []\n",
    "std_corr_cov = []\n",
    "\n",
    "corr_red = []\n",
    "mean_corr_red = []\n",
    "std_corr_red = []\n",
    "\n",
    "for i in range(0, n_sums_topic_sta * 6, n_sums_topic_sta):\n",
    "    if i <= 63:\n",
    "        corr_cov.append(np.round(np.corrcoef([benjamin_cov[i:i+n_sums_topic_sta], johannes_cov[i:i+n_sums_topic_sta], steffen_cov[i:i+n_sums_topic_sta], moritz_cov[i:i+n_sums_topic_sta]]), 3))\n",
    "        mean_corr_cov.append(np.round(np.mean(corr_cov[-1][np.triu_indices(4, k = 1)]), 3))\n",
    "        std_corr_cov.append(np.round(np.std(corr_cov[-1][np.triu_indices(4, k = 1)]), 3))\n",
    "\n",
    "        corr_red.append(np.round(np.corrcoef([benjamin_red[i:i+n_sums_topic_sta], johannes_red[i:i+n_sums_topic_sta], steffen_red[i:i+n_sums_topic_sta], moritz_red[i:i+n_sums_topic_sta]]), 3))\n",
    "        mean_corr_red.append(np.round(np.mean(corr_red[-1][np.triu_indices(4, k = 1)]), 3))\n",
    "        std_corr_red.append(np.round(np.std(corr_red[-1][np.triu_indices(4, k = 1)]), 3))\n",
    "    else:\n",
    "        corr_cov.append(np.round(np.corrcoef([johannes_cov[i:i+n_sums_topic_sta], steffen_cov[i:i+n_sums_topic_sta], moritz_cov[i:i+n_sums_topic_sta]]), 3))\n",
    "        mean_corr_cov.append(np.round(np.mean(corr_cov[-1][np.triu_indices(3, k = 1)]), 3))\n",
    "        std_corr_cov.append(np.round(np.std(corr_cov[-1][np.triu_indices(3, k = 1)]), 3))\n",
    "\n",
    "        corr_red.append(np.round(np.corrcoef([johannes_red[i:i+n_sums_topic_sta], steffen_red[i:i+n_sums_topic_sta], moritz_red[i:i+n_sums_topic_sta]]), 3))\n",
    "        mean_corr_red.append(np.round(np.mean(corr_red[-1][np.triu_indices(3, k = 1)]), 3))\n",
    "        std_corr_red.append(np.round(np.std(corr_red[-1][np.triu_indices(3, k = 1)]), 3))\n",
    "\n",
    "pd.DataFrame([mean_corr_cov + [np.mean(mean_corr_cov)], std_corr_cov + [np.mean(std_corr_cov)], \n",
    "              mean_corr_red + [np.mean(mean_corr_red)], std_corr_red + [np.mean(std_corr_red)]], index = ['Coverage', 'Std', 'Redudnancy', 'Std'], columns = top_sta + ['Mean']).T"
   ]
  },
  {
   "cell_type": "markdown",
   "metadata": {},
   "source": [
    "## Automaric Evaluation Metrics"
   ]
  },
  {
   "cell_type": "markdown",
   "metadata": {},
   "source": [
    "### Soft-Scores"
   ]
  },
  {
   "cell_type": "code",
   "execution_count": null,
   "metadata": {},
   "outputs": [],
   "source": [
    "similarity_functions = ['rouge_1', 'rouge_2', 'rouge_l', 'bert_score_p', 'bert_score_r', 'bert_score_f', 'mover_score', 'bart_score_cnndm', 'bart_score_parabank', \n",
    "                        'bart_score_cnndm_rs', 'bart_score_parabank_rs', 'bleurt', 'menli', 'all_mpnet_base_v2', 'sbert_roberta_match', 's_bert_all_mpnet_base_v2_match',\n",
    "                        'deberta_match_1', 'deberta_match_2', 'deberta_match_mean', 'llm_sim']\n",
    "\n",
    "results = dict(zip(similarity_functions, [dict(zip(['sP', 'sR', 'sF1', 'runtime'], [[] for i in range(len(['sP', 'sR', 'sF1', 'runtime']))])) for i in range(len(similarity_functions))]))\n",
    "\n",
    "for i in tqdm(range(len(references))):\n",
    "    scores = get_soft_scores(reference = references[i], candidate = candidates[i])\n",
    "    for func in similarity_functions:\n",
    "        for score in ['sP', 'sR', 'sF1', 'runtime']:\n",
    "            results[func][score].append(scores[func][score])\n",
    "\n",
    "results\n",
    "output_dir = 'investigations/0_human_evaluation_argkp21/automatic_evaluation/'\n",
    "file_name = 'soft_score.json'\n",
    "\n",
    "if (output_dir != None) and (file_name != None):\n",
    "    if not os.path.exists(output_dir):\n",
    "        os.makedirs(output_dir)\n",
    "    with open(output_dir + '/' + file_name, 'w') as file:\n",
    "        json.dump(results, file)"
   ]
  },
  {
   "cell_type": "markdown",
   "metadata": {},
   "source": [
    "#### Coverage"
   ]
  },
  {
   "cell_type": "code",
   "execution_count": 39,
   "metadata": {},
   "outputs": [],
   "source": [
    "with open('investigations/0_human_evaluation_argkp21/automatic_evaluation/soft_score.json') as f:\n",
    "    soft_scores = json.load(f)\n",
    "\n",
    "similarity_functions = list(soft_scores.keys())\n",
    "\n",
    "sP_top_sta_mean_corr = []\n",
    "sR_top_sta_mean_corr = []\n",
    "sF1_top_sta_mean_corr = []\n",
    "\n",
    "sP_top_sta_std_corr = []\n",
    "sR_top_sta_std_corr = []\n",
    "sF1_top_sta_std_corr = []\n",
    "\n",
    "sP_top_sta_corr = []\n",
    "sR_top_sta_corr = []\n",
    "sF1_top_sta_corr = []\n",
    "\n",
    "runtime =[] \n",
    "\n",
    "for func in similarity_functions:\n",
    "\n",
    "    sP_corr = []\n",
    "    sR_corr = []\n",
    "    sF1_corr = []\n",
    "\n",
    "    for i in range(0,126,21):\n",
    "        \n",
    "        sP_corr.append(np.corrcoef(soft_scores[func]['sP'][i:i+21], mean_cov[i:i+21])[0][1])\n",
    "        sR_corr.append(np.corrcoef(soft_scores[func]['sR'][i:i+21], mean_cov[i:i+21])[0][1])\n",
    "        sF1_corr.append(np.corrcoef(soft_scores[func]['sF1'][i:i+21], mean_cov[i:i+21])[0][1])\n",
    "    \n",
    "    sP_top_sta_mean_corr.append(np.mean(sP_corr))\n",
    "    sR_top_sta_mean_corr.append(np.mean(sR_corr))\n",
    "    sF1_top_sta_mean_corr.append(np.mean(sF1_corr))\n",
    "\n",
    "    sP_top_sta_std_corr.append(np.std(sP_corr))\n",
    "    sR_top_sta_std_corr.append(np.std(sR_corr))\n",
    "    sF1_top_sta_std_corr.append(np.std(sF1_corr))\n",
    "\n",
    "    sP_top_sta_corr.append(np.corrcoef(soft_scores[func]['sP'], mean_cov)[0][1])\n",
    "    sR_top_sta_corr.append(np.corrcoef(soft_scores[func]['sR'], mean_cov)[0][1])\n",
    "    sF1_top_sta_corr.append(np.corrcoef(soft_scores[func]['sF1'], mean_cov)[0][1])\n",
    "\n",
    "    runtime.append(np.sum(soft_scores[func]['runtime']))"
   ]
  },
  {
   "cell_type": "code",
   "execution_count": 40,
   "metadata": {},
   "outputs": [
    {
     "name": "stdout",
     "output_type": "stream",
     "text": [
      "Coverage\n"
     ]
    },
    {
     "data": {
      "text/html": [
       "<div>\n",
       "<style scoped>\n",
       "    .dataframe tbody tr th:only-of-type {\n",
       "        vertical-align: middle;\n",
       "    }\n",
       "\n",
       "    .dataframe tbody tr th {\n",
       "        vertical-align: top;\n",
       "    }\n",
       "\n",
       "    .dataframe thead th {\n",
       "        text-align: right;\n",
       "    }\n",
       "</style>\n",
       "<table border=\"1\" class=\"dataframe\">\n",
       "  <thead>\n",
       "    <tr style=\"text-align: right;\">\n",
       "      <th></th>\n",
       "      <th>Corr sP</th>\n",
       "      <th>Mean Corr sP</th>\n",
       "      <th>Std Corr sP</th>\n",
       "      <th>Corr sR</th>\n",
       "      <th>Mean Corr sR</th>\n",
       "      <th>Std Corr sR</th>\n",
       "      <th>Corr sF1</th>\n",
       "      <th>Mean Corr sF1</th>\n",
       "      <th>Std Corr sF1</th>\n",
       "      <th>runtime</th>\n",
       "    </tr>\n",
       "  </thead>\n",
       "  <tbody>\n",
       "    <tr>\n",
       "      <th>rouge_1</th>\n",
       "      <td>-0.118</td>\n",
       "      <td>-0.072</td>\n",
       "      <td>0.194</td>\n",
       "      <td>0.164</td>\n",
       "      <td>0.315</td>\n",
       "      <td>0.170</td>\n",
       "      <td>0.027</td>\n",
       "      <td>0.127</td>\n",
       "      <td>0.184</td>\n",
       "      <td>0.428</td>\n",
       "    </tr>\n",
       "    <tr>\n",
       "      <th>rouge_2</th>\n",
       "      <td>-0.139</td>\n",
       "      <td>-0.082</td>\n",
       "      <td>0.321</td>\n",
       "      <td>0.091</td>\n",
       "      <td>0.243</td>\n",
       "      <td>0.270</td>\n",
       "      <td>-0.033</td>\n",
       "      <td>0.069</td>\n",
       "      <td>0.308</td>\n",
       "      <td>0.417</td>\n",
       "    </tr>\n",
       "    <tr>\n",
       "      <th>rouge_l</th>\n",
       "      <td>-0.170</td>\n",
       "      <td>-0.170</td>\n",
       "      <td>0.138</td>\n",
       "      <td>0.135</td>\n",
       "      <td>0.257</td>\n",
       "      <td>0.206</td>\n",
       "      <td>-0.019</td>\n",
       "      <td>0.044</td>\n",
       "      <td>0.155</td>\n",
       "      <td>0.436</td>\n",
       "    </tr>\n",
       "    <tr>\n",
       "      <th>bert_score_p</th>\n",
       "      <td>0.126</td>\n",
       "      <td>0.186</td>\n",
       "      <td>0.237</td>\n",
       "      <td>0.280</td>\n",
       "      <td>0.396</td>\n",
       "      <td>0.117</td>\n",
       "      <td>0.212</td>\n",
       "      <td>0.289</td>\n",
       "      <td>0.176</td>\n",
       "      <td>354.236</td>\n",
       "    </tr>\n",
       "    <tr>\n",
       "      <th>bert_score_r</th>\n",
       "      <td>-0.266</td>\n",
       "      <td>-0.113</td>\n",
       "      <td>0.229</td>\n",
       "      <td>0.101</td>\n",
       "      <td>0.300</td>\n",
       "      <td>0.268</td>\n",
       "      <td>-0.106</td>\n",
       "      <td>0.092</td>\n",
       "      <td>0.304</td>\n",
       "      <td>354.236</td>\n",
       "    </tr>\n",
       "    <tr>\n",
       "      <th>bert_score_f</th>\n",
       "      <td>-0.028</td>\n",
       "      <td>0.092</td>\n",
       "      <td>0.262</td>\n",
       "      <td>0.254</td>\n",
       "      <td>0.402</td>\n",
       "      <td>0.175</td>\n",
       "      <td>0.121</td>\n",
       "      <td>0.240</td>\n",
       "      <td>0.242</td>\n",
       "      <td>354.236</td>\n",
       "    </tr>\n",
       "    <tr>\n",
       "      <th>mover_score</th>\n",
       "      <td>-0.046</td>\n",
       "      <td>0.044</td>\n",
       "      <td>0.227</td>\n",
       "      <td>0.156</td>\n",
       "      <td>0.310</td>\n",
       "      <td>0.204</td>\n",
       "      <td>0.069</td>\n",
       "      <td>0.191</td>\n",
       "      <td>0.207</td>\n",
       "      <td>55.925</td>\n",
       "    </tr>\n",
       "    <tr>\n",
       "      <th>bart_score_cnndm</th>\n",
       "      <td>-0.146</td>\n",
       "      <td>-0.304</td>\n",
       "      <td>0.163</td>\n",
       "      <td>0.033</td>\n",
       "      <td>-0.005</td>\n",
       "      <td>0.301</td>\n",
       "      <td>-0.073</td>\n",
       "      <td>-0.164</td>\n",
       "      <td>0.248</td>\n",
       "      <td>84.334</td>\n",
       "    </tr>\n",
       "    <tr>\n",
       "      <th>bart_score_parabank</th>\n",
       "      <td>-0.270</td>\n",
       "      <td>-0.239</td>\n",
       "      <td>0.252</td>\n",
       "      <td>0.002</td>\n",
       "      <td>0.123</td>\n",
       "      <td>0.364</td>\n",
       "      <td>-0.153</td>\n",
       "      <td>-0.049</td>\n",
       "      <td>0.325</td>\n",
       "      <td>41.085</td>\n",
       "    </tr>\n",
       "    <tr>\n",
       "      <th>bart_score_cnndm_rs</th>\n",
       "      <td>-0.146</td>\n",
       "      <td>-0.305</td>\n",
       "      <td>0.164</td>\n",
       "      <td>0.024</td>\n",
       "      <td>-0.011</td>\n",
       "      <td>0.283</td>\n",
       "      <td>-0.053</td>\n",
       "      <td>-0.132</td>\n",
       "      <td>0.264</td>\n",
       "      <td>84.334</td>\n",
       "    </tr>\n",
       "    <tr>\n",
       "      <th>bart_score_parabank_rs</th>\n",
       "      <td>-0.271</td>\n",
       "      <td>-0.221</td>\n",
       "      <td>0.251</td>\n",
       "      <td>-0.012</td>\n",
       "      <td>0.112</td>\n",
       "      <td>0.339</td>\n",
       "      <td>-0.132</td>\n",
       "      <td>-0.022</td>\n",
       "      <td>0.320</td>\n",
       "      <td>41.085</td>\n",
       "    </tr>\n",
       "    <tr>\n",
       "      <th>bleurt</th>\n",
       "      <td>-0.209</td>\n",
       "      <td>-0.218</td>\n",
       "      <td>0.289</td>\n",
       "      <td>0.033</td>\n",
       "      <td>0.138</td>\n",
       "      <td>0.247</td>\n",
       "      <td>-0.091</td>\n",
       "      <td>-0.055</td>\n",
       "      <td>0.294</td>\n",
       "      <td>487.318</td>\n",
       "    </tr>\n",
       "    <tr>\n",
       "      <th>menli</th>\n",
       "      <td>-0.154</td>\n",
       "      <td>-0.039</td>\n",
       "      <td>0.287</td>\n",
       "      <td>0.265</td>\n",
       "      <td>0.372</td>\n",
       "      <td>0.260</td>\n",
       "      <td>0.107</td>\n",
       "      <td>0.228</td>\n",
       "      <td>0.298</td>\n",
       "      <td>254.607</td>\n",
       "    </tr>\n",
       "    <tr>\n",
       "      <th>all_mpnet_base_v2</th>\n",
       "      <td>0.022</td>\n",
       "      <td>-0.122</td>\n",
       "      <td>0.309</td>\n",
       "      <td>0.259</td>\n",
       "      <td>0.300</td>\n",
       "      <td>0.281</td>\n",
       "      <td>0.146</td>\n",
       "      <td>0.076</td>\n",
       "      <td>0.349</td>\n",
       "      <td>30.703</td>\n",
       "    </tr>\n",
       "    <tr>\n",
       "      <th>sbert_roberta_match</th>\n",
       "      <td>-0.329</td>\n",
       "      <td>-0.310</td>\n",
       "      <td>0.173</td>\n",
       "      <td>0.614</td>\n",
       "      <td>0.698</td>\n",
       "      <td>0.127</td>\n",
       "      <td>0.187</td>\n",
       "      <td>0.312</td>\n",
       "      <td>0.149</td>\n",
       "      <td>81.195</td>\n",
       "    </tr>\n",
       "    <tr>\n",
       "      <th>s_bert_all_mpnet_base_v2_match</th>\n",
       "      <td>-0.030</td>\n",
       "      <td>-0.111</td>\n",
       "      <td>0.234</td>\n",
       "      <td>0.433</td>\n",
       "      <td>0.665</td>\n",
       "      <td>0.177</td>\n",
       "      <td>0.249</td>\n",
       "      <td>0.375</td>\n",
       "      <td>0.260</td>\n",
       "      <td>28.829</td>\n",
       "    </tr>\n",
       "    <tr>\n",
       "      <th>deberta_match_1</th>\n",
       "      <td>-0.264</td>\n",
       "      <td>-0.114</td>\n",
       "      <td>0.241</td>\n",
       "      <td>0.451</td>\n",
       "      <td>0.532</td>\n",
       "      <td>0.272</td>\n",
       "      <td>0.302</td>\n",
       "      <td>0.422</td>\n",
       "      <td>0.288</td>\n",
       "      <td>120.807</td>\n",
       "    </tr>\n",
       "    <tr>\n",
       "      <th>deberta_match_2</th>\n",
       "      <td>-0.174</td>\n",
       "      <td>-0.071</td>\n",
       "      <td>0.272</td>\n",
       "      <td>0.626</td>\n",
       "      <td>0.694</td>\n",
       "      <td>0.239</td>\n",
       "      <td>0.566</td>\n",
       "      <td>0.641</td>\n",
       "      <td>0.228</td>\n",
       "      <td>113.276</td>\n",
       "    </tr>\n",
       "    <tr>\n",
       "      <th>deberta_match_mean</th>\n",
       "      <td>-0.240</td>\n",
       "      <td>-0.097</td>\n",
       "      <td>0.250</td>\n",
       "      <td>0.579</td>\n",
       "      <td>0.667</td>\n",
       "      <td>0.253</td>\n",
       "      <td>0.463</td>\n",
       "      <td>0.561</td>\n",
       "      <td>0.270</td>\n",
       "      <td>234.083</td>\n",
       "    </tr>\n",
       "    <tr>\n",
       "      <th>llm_sim</th>\n",
       "      <td>-0.152</td>\n",
       "      <td>-0.046</td>\n",
       "      <td>0.142</td>\n",
       "      <td>0.187</td>\n",
       "      <td>0.296</td>\n",
       "      <td>0.375</td>\n",
       "      <td>0.033</td>\n",
       "      <td>0.166</td>\n",
       "      <td>0.278</td>\n",
       "      <td>2860.520</td>\n",
       "    </tr>\n",
       "  </tbody>\n",
       "</table>\n",
       "</div>"
      ],
      "text/plain": [
       "                                Corr sP  Mean Corr sP  Std Corr sP  Corr sR  \\\n",
       "rouge_1                          -0.118        -0.072        0.194    0.164   \n",
       "rouge_2                          -0.139        -0.082        0.321    0.091   \n",
       "rouge_l                          -0.170        -0.170        0.138    0.135   \n",
       "bert_score_p                      0.126         0.186        0.237    0.280   \n",
       "bert_score_r                     -0.266        -0.113        0.229    0.101   \n",
       "bert_score_f                     -0.028         0.092        0.262    0.254   \n",
       "mover_score                      -0.046         0.044        0.227    0.156   \n",
       "bart_score_cnndm                 -0.146        -0.304        0.163    0.033   \n",
       "bart_score_parabank              -0.270        -0.239        0.252    0.002   \n",
       "bart_score_cnndm_rs              -0.146        -0.305        0.164    0.024   \n",
       "bart_score_parabank_rs           -0.271        -0.221        0.251   -0.012   \n",
       "bleurt                           -0.209        -0.218        0.289    0.033   \n",
       "menli                            -0.154        -0.039        0.287    0.265   \n",
       "all_mpnet_base_v2                 0.022        -0.122        0.309    0.259   \n",
       "sbert_roberta_match              -0.329        -0.310        0.173    0.614   \n",
       "s_bert_all_mpnet_base_v2_match   -0.030        -0.111        0.234    0.433   \n",
       "deberta_match_1                  -0.264        -0.114        0.241    0.451   \n",
       "deberta_match_2                  -0.174        -0.071        0.272    0.626   \n",
       "deberta_match_mean               -0.240        -0.097        0.250    0.579   \n",
       "llm_sim                          -0.152        -0.046        0.142    0.187   \n",
       "\n",
       "                                Mean Corr sR  Std Corr sR  Corr sF1  \\\n",
       "rouge_1                                0.315        0.170     0.027   \n",
       "rouge_2                                0.243        0.270    -0.033   \n",
       "rouge_l                                0.257        0.206    -0.019   \n",
       "bert_score_p                           0.396        0.117     0.212   \n",
       "bert_score_r                           0.300        0.268    -0.106   \n",
       "bert_score_f                           0.402        0.175     0.121   \n",
       "mover_score                            0.310        0.204     0.069   \n",
       "bart_score_cnndm                      -0.005        0.301    -0.073   \n",
       "bart_score_parabank                    0.123        0.364    -0.153   \n",
       "bart_score_cnndm_rs                   -0.011        0.283    -0.053   \n",
       "bart_score_parabank_rs                 0.112        0.339    -0.132   \n",
       "bleurt                                 0.138        0.247    -0.091   \n",
       "menli                                  0.372        0.260     0.107   \n",
       "all_mpnet_base_v2                      0.300        0.281     0.146   \n",
       "sbert_roberta_match                    0.698        0.127     0.187   \n",
       "s_bert_all_mpnet_base_v2_match         0.665        0.177     0.249   \n",
       "deberta_match_1                        0.532        0.272     0.302   \n",
       "deberta_match_2                        0.694        0.239     0.566   \n",
       "deberta_match_mean                     0.667        0.253     0.463   \n",
       "llm_sim                                0.296        0.375     0.033   \n",
       "\n",
       "                                Mean Corr sF1  Std Corr sF1   runtime  \n",
       "rouge_1                                 0.127         0.184     0.428  \n",
       "rouge_2                                 0.069         0.308     0.417  \n",
       "rouge_l                                 0.044         0.155     0.436  \n",
       "bert_score_p                            0.289         0.176   354.236  \n",
       "bert_score_r                            0.092         0.304   354.236  \n",
       "bert_score_f                            0.240         0.242   354.236  \n",
       "mover_score                             0.191         0.207    55.925  \n",
       "bart_score_cnndm                       -0.164         0.248    84.334  \n",
       "bart_score_parabank                    -0.049         0.325    41.085  \n",
       "bart_score_cnndm_rs                    -0.132         0.264    84.334  \n",
       "bart_score_parabank_rs                 -0.022         0.320    41.085  \n",
       "bleurt                                 -0.055         0.294   487.318  \n",
       "menli                                   0.228         0.298   254.607  \n",
       "all_mpnet_base_v2                       0.076         0.349    30.703  \n",
       "sbert_roberta_match                     0.312         0.149    81.195  \n",
       "s_bert_all_mpnet_base_v2_match          0.375         0.260    28.829  \n",
       "deberta_match_1                         0.422         0.288   120.807  \n",
       "deberta_match_2                         0.641         0.228   113.276  \n",
       "deberta_match_mean                      0.561         0.270   234.083  \n",
       "llm_sim                                 0.166         0.278  2860.520  "
      ]
     },
     "execution_count": 40,
     "metadata": {},
     "output_type": "execute_result"
    }
   ],
   "source": [
    "print('Coverage')\n",
    "results = pd.DataFrame({'Corr sP': sP_top_sta_corr, 'Mean Corr sP': sP_top_sta_mean_corr, 'Std Corr sP' :sP_top_sta_std_corr,\n",
    "              'Corr sR': sR_top_sta_corr, 'Mean Corr sR': sR_top_sta_mean_corr, 'Std Corr sR' :sR_top_sta_std_corr,\n",
    "              'Corr sF1': sF1_top_sta_corr, 'Mean Corr sF1': sF1_top_sta_mean_corr, 'Std Corr sF1' :sF1_top_sta_std_corr,\n",
    "              'runtime':runtime}, index = similarity_functions).round(3)\n",
    "results"
   ]
  },
  {
   "cell_type": "markdown",
   "metadata": {},
   "source": [
    "#### Redundancy"
   ]
  },
  {
   "cell_type": "code",
   "execution_count": null,
   "metadata": {},
   "outputs": [],
   "source": [
    "with open('investigations/0_human_evaluation/automatic_evaluation/soft_score.json') as f:\n",
    "    soft_scores = json.load(f)\n",
    "\n",
    "similarity_functions = ['rouge_1', 'rouge_2', 'rouge_l', 'bert_score_p', 'bert_score_r', 'bert_score_f', 'mover_score', 'bart_score_cnndm', 'bart_score_parabank', \n",
    "                        'bart_score_cnndm_rs', 'bart_score_parabank_rs', 'bleurt', 'menli', 'all_mpnet_base_v2', 'sbert_roberta_match', 's_bert_all_mpnet_base_v2_match',\n",
    "                        'deberta_match_1', 'deberta_match_2', 'deberta_match_mean', 'llm_sim']\n",
    "\n",
    "sP_top_sta_mean_corr = []\n",
    "sR_top_sta_mean_corr = []\n",
    "sF1_top_sta_mean_corr = []\n",
    "\n",
    "sP_top_sta_std_corr = []\n",
    "sR_top_sta_std_corr = []\n",
    "sF1_top_sta_std_corr = []\n",
    "\n",
    "sP_top_sta_corr = []\n",
    "sR_top_sta_corr = []\n",
    "sF1_top_sta_corr = []\n",
    "\n",
    "runtime = [] \n",
    "\n",
    "for func in similarity_functions:\n",
    "\n",
    "    sP_corr = []\n",
    "    sR_corr = []\n",
    "    sF1_corr = []\n",
    "\n",
    "    for i in range(0,84,21):\n",
    "        \n",
    "        sP_corr.append(np.corrcoef(soft_scores[func]['sP'][i:i+21], mean_red[i:i+21])[0][1])\n",
    "        sR_corr.append(np.corrcoef(soft_scores[func]['sR'][i:i+21], mean_red[i:i+21])[0][1])\n",
    "        sF1_corr.append(np.corrcoef(soft_scores[func]['sF1'][i:i+21], mean_red[i:i+21])[0][1])\n",
    "    \n",
    "    sP_top_sta_mean_corr.append(np.mean(sP_corr))\n",
    "    sR_top_sta_mean_corr.append(np.mean(sR_corr))\n",
    "    sF1_top_sta_mean_corr.append(np.mean(sF1_corr))\n",
    "\n",
    "    sP_top_sta_std_corr.append(np.std(sP_corr))\n",
    "    sR_top_sta_std_corr.append(np.std(sR_corr))\n",
    "    sF1_top_sta_std_corr.append(np.std(sF1_corr))\n",
    "\n",
    "    sP_top_sta_corr.append(np.corrcoef(soft_scores[func]['sP'], mean_red)[0][1])\n",
    "    sR_top_sta_corr.append(np.corrcoef(soft_scores[func]['sR'], mean_red)[0][1])\n",
    "    sF1_top_sta_corr.append(np.corrcoef(soft_scores[func]['sF1'], mean_red)[0][1])\n",
    "\n",
    "    runtime.append(np.sum(soft_scores[func]['runtime']))"
   ]
  },
  {
   "cell_type": "code",
   "execution_count": null,
   "metadata": {},
   "outputs": [
    {
     "name": "stdout",
     "output_type": "stream",
     "text": [
      "Redundancy\n"
     ]
    },
    {
     "data": {
      "text/html": [
       "<div>\n",
       "<style scoped>\n",
       "    .dataframe tbody tr th:only-of-type {\n",
       "        vertical-align: middle;\n",
       "    }\n",
       "\n",
       "    .dataframe tbody tr th {\n",
       "        vertical-align: top;\n",
       "    }\n",
       "\n",
       "    .dataframe thead th {\n",
       "        text-align: right;\n",
       "    }\n",
       "</style>\n",
       "<table border=\"1\" class=\"dataframe\">\n",
       "  <thead>\n",
       "    <tr style=\"text-align: right;\">\n",
       "      <th></th>\n",
       "      <th>Corr sP</th>\n",
       "      <th>Mean Corr sP</th>\n",
       "      <th>Std Corr sP</th>\n",
       "      <th>Corr sR</th>\n",
       "      <th>Mean Corr sR</th>\n",
       "      <th>Std Corr sR</th>\n",
       "      <th>Corr sF1</th>\n",
       "      <th>Mean Corr sF1</th>\n",
       "      <th>Std Corr sF1</th>\n",
       "      <th>runtime</th>\n",
       "    </tr>\n",
       "  </thead>\n",
       "  <tbody>\n",
       "    <tr>\n",
       "      <th>rouge_1</th>\n",
       "      <td>0.116</td>\n",
       "      <td>-0.296</td>\n",
       "      <td>0.112</td>\n",
       "      <td>0.281</td>\n",
       "      <td>0.095</td>\n",
       "      <td>0.227</td>\n",
       "      <td>0.205</td>\n",
       "      <td>-0.133</td>\n",
       "      <td>0.125</td>\n",
       "      <td>0.428</td>\n",
       "    </tr>\n",
       "    <tr>\n",
       "      <th>rouge_2</th>\n",
       "      <td>0.125</td>\n",
       "      <td>-0.252</td>\n",
       "      <td>0.186</td>\n",
       "      <td>0.316</td>\n",
       "      <td>0.091</td>\n",
       "      <td>0.179</td>\n",
       "      <td>0.217</td>\n",
       "      <td>-0.144</td>\n",
       "      <td>0.131</td>\n",
       "      <td>0.417</td>\n",
       "    </tr>\n",
       "    <tr>\n",
       "      <th>rouge_l</th>\n",
       "      <td>0.138</td>\n",
       "      <td>-0.257</td>\n",
       "      <td>0.121</td>\n",
       "      <td>0.308</td>\n",
       "      <td>0.080</td>\n",
       "      <td>0.104</td>\n",
       "      <td>0.229</td>\n",
       "      <td>-0.118</td>\n",
       "      <td>0.126</td>\n",
       "      <td>0.436</td>\n",
       "    </tr>\n",
       "    <tr>\n",
       "      <th>bert_score_p</th>\n",
       "      <td>0.010</td>\n",
       "      <td>-0.223</td>\n",
       "      <td>0.170</td>\n",
       "      <td>0.239</td>\n",
       "      <td>0.105</td>\n",
       "      <td>0.070</td>\n",
       "      <td>0.125</td>\n",
       "      <td>-0.095</td>\n",
       "      <td>0.123</td>\n",
       "      <td>354.236</td>\n",
       "    </tr>\n",
       "    <tr>\n",
       "      <th>bert_score_r</th>\n",
       "      <td>-0.064</td>\n",
       "      <td>-0.308</td>\n",
       "      <td>0.153</td>\n",
       "      <td>0.228</td>\n",
       "      <td>0.182</td>\n",
       "      <td>0.256</td>\n",
       "      <td>0.063</td>\n",
       "      <td>-0.100</td>\n",
       "      <td>0.164</td>\n",
       "      <td>354.236</td>\n",
       "    </tr>\n",
       "    <tr>\n",
       "      <th>bert_score_f</th>\n",
       "      <td>-0.058</td>\n",
       "      <td>-0.302</td>\n",
       "      <td>0.149</td>\n",
       "      <td>0.238</td>\n",
       "      <td>0.111</td>\n",
       "      <td>0.188</td>\n",
       "      <td>0.085</td>\n",
       "      <td>-0.154</td>\n",
       "      <td>0.134</td>\n",
       "      <td>354.236</td>\n",
       "    </tr>\n",
       "    <tr>\n",
       "      <th>mover_score</th>\n",
       "      <td>0.060</td>\n",
       "      <td>-0.159</td>\n",
       "      <td>0.175</td>\n",
       "      <td>0.228</td>\n",
       "      <td>0.053</td>\n",
       "      <td>0.190</td>\n",
       "      <td>0.155</td>\n",
       "      <td>-0.056</td>\n",
       "      <td>0.166</td>\n",
       "      <td>55.925</td>\n",
       "    </tr>\n",
       "    <tr>\n",
       "      <th>bart_score_cnndm</th>\n",
       "      <td>0.240</td>\n",
       "      <td>-0.028</td>\n",
       "      <td>0.082</td>\n",
       "      <td>0.430</td>\n",
       "      <td>0.350</td>\n",
       "      <td>0.212</td>\n",
       "      <td>0.356</td>\n",
       "      <td>0.196</td>\n",
       "      <td>0.156</td>\n",
       "      <td>84.334</td>\n",
       "    </tr>\n",
       "    <tr>\n",
       "      <th>bart_score_parabank</th>\n",
       "      <td>0.243</td>\n",
       "      <td>0.005</td>\n",
       "      <td>0.217</td>\n",
       "      <td>0.443</td>\n",
       "      <td>0.415</td>\n",
       "      <td>0.253</td>\n",
       "      <td>0.358</td>\n",
       "      <td>0.257</td>\n",
       "      <td>0.249</td>\n",
       "      <td>41.085</td>\n",
       "    </tr>\n",
       "    <tr>\n",
       "      <th>bart_score_cnndm_rs</th>\n",
       "      <td>0.235</td>\n",
       "      <td>-0.027</td>\n",
       "      <td>0.080</td>\n",
       "      <td>0.442</td>\n",
       "      <td>0.360</td>\n",
       "      <td>0.225</td>\n",
       "      <td>0.381</td>\n",
       "      <td>0.243</td>\n",
       "      <td>0.184</td>\n",
       "      <td>41.101</td>\n",
       "    </tr>\n",
       "    <tr>\n",
       "      <th>bart_score_parabank_rs</th>\n",
       "      <td>0.233</td>\n",
       "      <td>0.014</td>\n",
       "      <td>0.212</td>\n",
       "      <td>0.448</td>\n",
       "      <td>0.422</td>\n",
       "      <td>0.282</td>\n",
       "      <td>0.365</td>\n",
       "      <td>0.273</td>\n",
       "      <td>0.241</td>\n",
       "      <td>41.110</td>\n",
       "    </tr>\n",
       "    <tr>\n",
       "      <th>bleurt</th>\n",
       "      <td>0.154</td>\n",
       "      <td>-0.097</td>\n",
       "      <td>0.216</td>\n",
       "      <td>0.347</td>\n",
       "      <td>0.234</td>\n",
       "      <td>0.250</td>\n",
       "      <td>0.255</td>\n",
       "      <td>0.058</td>\n",
       "      <td>0.239</td>\n",
       "      <td>487.318</td>\n",
       "    </tr>\n",
       "    <tr>\n",
       "      <th>menli</th>\n",
       "      <td>-0.085</td>\n",
       "      <td>-0.227</td>\n",
       "      <td>0.055</td>\n",
       "      <td>0.184</td>\n",
       "      <td>0.173</td>\n",
       "      <td>0.218</td>\n",
       "      <td>0.055</td>\n",
       "      <td>-0.038</td>\n",
       "      <td>0.121</td>\n",
       "      <td>254.607</td>\n",
       "    </tr>\n",
       "    <tr>\n",
       "      <th>all_mpnet_base_v2</th>\n",
       "      <td>0.195</td>\n",
       "      <td>-0.254</td>\n",
       "      <td>0.172</td>\n",
       "      <td>0.325</td>\n",
       "      <td>0.198</td>\n",
       "      <td>0.255</td>\n",
       "      <td>0.267</td>\n",
       "      <td>-0.041</td>\n",
       "      <td>0.098</td>\n",
       "      <td>30.703</td>\n",
       "    </tr>\n",
       "    <tr>\n",
       "      <th>sbert_roberta_match</th>\n",
       "      <td>-0.048</td>\n",
       "      <td>-0.116</td>\n",
       "      <td>0.227</td>\n",
       "      <td>0.142</td>\n",
       "      <td>0.207</td>\n",
       "      <td>0.239</td>\n",
       "      <td>0.067</td>\n",
       "      <td>0.043</td>\n",
       "      <td>0.109</td>\n",
       "      <td>81.195</td>\n",
       "    </tr>\n",
       "    <tr>\n",
       "      <th>s_bert_all_mpnet_base_v2_match</th>\n",
       "      <td>0.159</td>\n",
       "      <td>-0.244</td>\n",
       "      <td>0.199</td>\n",
       "      <td>0.298</td>\n",
       "      <td>0.258</td>\n",
       "      <td>0.104</td>\n",
       "      <td>0.253</td>\n",
       "      <td>-0.033</td>\n",
       "      <td>0.150</td>\n",
       "      <td>28.829</td>\n",
       "    </tr>\n",
       "    <tr>\n",
       "      <th>deberta_match_1</th>\n",
       "      <td>0.089</td>\n",
       "      <td>0.111</td>\n",
       "      <td>0.149</td>\n",
       "      <td>0.251</td>\n",
       "      <td>0.255</td>\n",
       "      <td>0.291</td>\n",
       "      <td>0.241</td>\n",
       "      <td>0.188</td>\n",
       "      <td>0.255</td>\n",
       "      <td>120.807</td>\n",
       "    </tr>\n",
       "    <tr>\n",
       "      <th>deberta_match_2</th>\n",
       "      <td>-0.065</td>\n",
       "      <td>-0.092</td>\n",
       "      <td>0.259</td>\n",
       "      <td>0.093</td>\n",
       "      <td>0.045</td>\n",
       "      <td>0.176</td>\n",
       "      <td>0.064</td>\n",
       "      <td>-0.009</td>\n",
       "      <td>0.079</td>\n",
       "      <td>113.276</td>\n",
       "    </tr>\n",
       "    <tr>\n",
       "      <th>deberta_match_mean</th>\n",
       "      <td>0.037</td>\n",
       "      <td>0.048</td>\n",
       "      <td>0.199</td>\n",
       "      <td>0.178</td>\n",
       "      <td>0.199</td>\n",
       "      <td>0.252</td>\n",
       "      <td>0.170</td>\n",
       "      <td>0.145</td>\n",
       "      <td>0.196</td>\n",
       "      <td>234.083</td>\n",
       "    </tr>\n",
       "    <tr>\n",
       "      <th>llm_sim</th>\n",
       "      <td>0.067</td>\n",
       "      <td>-0.176</td>\n",
       "      <td>0.133</td>\n",
       "      <td>0.355</td>\n",
       "      <td>0.223</td>\n",
       "      <td>0.284</td>\n",
       "      <td>0.227</td>\n",
       "      <td>0.011</td>\n",
       "      <td>0.216</td>\n",
       "      <td>2860.520</td>\n",
       "    </tr>\n",
       "  </tbody>\n",
       "</table>\n",
       "</div>"
      ],
      "text/plain": [
       "                                Corr sP  Mean Corr sP  Std Corr sP  Corr sR  \\\n",
       "rouge_1                           0.116        -0.296        0.112    0.281   \n",
       "rouge_2                           0.125        -0.252        0.186    0.316   \n",
       "rouge_l                           0.138        -0.257        0.121    0.308   \n",
       "bert_score_p                      0.010        -0.223        0.170    0.239   \n",
       "bert_score_r                     -0.064        -0.308        0.153    0.228   \n",
       "bert_score_f                     -0.058        -0.302        0.149    0.238   \n",
       "mover_score                       0.060        -0.159        0.175    0.228   \n",
       "bart_score_cnndm                  0.240        -0.028        0.082    0.430   \n",
       "bart_score_parabank               0.243         0.005        0.217    0.443   \n",
       "bart_score_cnndm_rs               0.235        -0.027        0.080    0.442   \n",
       "bart_score_parabank_rs            0.233         0.014        0.212    0.448   \n",
       "bleurt                            0.154        -0.097        0.216    0.347   \n",
       "menli                            -0.085        -0.227        0.055    0.184   \n",
       "all_mpnet_base_v2                 0.195        -0.254        0.172    0.325   \n",
       "sbert_roberta_match              -0.048        -0.116        0.227    0.142   \n",
       "s_bert_all_mpnet_base_v2_match    0.159        -0.244        0.199    0.298   \n",
       "deberta_match_1                   0.089         0.111        0.149    0.251   \n",
       "deberta_match_2                  -0.065        -0.092        0.259    0.093   \n",
       "deberta_match_mean                0.037         0.048        0.199    0.178   \n",
       "llm_sim                           0.067        -0.176        0.133    0.355   \n",
       "\n",
       "                                Mean Corr sR  Std Corr sR  Corr sF1  \\\n",
       "rouge_1                                0.095        0.227     0.205   \n",
       "rouge_2                                0.091        0.179     0.217   \n",
       "rouge_l                                0.080        0.104     0.229   \n",
       "bert_score_p                           0.105        0.070     0.125   \n",
       "bert_score_r                           0.182        0.256     0.063   \n",
       "bert_score_f                           0.111        0.188     0.085   \n",
       "mover_score                            0.053        0.190     0.155   \n",
       "bart_score_cnndm                       0.350        0.212     0.356   \n",
       "bart_score_parabank                    0.415        0.253     0.358   \n",
       "bart_score_cnndm_rs                    0.360        0.225     0.381   \n",
       "bart_score_parabank_rs                 0.422        0.282     0.365   \n",
       "bleurt                                 0.234        0.250     0.255   \n",
       "menli                                  0.173        0.218     0.055   \n",
       "all_mpnet_base_v2                      0.198        0.255     0.267   \n",
       "sbert_roberta_match                    0.207        0.239     0.067   \n",
       "s_bert_all_mpnet_base_v2_match         0.258        0.104     0.253   \n",
       "deberta_match_1                        0.255        0.291     0.241   \n",
       "deberta_match_2                        0.045        0.176     0.064   \n",
       "deberta_match_mean                     0.199        0.252     0.170   \n",
       "llm_sim                                0.223        0.284     0.227   \n",
       "\n",
       "                                Mean Corr sF1  Std Corr sF1   runtime  \n",
       "rouge_1                                -0.133         0.125     0.428  \n",
       "rouge_2                                -0.144         0.131     0.417  \n",
       "rouge_l                                -0.118         0.126     0.436  \n",
       "bert_score_p                           -0.095         0.123   354.236  \n",
       "bert_score_r                           -0.100         0.164   354.236  \n",
       "bert_score_f                           -0.154         0.134   354.236  \n",
       "mover_score                            -0.056         0.166    55.925  \n",
       "bart_score_cnndm                        0.196         0.156    84.334  \n",
       "bart_score_parabank                     0.257         0.249    41.085  \n",
       "bart_score_cnndm_rs                     0.243         0.184    41.101  \n",
       "bart_score_parabank_rs                  0.273         0.241    41.110  \n",
       "bleurt                                  0.058         0.239   487.318  \n",
       "menli                                  -0.038         0.121   254.607  \n",
       "all_mpnet_base_v2                      -0.041         0.098    30.703  \n",
       "sbert_roberta_match                     0.043         0.109    81.195  \n",
       "s_bert_all_mpnet_base_v2_match         -0.033         0.150    28.829  \n",
       "deberta_match_1                         0.188         0.255   120.807  \n",
       "deberta_match_2                        -0.009         0.079   113.276  \n",
       "deberta_match_mean                      0.145         0.196   234.083  \n",
       "llm_sim                                 0.011         0.216  2860.520  "
      ]
     },
     "execution_count": 44,
     "metadata": {},
     "output_type": "execute_result"
    }
   ],
   "source": [
    "print('Redundancy')\n",
    "pd.DataFrame({'Corr sP': sP_top_sta_corr, 'Mean Corr sP': sP_top_sta_mean_corr, 'Std Corr sP' :sP_top_sta_std_corr,\n",
    "              'Corr sR': sR_top_sta_corr, 'Mean Corr sR': sR_top_sta_mean_corr, 'Std Corr sR' :sR_top_sta_std_corr,\n",
    "              'Corr sF1': sF1_top_sta_corr, 'Mean Corr sF1': sF1_top_sta_mean_corr, 'Std Corr sF1' :sF1_top_sta_std_corr,\n",
    "              'runtime':runtime}, index = similarity_functions).round(3)"
   ]
  },
  {
   "cell_type": "code",
   "execution_count": 527,
   "metadata": {},
   "outputs": [
    {
     "data": {
      "image/png": "[encoded data removed]",
      "text/plain": [
       "<Figure size 1000x1000 with 1 Axes>"
      ]
     },
     "metadata": {},
     "output_type": "display_data"
    }
   ],
   "source": [
    "with open('investigations/0_human_evaluation_argkp21/automatic_evaluation/soft_score.json') as f:\n",
    "    soft_scores = json.load(f)\n",
    "\n",
    "scores = soft_scores['rouge_1']['sP']\n",
    "\n",
    "i = 0\n",
    "plt.figure(figsize=(10,10))\n",
    "for j,i in enumerate(range(0,126,21)):\n",
    "    plt.scatter(mean_red[i:i+21], scores[i:i+21], label = f'{i}')\n",
    "    plt.xlabel('Human')\n",
    "    plt.ylabel('Match Scores Eval')\n",
    "    plt.grid()\n",
    "plt.legend(loc='upper center', bbox_to_anchor=(0.5, -0.12), ncol = 3)\n",
    "\n",
    "plt.show()"
   ]
  },
  {
   "cell_type": "markdown",
   "metadata": {},
   "source": [
    "### Coverage Score"
   ]
  },
  {
   "cell_type": "markdown",
   "metadata": {},
   "source": [
    "#### BarH Match Scorer"
   ]
  },
  {
   "cell_type": "code",
   "execution_count": null,
   "metadata": {},
   "outputs": [
    {
     "data": {
      "application/vnd.jupyter.widget-view+json": {
       "model_id": "c0f9ed1cce054e0f97105852d5373d99",
       "version_major": 2,
       "version_minor": 0
      },
      "text/plain": [
       "  0%|          | 0/11 [00:00<?, ?it/s]"
      ]
     },
     "metadata": {},
     "output_type": "display_data"
    },
    {
     "data": {
      "application/vnd.jupyter.widget-view+json": {
       "model_id": "59ee10216f3048a9b4b16c5111022a80",
       "version_major": 2,
       "version_minor": 0
      },
      "text/plain": [
       "  0%|          | 0/126 [00:00<?, ?it/s]"
      ]
     },
     "metadata": {},
     "output_type": "display_data"
    },
    {
     "name": "stderr",
     "output_type": "stream",
     "text": [
      "                                                               2.36it/s]\r"
     ]
    },
    {
     "data": {
      "application/vnd.jupyter.widget-view+json": {
       "model_id": "e7457f16103b46fbaad591fce4754869",
       "version_major": 2,
       "version_minor": 0
      },
      "text/plain": [
       "  0%|          | 0/126 [00:00<?, ?it/s]"
      ]
     },
     "metadata": {},
     "output_type": "display_data"
    },
    {
     "name": "stderr",
     "output_type": "stream",
     "text": [
      "                                                               2.77it/s]\r"
     ]
    },
    {
     "data": {
      "application/vnd.jupyter.widget-view+json": {
       "model_id": "67073c9e95034ff49d76c430066993f1",
       "version_major": 2,
       "version_minor": 0
      },
      "text/plain": [
       "  0%|          | 0/126 [00:00<?, ?it/s]"
      ]
     },
     "metadata": {},
     "output_type": "display_data"
    },
    {
     "name": "stderr",
     "output_type": "stream",
     "text": [
      "                                                               2.60it/s]\r"
     ]
    },
    {
     "data": {
      "application/vnd.jupyter.widget-view+json": {
       "model_id": "78477a2dea2d41e79308fb7ffbfd4f6f",
       "version_major": 2,
       "version_minor": 0
      },
      "text/plain": [
       "  0%|          | 0/126 [00:00<?, ?it/s]"
      ]
     },
     "metadata": {},
     "output_type": "display_data"
    },
    {
     "name": "stderr",
     "output_type": "stream",
     "text": [
      "                                                               2.63it/s]\r"
     ]
    },
    {
     "data": {
      "application/vnd.jupyter.widget-view+json": {
       "model_id": "005eb7929ba5485b90296006ff6a972d",
       "version_major": 2,
       "version_minor": 0
      },
      "text/plain": [
       "  0%|          | 0/126 [00:00<?, ?it/s]"
      ]
     },
     "metadata": {},
     "output_type": "display_data"
    },
    {
     "name": "stderr",
     "output_type": "stream",
     "text": [
      "                                                               2.10it/s]\r"
     ]
    },
    {
     "data": {
      "application/vnd.jupyter.widget-view+json": {
       "model_id": "e5aefc515e714bdcad8c412ce5696c2f",
       "version_major": 2,
       "version_minor": 0
      },
      "text/plain": [
       "  0%|          | 0/126 [00:00<?, ?it/s]"
      ]
     },
     "metadata": {},
     "output_type": "display_data"
    },
    {
     "name": "stderr",
     "output_type": "stream",
     "text": [
      "                                                               2.14it/s]\r"
     ]
    },
    {
     "data": {
      "application/vnd.jupyter.widget-view+json": {
       "model_id": "e2fee44a27434c0b91e41f0c60419425",
       "version_major": 2,
       "version_minor": 0
      },
      "text/plain": [
       "  0%|          | 0/126 [00:00<?, ?it/s]"
      ]
     },
     "metadata": {},
     "output_type": "display_data"
    },
    {
     "name": "stderr",
     "output_type": "stream",
     "text": [
      "                                                               1.43it/s]\r"
     ]
    },
    {
     "data": {
      "application/vnd.jupyter.widget-view+json": {
       "model_id": "075711259db04d5bb6b39cf0f2b9469c",
       "version_major": 2,
       "version_minor": 0
      },
      "text/plain": [
       "  0%|          | 0/126 [00:00<?, ?it/s]"
      ]
     },
     "metadata": {},
     "output_type": "display_data"
    },
    {
     "name": "stderr",
     "output_type": "stream",
     "text": [
      "                                                               1.44it/s]\r"
     ]
    },
    {
     "data": {
      "application/vnd.jupyter.widget-view+json": {
       "model_id": "a35ccb0b4cea4e4eb9d80c1d4e4f36c6",
       "version_major": 2,
       "version_minor": 0
      },
      "text/plain": [
       "  0%|          | 0/126 [00:00<?, ?it/s]"
      ]
     },
     "metadata": {},
     "output_type": "display_data"
    },
    {
     "name": "stderr",
     "output_type": "stream",
     "text": [
      "                                                               2.27it/s]\r"
     ]
    },
    {
     "data": {
      "application/vnd.jupyter.widget-view+json": {
       "model_id": "cc4ba7933a354b86963b3e58b97ac6e0",
       "version_major": 2,
       "version_minor": 0
      },
      "text/plain": [
       "  0%|          | 0/126 [00:00<?, ?it/s]"
      ]
     },
     "metadata": {},
     "output_type": "display_data"
    },
    {
     "name": "stderr",
     "output_type": "stream",
     "text": [
      "                                                               2.41it/s]\r"
     ]
    },
    {
     "data": {
      "application/vnd.jupyter.widget-view+json": {
       "model_id": "2e5ea68dac2a47c4af930671d6b52ffb",
       "version_major": 2,
       "version_minor": 0
      },
      "text/plain": [
       "  0%|          | 0/126 [00:00<?, ?it/s]"
      ]
     },
     "metadata": {},
     "output_type": "display_data"
    },
    {
     "name": "stderr",
     "output_type": "stream",
     "text": [
      "                                                               2.03it/s]\r"
     ]
    }
   ],
   "source": [
    "match_scorer = torch.load('models/match_scorer/cross_encoder/roberta_np/2024-Feb-20_08-20-28/best_model.pt')\n",
    "thresholds = [i for i in np.arange(0.4, 0.91, 0.05)]\n",
    "scores_threshold = []\n",
    "runtimes_threshold = []\n",
    "for threshold in tqdm(thresholds):\n",
    "    scores = []\n",
    "    runtimes = []\n",
    "    for i in tqdm(range(len(references))):\n",
    "        start_time = time()\n",
    "        scores.append(match_scorer_cov_eval(reference = references[i], candidate = candidates[i], threshold = threshold, match_scorer = match_scorer))\n",
    "        runtimes.append(time() - start_time)\n",
    "\n",
    "    scores_threshold.append(scores)\n",
    "    runtimes_threshold.append(runtimes)\n",
    "\n",
    "corr = []\n",
    "top_sta_mean_corr = []\n",
    "top_sta_std_corr = []\n",
    "\n",
    "for i in range(len(scores_threshold)):\n",
    "    corr_top_sta = []\n",
    "    for j in range(0,126,21):\n",
    "        a = scores_threshold[i][j:j+21]\n",
    "        a[-1] += 0.000001\n",
    "        corr_top_sta.append(np.round(np.corrcoef(a, mean_cov[j:j+21])[0][1], 4))\n",
    "    top_sta_mean_corr.append(np.mean(corr_top_sta))\n",
    "    top_sta_std_corr.append(np.std(corr_top_sta))\n",
    "\n",
    "    corr.append(np.round(np.corrcoef(scores_threshold[i], mean_cov)[0][1], 4))\n",
    "\n",
    "runtimes = np.sum(runtimes_threshold, axis = 1)\n",
    "\n",
    "results = pd.DataFrame({'Corr':corr,\n",
    "                        'Mean Corr':top_sta_mean_corr,\n",
    "                        'Std Corr':top_sta_std_corr,\n",
    "                        'Runtime':runtimes}, index = thresholds)\n",
    "\n",
    "results.to_csv('investigations/0_human_evaluation/automatic_evaluation/coverage_score_barh_corr.csv', index = True)"
   ]
  },
  {
   "cell_type": "code",
   "execution_count": 549,
   "metadata": {},
   "outputs": [
    {
     "name": "stdout",
     "output_type": "stream",
     "text": [
      "COVERAGE\n"
     ]
    },
    {
     "data": {
      "text/html": [
       "<div>\n",
       "<style scoped>\n",
       "    .dataframe tbody tr th:only-of-type {\n",
       "        vertical-align: middle;\n",
       "    }\n",
       "\n",
       "    .dataframe tbody tr th {\n",
       "        vertical-align: top;\n",
       "    }\n",
       "\n",
       "    .dataframe thead th {\n",
       "        text-align: right;\n",
       "    }\n",
       "</style>\n",
       "<table border=\"1\" class=\"dataframe\">\n",
       "  <thead>\n",
       "    <tr style=\"text-align: right;\">\n",
       "      <th></th>\n",
       "      <th>Corr</th>\n",
       "      <th>Mean Corr</th>\n",
       "      <th>Std Corr</th>\n",
       "      <th>Runtime</th>\n",
       "    </tr>\n",
       "  </thead>\n",
       "  <tbody>\n",
       "    <tr>\n",
       "      <th>0.40</th>\n",
       "      <td>0.478</td>\n",
       "      <td>0.585</td>\n",
       "      <td>0.254</td>\n",
       "      <td>45.824</td>\n",
       "    </tr>\n",
       "    <tr>\n",
       "      <th>0.45</th>\n",
       "      <td>0.475</td>\n",
       "      <td>0.605</td>\n",
       "      <td>0.248</td>\n",
       "      <td>46.169</td>\n",
       "    </tr>\n",
       "    <tr>\n",
       "      <th>0.50</th>\n",
       "      <td>0.465</td>\n",
       "      <td>0.627</td>\n",
       "      <td>0.251</td>\n",
       "      <td>46.648</td>\n",
       "    </tr>\n",
       "    <tr>\n",
       "      <th>0.55</th>\n",
       "      <td>0.462</td>\n",
       "      <td>0.657</td>\n",
       "      <td>0.273</td>\n",
       "      <td>46.178</td>\n",
       "    </tr>\n",
       "    <tr>\n",
       "      <th>0.60</th>\n",
       "      <td>0.489</td>\n",
       "      <td>0.698</td>\n",
       "      <td>0.222</td>\n",
       "      <td>45.460</td>\n",
       "    </tr>\n",
       "    <tr>\n",
       "      <th>0.65</th>\n",
       "      <td>0.464</td>\n",
       "      <td>0.676</td>\n",
       "      <td>0.218</td>\n",
       "      <td>52.929</td>\n",
       "    </tr>\n",
       "    <tr>\n",
       "      <th>0.70</th>\n",
       "      <td>0.458</td>\n",
       "      <td>0.657</td>\n",
       "      <td>0.233</td>\n",
       "      <td>67.883</td>\n",
       "    </tr>\n",
       "    <tr>\n",
       "      <th>0.75</th>\n",
       "      <td>0.466</td>\n",
       "      <td>0.658</td>\n",
       "      <td>0.197</td>\n",
       "      <td>79.443</td>\n",
       "    </tr>\n",
       "    <tr>\n",
       "      <th>0.80</th>\n",
       "      <td>0.429</td>\n",
       "      <td>0.591</td>\n",
       "      <td>0.154</td>\n",
       "      <td>61.872</td>\n",
       "    </tr>\n",
       "    <tr>\n",
       "      <th>0.85</th>\n",
       "      <td>0.414</td>\n",
       "      <td>0.556</td>\n",
       "      <td>0.201</td>\n",
       "      <td>56.125</td>\n",
       "    </tr>\n",
       "    <tr>\n",
       "      <th>0.90</th>\n",
       "      <td>0.295</td>\n",
       "      <td>0.504</td>\n",
       "      <td>0.249</td>\n",
       "      <td>52.907</td>\n",
       "    </tr>\n",
       "  </tbody>\n",
       "</table>\n",
       "</div>"
      ],
      "text/plain": [
       "       Corr  Mean Corr  Std Corr  Runtime\n",
       "0.40  0.478      0.585     0.254   45.824\n",
       "0.45  0.475      0.605     0.248   46.169\n",
       "0.50  0.465      0.627     0.251   46.648\n",
       "0.55  0.462      0.657     0.273   46.178\n",
       "0.60  0.489      0.698     0.222   45.460\n",
       "0.65  0.464      0.676     0.218   52.929\n",
       "0.70  0.458      0.657     0.233   67.883\n",
       "0.75  0.466      0.658     0.197   79.443\n",
       "0.80  0.429      0.591     0.154   61.872\n",
       "0.85  0.414      0.556     0.201   56.125\n",
       "0.90  0.295      0.504     0.249   52.907"
      ]
     },
     "execution_count": 549,
     "metadata": {},
     "output_type": "execute_result"
    }
   ],
   "source": [
    "print('COVERAGE')\n",
    "results = pd.read_csv('investigations/0_human_evaluation_argkp21/automatic_evaluation/coverage_score_barh_corr.csv', index_col = 0)\n",
    "results.round(3)"
   ]
  },
  {
   "cell_type": "code",
   "execution_count": 550,
   "metadata": {},
   "outputs": [
    {
     "data": {
      "text/plain": [
       "54.676"
      ]
     },
     "execution_count": 550,
     "metadata": {},
     "output_type": "execute_result"
    }
   ],
   "source": [
    "results.Runtime.mean().round(3)"
   ]
  },
  {
   "cell_type": "code",
   "execution_count": null,
   "metadata": {},
   "outputs": [],
   "source": [
    "match_scorer = torch.load('models/match_scorer/cross_encoder/roberta_np/2024-Feb-20_08-20-28/best_model.pt')\n",
    "thresholds = [i for i in np.arange(0.4, 0.91, 0.05)]\n",
    "scores_threshold = []\n",
    "runtimes_threshold = []\n",
    "for threshold in tqdm(thresholds):\n",
    "    scores = []\n",
    "    runtimes = []\n",
    "    for i in tqdm(range(len(references))):\n",
    "        start_time = time()\n",
    "        scores.append(match_scorer_cov_eval(reference = references[i], candidate = candidates[i], threshold = threshold, match_scorer = match_scorer))\n",
    "        runtimes.append(time() - start_time)\n",
    "\n",
    "    scores_threshold.append(scores)\n",
    "    runtimes_threshold.append(runtimes)\n",
    "\n",
    "corr = []\n",
    "top_sta_mean_corr = []\n",
    "top_sta_std_corr = []\n",
    "\n",
    "for i in range(len(scores_threshold)):\n",
    "    corr_top_sta = []\n",
    "    for j in range(0,126,21):\n",
    "        a = scores_threshold[i][j:j+21]\n",
    "        a[-1] += 0.000001\n",
    "        corr_top_sta.append(np.round(np.corrcoef(a, mean_red[j:j+21])[0][1], 4))\n",
    "    top_sta_mean_corr.append(np.mean(corr_top_sta))\n",
    "    top_sta_std_corr.append(np.std(corr_top_sta))\n",
    "\n",
    "    corr.append(np.round(np.corrcoef(scores_threshold[i], mean_red)[0][1], 4))\n",
    "\n",
    "runtimes = np.sum(runtimes_threshold, axis = 1)\n",
    "\n",
    "results = pd.DataFrame({'Corr':corr,\n",
    "                        'Mean Corr':top_sta_mean_corr,\n",
    "                        'Std Corr':top_sta_std_corr,\n",
    "                        'Runtime':runtimes}, index = thresholds)\n",
    "\n",
    "results.to_csv('investigations/0_human_evaluation_argkp21/automatic_evaluation/coverage_score_barh_corr_red.csv', index = True)"
   ]
  },
  {
   "cell_type": "code",
   "execution_count": 2,
   "metadata": {},
   "outputs": [
    {
     "name": "stdout",
     "output_type": "stream",
     "text": [
      "Redundancy\n"
     ]
    },
    {
     "data": {
      "text/html": [
       "<div>\n",
       "<style scoped>\n",
       "    .dataframe tbody tr th:only-of-type {\n",
       "        vertical-align: middle;\n",
       "    }\n",
       "\n",
       "    .dataframe tbody tr th {\n",
       "        vertical-align: top;\n",
       "    }\n",
       "\n",
       "    .dataframe thead th {\n",
       "        text-align: right;\n",
       "    }\n",
       "</style>\n",
       "<table border=\"1\" class=\"dataframe\">\n",
       "  <thead>\n",
       "    <tr style=\"text-align: right;\">\n",
       "      <th></th>\n",
       "      <th>Corr</th>\n",
       "      <th>Mean Corr</th>\n",
       "      <th>Std Corr</th>\n",
       "      <th>Runtime</th>\n",
       "    </tr>\n",
       "  </thead>\n",
       "  <tbody>\n",
       "    <tr>\n",
       "      <th>0.40</th>\n",
       "      <td>0.184</td>\n",
       "      <td>-0.005</td>\n",
       "      <td>0.287</td>\n",
       "      <td>66.374</td>\n",
       "    </tr>\n",
       "    <tr>\n",
       "      <th>0.45</th>\n",
       "      <td>0.182</td>\n",
       "      <td>0.006</td>\n",
       "      <td>0.279</td>\n",
       "      <td>66.795</td>\n",
       "    </tr>\n",
       "    <tr>\n",
       "      <th>0.50</th>\n",
       "      <td>0.171</td>\n",
       "      <td>-0.004</td>\n",
       "      <td>0.286</td>\n",
       "      <td>66.462</td>\n",
       "    </tr>\n",
       "    <tr>\n",
       "      <th>0.55</th>\n",
       "      <td>0.191</td>\n",
       "      <td>0.008</td>\n",
       "      <td>0.284</td>\n",
       "      <td>71.978</td>\n",
       "    </tr>\n",
       "    <tr>\n",
       "      <th>0.60</th>\n",
       "      <td>0.177</td>\n",
       "      <td>0.015</td>\n",
       "      <td>0.260</td>\n",
       "      <td>105.027</td>\n",
       "    </tr>\n",
       "    <tr>\n",
       "      <th>0.65</th>\n",
       "      <td>0.162</td>\n",
       "      <td>-0.010</td>\n",
       "      <td>0.242</td>\n",
       "      <td>89.941</td>\n",
       "    </tr>\n",
       "    <tr>\n",
       "      <th>0.70</th>\n",
       "      <td>0.173</td>\n",
       "      <td>0.009</td>\n",
       "      <td>0.230</td>\n",
       "      <td>80.060</td>\n",
       "    </tr>\n",
       "    <tr>\n",
       "      <th>0.75</th>\n",
       "      <td>0.187</td>\n",
       "      <td>0.037</td>\n",
       "      <td>0.185</td>\n",
       "      <td>76.119</td>\n",
       "    </tr>\n",
       "    <tr>\n",
       "      <th>0.80</th>\n",
       "      <td>0.177</td>\n",
       "      <td>-0.007</td>\n",
       "      <td>0.191</td>\n",
       "      <td>73.093</td>\n",
       "    </tr>\n",
       "    <tr>\n",
       "      <th>0.85</th>\n",
       "      <td>0.197</td>\n",
       "      <td>0.026</td>\n",
       "      <td>0.183</td>\n",
       "      <td>76.119</td>\n",
       "    </tr>\n",
       "    <tr>\n",
       "      <th>0.90</th>\n",
       "      <td>0.230</td>\n",
       "      <td>0.057</td>\n",
       "      <td>0.157</td>\n",
       "      <td>80.184</td>\n",
       "    </tr>\n",
       "  </tbody>\n",
       "</table>\n",
       "</div>"
      ],
      "text/plain": [
       "       Corr  Mean Corr  Std Corr  Runtime\n",
       "0.40  0.184     -0.005     0.287   66.374\n",
       "0.45  0.182      0.006     0.279   66.795\n",
       "0.50  0.171     -0.004     0.286   66.462\n",
       "0.55  0.191      0.008     0.284   71.978\n",
       "0.60  0.177      0.015     0.260  105.027\n",
       "0.65  0.162     -0.010     0.242   89.941\n",
       "0.70  0.173      0.009     0.230   80.060\n",
       "0.75  0.187      0.037     0.185   76.119\n",
       "0.80  0.177     -0.007     0.191   73.093\n",
       "0.85  0.197      0.026     0.183   76.119\n",
       "0.90  0.230      0.057     0.157   80.184"
      ]
     },
     "execution_count": 2,
     "metadata": {},
     "output_type": "execute_result"
    }
   ],
   "source": [
    "print('Redundancy')\n",
    "results = pd.read_csv('investigations/0_human_evaluation_argkp21/automatic_evaluation/coverage_score_barh_corr_red.csv', index_col = 0)\n",
    "results.round(3)"
   ]
  },
  {
   "cell_type": "code",
   "execution_count": 3,
   "metadata": {},
   "outputs": [
    {
     "data": {
      "text/plain": [
       "77.469"
      ]
     },
     "execution_count": 3,
     "metadata": {},
     "output_type": "execute_result"
    }
   ],
   "source": [
    "results.Runtime.mean().round(3)"
   ]
  },
  {
   "cell_type": "markdown",
   "metadata": {},
   "source": [
    "#### SMatchToPr Match Scorer"
   ]
  },
  {
   "cell_type": "code",
   "execution_count": null,
   "metadata": {},
   "outputs": [],
   "source": [
    "match_scorer = SentenceTransformer('models/match_scorer/bi_encoder/roberta_tp/2024-Feb-20_16-23-49')\n",
    "thresholds = [i for i in np.arange(0.4, 0.91, 0.05)]\n",
    "scores_threshold = []\n",
    "runtimes_threshold = []\n",
    "for threshold in tqdm(thresholds):\n",
    "    scores = []\n",
    "    runtimes = []\n",
    "    for i in tqdm(range(len(references))):\n",
    "        start_time = time()\n",
    "        scores.append(match_scorer_cov_eval(reference = references[i], candidate = candidates[i], threshold = threshold, match_scorer = match_scorer))\n",
    "        runtimes.append(time() - start_time)\n",
    "\n",
    "    scores_threshold.append(scores)\n",
    "    runtimes_threshold.append(runtimes)\n",
    "\n",
    "corr = []\n",
    "top_sta_mean_corr = []\n",
    "top_sta_std_corr = []\n",
    "\n",
    "for i in range(len(scores_threshold)):\n",
    "    corr_top_sta = []\n",
    "    for j in range(0,126,21):\n",
    "        a = scores_threshold[i][j:j+21]\n",
    "        a[-1] += 0.000001\n",
    "        corr_top_sta.append(np.round(np.corrcoef(a, mean_cov[j:j+21])[0][1], 4))\n",
    "    top_sta_mean_corr.append(np.mean(corr_top_sta))\n",
    "    top_sta_std_corr.append(np.std(corr_top_sta))\n",
    "    b = scores_threshold[i]\n",
    "    b[-1] += 0.000001\n",
    "\n",
    "    corr.append(np.round(np.corrcoef(b, mean_cov)[0][1], 4))\n",
    "\n",
    "runtimes = np.sum(runtimes_threshold, axis = 1)\n",
    "\n",
    "results = pd.DataFrame({'Corr':corr,\n",
    "                        'Mean Corr':top_sta_mean_corr,\n",
    "                        'Std Corr':top_sta_std_corr,\n",
    "                        'Runtime':runtimes}, index = thresholds)\n",
    "\n",
    "results.to_csv('investigations/0_human_evaluation/automatic_evaluation/coverage_score_smatchtopr_corr.csv', index = True)"
   ]
  },
  {
   "cell_type": "code",
   "execution_count": null,
   "metadata": {},
   "outputs": [
    {
     "name": "stdout",
     "output_type": "stream",
     "text": [
      "COVERAGE\n"
     ]
    },
    {
     "data": {
      "text/html": [
       "<div>\n",
       "<style scoped>\n",
       "    .dataframe tbody tr th:only-of-type {\n",
       "        vertical-align: middle;\n",
       "    }\n",
       "\n",
       "    .dataframe tbody tr th {\n",
       "        vertical-align: top;\n",
       "    }\n",
       "\n",
       "    .dataframe thead th {\n",
       "        text-align: right;\n",
       "    }\n",
       "</style>\n",
       "<table border=\"1\" class=\"dataframe\">\n",
       "  <thead>\n",
       "    <tr style=\"text-align: right;\">\n",
       "      <th></th>\n",
       "      <th>Corr</th>\n",
       "      <th>Mean Corr</th>\n",
       "      <th>Std Corr</th>\n",
       "      <th>Runtime</th>\n",
       "    </tr>\n",
       "  </thead>\n",
       "  <tbody>\n",
       "    <tr>\n",
       "      <th>0.40</th>\n",
       "      <td>-0.092</td>\n",
       "      <td>-0.157</td>\n",
       "      <td>0.037</td>\n",
       "      <td>37.030</td>\n",
       "    </tr>\n",
       "    <tr>\n",
       "      <th>0.45</th>\n",
       "      <td>0.163</td>\n",
       "      <td>-0.074</td>\n",
       "      <td>0.187</td>\n",
       "      <td>36.784</td>\n",
       "    </tr>\n",
       "    <tr>\n",
       "      <th>0.50</th>\n",
       "      <td>0.174</td>\n",
       "      <td>-0.023</td>\n",
       "      <td>0.196</td>\n",
       "      <td>39.269</td>\n",
       "    </tr>\n",
       "    <tr>\n",
       "      <th>0.55</th>\n",
       "      <td>0.378</td>\n",
       "      <td>0.249</td>\n",
       "      <td>0.307</td>\n",
       "      <td>36.525</td>\n",
       "    </tr>\n",
       "    <tr>\n",
       "      <th>0.60</th>\n",
       "      <td>0.469</td>\n",
       "      <td>0.338</td>\n",
       "      <td>0.371</td>\n",
       "      <td>37.333</td>\n",
       "    </tr>\n",
       "    <tr>\n",
       "      <th>0.65</th>\n",
       "      <td>0.465</td>\n",
       "      <td>0.411</td>\n",
       "      <td>0.256</td>\n",
       "      <td>37.687</td>\n",
       "    </tr>\n",
       "    <tr>\n",
       "      <th>0.70</th>\n",
       "      <td>0.457</td>\n",
       "      <td>0.404</td>\n",
       "      <td>0.212</td>\n",
       "      <td>38.218</td>\n",
       "    </tr>\n",
       "    <tr>\n",
       "      <th>0.75</th>\n",
       "      <td>0.541</td>\n",
       "      <td>0.550</td>\n",
       "      <td>0.182</td>\n",
       "      <td>36.930</td>\n",
       "    </tr>\n",
       "    <tr>\n",
       "      <th>0.80</th>\n",
       "      <td>0.511</td>\n",
       "      <td>0.600</td>\n",
       "      <td>0.196</td>\n",
       "      <td>37.423</td>\n",
       "    </tr>\n",
       "    <tr>\n",
       "      <th>0.85</th>\n",
       "      <td>0.468</td>\n",
       "      <td>0.558</td>\n",
       "      <td>0.085</td>\n",
       "      <td>37.139</td>\n",
       "    </tr>\n",
       "    <tr>\n",
       "      <th>0.90</th>\n",
       "      <td>0.238</td>\n",
       "      <td>0.261</td>\n",
       "      <td>0.070</td>\n",
       "      <td>37.293</td>\n",
       "    </tr>\n",
       "  </tbody>\n",
       "</table>\n",
       "</div>"
      ],
      "text/plain": [
       "       Corr  Mean Corr  Std Corr  Runtime\n",
       "0.40 -0.092     -0.157     0.037   37.030\n",
       "0.45  0.163     -0.074     0.187   36.784\n",
       "0.50  0.174     -0.023     0.196   39.269\n",
       "0.55  0.378      0.249     0.307   36.525\n",
       "0.60  0.469      0.338     0.371   37.333\n",
       "0.65  0.465      0.411     0.256   37.687\n",
       "0.70  0.457      0.404     0.212   38.218\n",
       "0.75  0.541      0.550     0.182   36.930\n",
       "0.80  0.511      0.600     0.196   37.423\n",
       "0.85  0.468      0.558     0.085   37.139\n",
       "0.90  0.238      0.261     0.070   37.293"
      ]
     },
     "execution_count": 56,
     "metadata": {},
     "output_type": "execute_result"
    }
   ],
   "source": [
    "print('COVERAGE')\n",
    "results = pd.read_csv('investigations/0_human_evaluation/automatic_evaluation/coverage_score_smatchtopr_corr.csv', index_col = 0)\n",
    "results.round(3)"
   ]
  },
  {
   "cell_type": "code",
   "execution_count": null,
   "metadata": {},
   "outputs": [
    {
     "data": {
      "text/plain": [
       "37.421"
      ]
     },
     "execution_count": 57,
     "metadata": {},
     "output_type": "execute_result"
    }
   ],
   "source": [
    "results.Runtime.mean().round(3)"
   ]
  },
  {
   "cell_type": "markdown",
   "metadata": {},
   "source": [
    "#### MCArgSum Match Scorer"
   ]
  },
  {
   "cell_type": "code",
   "execution_count": null,
   "metadata": {},
   "outputs": [
    {
     "data": {
      "application/vnd.jupyter.widget-view+json": {
       "model_id": "02497c2863ff4d7381ccaf719c2c6f1a",
       "version_major": 2,
       "version_minor": 0
      },
      "text/plain": [
       "  0%|          | 0/11 [00:00<?, ?it/s]"
      ]
     },
     "metadata": {},
     "output_type": "display_data"
    },
    {
     "data": {
      "application/vnd.jupyter.widget-view+json": {
       "model_id": "1e63d479966e48c0bf9b41e262a71c57",
       "version_major": 2,
       "version_minor": 0
      },
      "text/plain": [
       "  0%|          | 0/126 [00:00<?, ?it/s]"
      ]
     },
     "metadata": {},
     "output_type": "display_data"
    },
    {
     "data": {
      "application/vnd.jupyter.widget-view+json": {
       "model_id": "c9267a2516c943de9e9ab2f6e2b1228d",
       "version_major": 2,
       "version_minor": 0
      },
      "text/plain": [
       "  0%|          | 0/126 [00:00<?, ?it/s]"
      ]
     },
     "metadata": {},
     "output_type": "display_data"
    },
    {
     "data": {
      "application/vnd.jupyter.widget-view+json": {
       "model_id": "179c6fa4280e410e8288dff1bffd197f",
       "version_major": 2,
       "version_minor": 0
      },
      "text/plain": [
       "  0%|          | 0/126 [00:00<?, ?it/s]"
      ]
     },
     "metadata": {},
     "output_type": "display_data"
    },
    {
     "data": {
      "application/vnd.jupyter.widget-view+json": {
       "model_id": "8142142193d144e99efcf557dbdf5c1d",
       "version_major": 2,
       "version_minor": 0
      },
      "text/plain": [
       "  0%|          | 0/126 [00:00<?, ?it/s]"
      ]
     },
     "metadata": {},
     "output_type": "display_data"
    },
    {
     "data": {
      "application/vnd.jupyter.widget-view+json": {
       "model_id": "36488f2dea734eeca700eba1f28a0345",
       "version_major": 2,
       "version_minor": 0
      },
      "text/plain": [
       "  0%|          | 0/126 [00:00<?, ?it/s]"
      ]
     },
     "metadata": {},
     "output_type": "display_data"
    },
    {
     "data": {
      "application/vnd.jupyter.widget-view+json": {
       "model_id": "6476bbd29e2a44a49bef41ee0e9a1c62",
       "version_major": 2,
       "version_minor": 0
      },
      "text/plain": [
       "  0%|          | 0/126 [00:00<?, ?it/s]"
      ]
     },
     "metadata": {},
     "output_type": "display_data"
    },
    {
     "data": {
      "application/vnd.jupyter.widget-view+json": {
       "model_id": "4bc5a480f8d640e19250a103a885c9ba",
       "version_major": 2,
       "version_minor": 0
      },
      "text/plain": [
       "  0%|          | 0/126 [00:00<?, ?it/s]"
      ]
     },
     "metadata": {},
     "output_type": "display_data"
    },
    {
     "data": {
      "application/vnd.jupyter.widget-view+json": {
       "model_id": "e9577d3cde1940979da04d79e9528ad0",
       "version_major": 2,
       "version_minor": 0
      },
      "text/plain": [
       "  0%|          | 0/126 [00:00<?, ?it/s]"
      ]
     },
     "metadata": {},
     "output_type": "display_data"
    },
    {
     "data": {
      "application/vnd.jupyter.widget-view+json": {
       "model_id": "847b05abcebd41169176deb9ef1a63b6",
       "version_major": 2,
       "version_minor": 0
      },
      "text/plain": [
       "  0%|          | 0/126 [00:00<?, ?it/s]"
      ]
     },
     "metadata": {},
     "output_type": "display_data"
    },
    {
     "data": {
      "application/vnd.jupyter.widget-view+json": {
       "model_id": "0cc2e46a91dc4998b1a4ac69c559f5da",
       "version_major": 2,
       "version_minor": 0
      },
      "text/plain": [
       "  0%|          | 0/126 [00:00<?, ?it/s]"
      ]
     },
     "metadata": {},
     "output_type": "display_data"
    },
    {
     "data": {
      "application/vnd.jupyter.widget-view+json": {
       "model_id": "6438b579a339403a83b2d24381b7b22f",
       "version_major": 2,
       "version_minor": 0
      },
      "text/plain": [
       "  0%|          | 0/126 [00:00<?, ?it/s]"
      ]
     },
     "metadata": {},
     "output_type": "display_data"
    }
   ],
   "source": [
    "match_scorer = SentenceTransformer('models/match_scorer/bi_encoder/all-mpnet-base-v2/2024-Jun-05_22-29-27')\n",
    "thresholds = [i for i in np.arange(0.4, 0.91, 0.05)]\n",
    "scores_threshold = []\n",
    "runtimes_threshold = []\n",
    "for threshold in tqdm(thresholds):\n",
    "    scores = []\n",
    "    runtimes = []\n",
    "    for i in tqdm(range(len(references))):\n",
    "        start_time = time()\n",
    "        scores.append(match_scorer_cov_eval(reference = references[i], candidate = candidates[i], threshold = threshold, match_scorer = match_scorer))\n",
    "        runtimes.append(time() - start_time)\n",
    "\n",
    "    scores_threshold.append(scores)\n",
    "    runtimes_threshold.append(runtimes)\n",
    "\n",
    "corr = []\n",
    "top_sta_mean_corr = []\n",
    "top_sta_std_corr = []\n",
    "\n",
    "for i in range(len(scores_threshold)):\n",
    "    corr_top_sta = []\n",
    "    for j in range(0,126,21):\n",
    "        a = scores_threshold[i][j:j+21]\n",
    "        a[-1] += 0.000001\n",
    "        corr_top_sta.append(np.round(np.corrcoef(a, mean_cov[j:j+21])[0][1], 4))\n",
    "    top_sta_mean_corr.append(np.mean(corr_top_sta))\n",
    "    top_sta_std_corr.append(np.std(corr_top_sta))\n",
    "    b = scores_threshold[i]\n",
    "    b[-1] += 0.000001\n",
    "\n",
    "    corr.append(np.round(np.corrcoef(b, mean_cov)[0][1], 4))\n",
    "\n",
    "runtimes = np.sum(runtimes_threshold, axis = 1)\n",
    "\n",
    "results = pd.DataFrame({'Corr':corr,\n",
    "                        'Mean Corr':top_sta_mean_corr,\n",
    "                        'Std Corr':top_sta_std_corr,\n",
    "                        'Runtime':runtimes}, index = thresholds)\n",
    "\n",
    "results.to_csv('investigations/0_human_evaluation/automatic_evaluation/coverage_score_mcargsum_corr.csv', index = True)"
   ]
  },
  {
   "cell_type": "code",
   "execution_count": null,
   "metadata": {},
   "outputs": [
    {
     "name": "stdout",
     "output_type": "stream",
     "text": [
      "COVERAGE\n"
     ]
    },
    {
     "data": {
      "text/html": [
       "<div>\n",
       "<style scoped>\n",
       "    .dataframe tbody tr th:only-of-type {\n",
       "        vertical-align: middle;\n",
       "    }\n",
       "\n",
       "    .dataframe tbody tr th {\n",
       "        vertical-align: top;\n",
       "    }\n",
       "\n",
       "    .dataframe thead th {\n",
       "        text-align: right;\n",
       "    }\n",
       "</style>\n",
       "<table border=\"1\" class=\"dataframe\">\n",
       "  <thead>\n",
       "    <tr style=\"text-align: right;\">\n",
       "      <th></th>\n",
       "      <th>Corr</th>\n",
       "      <th>Mean Corr</th>\n",
       "      <th>Std Corr</th>\n",
       "      <th>Runtime</th>\n",
       "    </tr>\n",
       "  </thead>\n",
       "  <tbody>\n",
       "    <tr>\n",
       "      <th>0.40</th>\n",
       "      <td>0.206</td>\n",
       "      <td>-0.057</td>\n",
       "      <td>0.223</td>\n",
       "      <td>20.131</td>\n",
       "    </tr>\n",
       "    <tr>\n",
       "      <th>0.45</th>\n",
       "      <td>0.300</td>\n",
       "      <td>-0.019</td>\n",
       "      <td>0.307</td>\n",
       "      <td>20.321</td>\n",
       "    </tr>\n",
       "    <tr>\n",
       "      <th>0.50</th>\n",
       "      <td>0.300</td>\n",
       "      <td>-0.019</td>\n",
       "      <td>0.307</td>\n",
       "      <td>19.442</td>\n",
       "    </tr>\n",
       "    <tr>\n",
       "      <th>0.55</th>\n",
       "      <td>0.281</td>\n",
       "      <td>-0.002</td>\n",
       "      <td>0.292</td>\n",
       "      <td>18.509</td>\n",
       "    </tr>\n",
       "    <tr>\n",
       "      <th>0.60</th>\n",
       "      <td>0.415</td>\n",
       "      <td>0.137</td>\n",
       "      <td>0.390</td>\n",
       "      <td>18.698</td>\n",
       "    </tr>\n",
       "    <tr>\n",
       "      <th>0.65</th>\n",
       "      <td>0.449</td>\n",
       "      <td>0.256</td>\n",
       "      <td>0.357</td>\n",
       "      <td>18.868</td>\n",
       "    </tr>\n",
       "    <tr>\n",
       "      <th>0.70</th>\n",
       "      <td>0.369</td>\n",
       "      <td>0.297</td>\n",
       "      <td>0.295</td>\n",
       "      <td>19.167</td>\n",
       "    </tr>\n",
       "    <tr>\n",
       "      <th>0.75</th>\n",
       "      <td>0.379</td>\n",
       "      <td>0.347</td>\n",
       "      <td>0.319</td>\n",
       "      <td>21.516</td>\n",
       "    </tr>\n",
       "    <tr>\n",
       "      <th>0.80</th>\n",
       "      <td>0.444</td>\n",
       "      <td>0.551</td>\n",
       "      <td>0.193</td>\n",
       "      <td>18.105</td>\n",
       "    </tr>\n",
       "    <tr>\n",
       "      <th>0.85</th>\n",
       "      <td>0.364</td>\n",
       "      <td>0.421</td>\n",
       "      <td>0.270</td>\n",
       "      <td>20.356</td>\n",
       "    </tr>\n",
       "    <tr>\n",
       "      <th>0.90</th>\n",
       "      <td>0.316</td>\n",
       "      <td>0.401</td>\n",
       "      <td>0.129</td>\n",
       "      <td>20.708</td>\n",
       "    </tr>\n",
       "  </tbody>\n",
       "</table>\n",
       "</div>"
      ],
      "text/plain": [
       "       Corr  Mean Corr  Std Corr  Runtime\n",
       "0.40  0.206     -0.057     0.223   20.131\n",
       "0.45  0.300     -0.019     0.307   20.321\n",
       "0.50  0.300     -0.019     0.307   19.442\n",
       "0.55  0.281     -0.002     0.292   18.509\n",
       "0.60  0.415      0.137     0.390   18.698\n",
       "0.65  0.449      0.256     0.357   18.868\n",
       "0.70  0.369      0.297     0.295   19.167\n",
       "0.75  0.379      0.347     0.319   21.516\n",
       "0.80  0.444      0.551     0.193   18.105\n",
       "0.85  0.364      0.421     0.270   20.356\n",
       "0.90  0.316      0.401     0.129   20.708"
      ]
     },
     "execution_count": 61,
     "metadata": {},
     "output_type": "execute_result"
    }
   ],
   "source": [
    "print('COVERAGE')\n",
    "\n",
    "results = pd.read_csv('investigations/0_human_evaluation/automatic_evaluation/coverage_score_mcargsum_corr.csv', index_col = 0)\n",
    "results.round(3)"
   ]
  },
  {
   "cell_type": "code",
   "execution_count": null,
   "metadata": {},
   "outputs": [
    {
     "data": {
      "text/plain": [
       "19.62"
      ]
     },
     "execution_count": 64,
     "metadata": {},
     "output_type": "execute_result"
    }
   ],
   "source": [
    "results.Runtime.mean().round(3)"
   ]
  },
  {
   "cell_type": "markdown",
   "metadata": {},
   "source": [
    "### LLM Prompting"
   ]
  },
  {
   "cell_type": "code",
   "execution_count": null,
   "metadata": {},
   "outputs": [
    {
     "data": {
      "application/vnd.jupyter.widget-view+json": {
       "model_id": "05ef02d278134766a7fe30a8ffbc334f",
       "version_major": 2,
       "version_minor": 0
      },
      "text/plain": [
       "  0%|          | 0/126 [00:00<?, ?it/s]"
      ]
     },
     "metadata": {},
     "output_type": "display_data"
    },
    {
     "data": {
      "application/vnd.jupyter.widget-view+json": {
       "model_id": "104c2d8714bb4d1eb47a8196d60fafef",
       "version_major": 2,
       "version_minor": 0
      },
      "text/plain": [
       "  0%|          | 0/126 [00:00<?, ?it/s]"
      ]
     },
     "metadata": {},
     "output_type": "display_data"
    },
    {
     "data": {
      "application/vnd.jupyter.widget-view+json": {
       "model_id": "813110791e25422a96e3053854750bf3",
       "version_major": 2,
       "version_minor": 0
      },
      "text/plain": [
       "  0%|          | 0/126 [00:00<?, ?it/s]"
      ]
     },
     "metadata": {},
     "output_type": "display_data"
    },
    {
     "data": {
      "application/vnd.jupyter.widget-view+json": {
       "model_id": "e88946a955324b86a72b656f9ae37248",
       "version_major": 2,
       "version_minor": 0
      },
      "text/plain": [
       "  0%|          | 0/126 [00:00<?, ?it/s]"
      ]
     },
     "metadata": {},
     "output_type": "display_data"
    },
    {
     "data": {
      "application/vnd.jupyter.widget-view+json": {
       "model_id": "fbd82ce9c59c47929de2baccd4504cf0",
       "version_major": 2,
       "version_minor": 0
      },
      "text/plain": [
       "  0%|          | 0/126 [00:00<?, ?it/s]"
      ]
     },
     "metadata": {},
     "output_type": "display_data"
    },
    {
     "data": {
      "application/vnd.jupyter.widget-view+json": {
       "model_id": "4b242e626031421c935dfac1b409c261",
       "version_major": 2,
       "version_minor": 0
      },
      "text/plain": [
       "  0%|          | 0/126 [00:00<?, ?it/s]"
      ]
     },
     "metadata": {},
     "output_type": "display_data"
    },
    {
     "data": {
      "application/vnd.jupyter.widget-view+json": {
       "model_id": "d5f3488880844fecbece3094d1ec57fe",
       "version_major": 2,
       "version_minor": 0
      },
      "text/plain": [
       "  0%|          | 0/126 [00:00<?, ?it/s]"
      ]
     },
     "metadata": {},
     "output_type": "display_data"
    },
    {
     "data": {
      "application/vnd.jupyter.widget-view+json": {
       "model_id": "43dd77b0e4544dafa1268558485df766",
       "version_major": 2,
       "version_minor": 0
      },
      "text/plain": [
       "  0%|          | 0/126 [00:00<?, ?it/s]"
      ]
     },
     "metadata": {},
     "output_type": "display_data"
    },
    {
     "data": {
      "application/vnd.jupyter.widget-view+json": {
       "model_id": "9e43de06895742cb848f952213cc06e0",
       "version_major": 2,
       "version_minor": 0
      },
      "text/plain": [
       "  0%|          | 0/126 [00:00<?, ?it/s]"
      ]
     },
     "metadata": {},
     "output_type": "display_data"
    },
    {
     "data": {
      "application/vnd.jupyter.widget-view+json": {
       "model_id": "fef0bf03ab42456a876f5fcafe12d407",
       "version_major": 2,
       "version_minor": 0
      },
      "text/plain": [
       "  0%|          | 0/126 [00:00<?, ?it/s]"
      ]
     },
     "metadata": {},
     "output_type": "display_data"
    },
    {
     "data": {
      "application/vnd.jupyter.widget-view+json": {
       "model_id": "31e22c514b014b24a6f9f9c0839bb102",
       "version_major": 2,
       "version_minor": 0
      },
      "text/plain": [
       "  0%|          | 0/126 [00:00<?, ?it/s]"
      ]
     },
     "metadata": {},
     "output_type": "display_data"
    },
    {
     "data": {
      "application/vnd.jupyter.widget-view+json": {
       "model_id": "3d424660e0ec4dcbb8bb79465204fc8e",
       "version_major": 2,
       "version_minor": 0
      },
      "text/plain": [
       "  0%|          | 0/126 [00:00<?, ?it/s]"
      ]
     },
     "metadata": {},
     "output_type": "display_data"
    },
    {
     "data": {
      "application/vnd.jupyter.widget-view+json": {
       "model_id": "7c63213c8f224b4587f0cccb6b1fa39a",
       "version_major": 2,
       "version_minor": 0
      },
      "text/plain": [
       "  0%|          | 0/126 [00:00<?, ?it/s]"
      ]
     },
     "metadata": {},
     "output_type": "display_data"
    },
    {
     "data": {
      "application/vnd.jupyter.widget-view+json": {
       "model_id": "b30673c575a84992997e4c554c455514",
       "version_major": 2,
       "version_minor": 0
      },
      "text/plain": [
       "  0%|          | 0/126 [00:00<?, ?it/s]"
      ]
     },
     "metadata": {},
     "output_type": "display_data"
    },
    {
     "data": {
      "application/vnd.jupyter.widget-view+json": {
       "model_id": "29130830370d434e9df21767d6bd7cba",
       "version_major": 2,
       "version_minor": 0
      },
      "text/plain": [
       "  0%|          | 0/126 [00:00<?, ?it/s]"
      ]
     },
     "metadata": {},
     "output_type": "display_data"
    },
    {
     "data": {
      "application/vnd.jupyter.widget-view+json": {
       "model_id": "a36dc9c4f44b4944879b200d7961673c",
       "version_major": 2,
       "version_minor": 0
      },
      "text/plain": [
       "  0%|          | 0/126 [00:00<?, ?it/s]"
      ]
     },
     "metadata": {},
     "output_type": "display_data"
    },
    {
     "data": {
      "application/vnd.jupyter.widget-view+json": {
       "model_id": "5e336646633b4d1c9625fc734ddd2be9",
       "version_major": 2,
       "version_minor": 0
      },
      "text/plain": [
       "  0%|          | 0/126 [00:00<?, ?it/s]"
      ]
     },
     "metadata": {},
     "output_type": "display_data"
    },
    {
     "data": {
      "application/vnd.jupyter.widget-view+json": {
       "model_id": "8a0cd28a2aef43e7a02f4b1290b826a6",
       "version_major": 2,
       "version_minor": 0
      },
      "text/plain": [
       "  0%|          | 0/126 [00:00<?, ?it/s]"
      ]
     },
     "metadata": {},
     "output_type": "display_data"
    }
   ],
   "source": [
    "temp_threshold = [i for i in np.arange(0.2,1.1,0.05)]\n",
    "scores_llm = []\n",
    "runtimes_threshold = []\n",
    "for temp in temp_threshold:\n",
    "    scores_llm_temp = []\n",
    "    runtimes = []\n",
    "    for i in tqdm(range(len(moritz))):\n",
    "        start_time = time()\n",
    "        scores_llm_temp.append(llm_cov_eval(reference = references[i], \n",
    "                                       candidate = candidates[i], \n",
    "                                       topic =  topics[i],\n",
    "                                       stance = stances[i],\n",
    "                                       temperature = temp,\n",
    "                                       include_top_sta = False))\n",
    "        runtimes.append(time() - start_time)\n",
    "    runtimes_threshold.append(runtimes)\n",
    "    scores_llm.append(scores_llm_temp)\n",
    "\n",
    "scores_dict = dict(zip(temp_threshold, scores_llm))\n",
    "with open('investigations/0_human_evaluation/automatic_evaluation' + '/' + 'llm_coverage_score.json', 'w') as file:\n",
    "        json.dump(scores_dict, file)\n",
    "\n",
    "\n",
    "corr = []\n",
    "top_sta_mean_corr = []\n",
    "top_sta_std_corr = []\n",
    "\n",
    "for i in range(len(scores_llm)):\n",
    "    corr_top_sta = []\n",
    "    for j in range(0,126,21):\n",
    "        a = scores_llm[i][j:j+21]\n",
    "        a[-1] += 0.000001\n",
    "        corr_top_sta.append(np.round(np.corrcoef(a, mean_cov[j:j+21])[0][1], 4))\n",
    "    top_sta_mean_corr.append(np.mean(corr_top_sta))\n",
    "    top_sta_std_corr.append(np.std(corr_top_sta))\n",
    "    b = scores_llm[i]\n",
    "    b[-1] += 0.000001\n",
    "\n",
    "    corr.append(np.round(np.corrcoef(b, mean_cov)[0][1], 4))\n",
    "\n",
    "runtimes = np.sum(runtimes_threshold, axis = 1)\n",
    "\n",
    "results = pd.DataFrame({'Corr':corr,\n",
    "                        'Mean Corr':top_sta_mean_corr,\n",
    "                        'Std Corr':top_sta_std_corr,\n",
    "                        'Runtime':runtimes}, index = temp_threshold)\n",
    "\n",
    "results.to_csv('investigations/0_human_evaluation/automatic_evaluation/llm_coverage_score_corr.csv', index = True)"
   ]
  },
  {
   "cell_type": "code",
   "execution_count": null,
   "metadata": {},
   "outputs": [
    {
     "data": {
      "text/html": [
       "<div>\n",
       "<style scoped>\n",
       "    .dataframe tbody tr th:only-of-type {\n",
       "        vertical-align: middle;\n",
       "    }\n",
       "\n",
       "    .dataframe tbody tr th {\n",
       "        vertical-align: top;\n",
       "    }\n",
       "\n",
       "    .dataframe thead th {\n",
       "        text-align: right;\n",
       "    }\n",
       "</style>\n",
       "<table border=\"1\" class=\"dataframe\">\n",
       "  <thead>\n",
       "    <tr style=\"text-align: right;\">\n",
       "      <th></th>\n",
       "      <th>Corr</th>\n",
       "      <th>Mean Corr</th>\n",
       "      <th>Std Corr</th>\n",
       "      <th>Runtime</th>\n",
       "    </tr>\n",
       "  </thead>\n",
       "  <tbody>\n",
       "    <tr>\n",
       "      <th>0.20</th>\n",
       "      <td>0.5521</td>\n",
       "      <td>0.621317</td>\n",
       "      <td>0.088887</td>\n",
       "      <td>217.917576</td>\n",
       "    </tr>\n",
       "    <tr>\n",
       "      <th>0.25</th>\n",
       "      <td>0.5586</td>\n",
       "      <td>0.632233</td>\n",
       "      <td>0.127133</td>\n",
       "      <td>235.175611</td>\n",
       "    </tr>\n",
       "    <tr>\n",
       "      <th>0.30</th>\n",
       "      <td>0.5594</td>\n",
       "      <td>0.636133</td>\n",
       "      <td>0.100104</td>\n",
       "      <td>232.017025</td>\n",
       "    </tr>\n",
       "    <tr>\n",
       "      <th>0.35</th>\n",
       "      <td>0.5116</td>\n",
       "      <td>0.587767</td>\n",
       "      <td>0.090370</td>\n",
       "      <td>240.811886</td>\n",
       "    </tr>\n",
       "    <tr>\n",
       "      <th>0.40</th>\n",
       "      <td>0.5117</td>\n",
       "      <td>0.569967</td>\n",
       "      <td>0.048599</td>\n",
       "      <td>246.813459</td>\n",
       "    </tr>\n",
       "    <tr>\n",
       "      <th>0.45</th>\n",
       "      <td>0.5444</td>\n",
       "      <td>0.608767</td>\n",
       "      <td>0.067811</td>\n",
       "      <td>247.601629</td>\n",
       "    </tr>\n",
       "    <tr>\n",
       "      <th>0.50</th>\n",
       "      <td>0.5237</td>\n",
       "      <td>0.589050</td>\n",
       "      <td>0.062430</td>\n",
       "      <td>256.269258</td>\n",
       "    </tr>\n",
       "    <tr>\n",
       "      <th>0.55</th>\n",
       "      <td>0.5241</td>\n",
       "      <td>0.616133</td>\n",
       "      <td>0.106561</td>\n",
       "      <td>255.448000</td>\n",
       "    </tr>\n",
       "    <tr>\n",
       "      <th>0.60</th>\n",
       "      <td>0.5542</td>\n",
       "      <td>0.637667</td>\n",
       "      <td>0.085504</td>\n",
       "      <td>256.266208</td>\n",
       "    </tr>\n",
       "    <tr>\n",
       "      <th>0.65</th>\n",
       "      <td>0.4908</td>\n",
       "      <td>0.553817</td>\n",
       "      <td>0.081563</td>\n",
       "      <td>256.154716</td>\n",
       "    </tr>\n",
       "    <tr>\n",
       "      <th>0.70</th>\n",
       "      <td>0.5538</td>\n",
       "      <td>0.632750</td>\n",
       "      <td>0.079896</td>\n",
       "      <td>267.201847</td>\n",
       "    </tr>\n",
       "    <tr>\n",
       "      <th>0.75</th>\n",
       "      <td>0.4938</td>\n",
       "      <td>0.576000</td>\n",
       "      <td>0.084577</td>\n",
       "      <td>269.188993</td>\n",
       "    </tr>\n",
       "    <tr>\n",
       "      <th>0.80</th>\n",
       "      <td>0.5120</td>\n",
       "      <td>0.605567</td>\n",
       "      <td>0.094892</td>\n",
       "      <td>262.921108</td>\n",
       "    </tr>\n",
       "    <tr>\n",
       "      <th>0.85</th>\n",
       "      <td>0.5275</td>\n",
       "      <td>0.606367</td>\n",
       "      <td>0.058723</td>\n",
       "      <td>263.754310</td>\n",
       "    </tr>\n",
       "    <tr>\n",
       "      <th>0.90</th>\n",
       "      <td>0.5412</td>\n",
       "      <td>0.632550</td>\n",
       "      <td>0.083794</td>\n",
       "      <td>264.560589</td>\n",
       "    </tr>\n",
       "    <tr>\n",
       "      <th>0.95</th>\n",
       "      <td>0.5166</td>\n",
       "      <td>0.568817</td>\n",
       "      <td>0.124486</td>\n",
       "      <td>268.768498</td>\n",
       "    </tr>\n",
       "    <tr>\n",
       "      <th>1.00</th>\n",
       "      <td>0.5173</td>\n",
       "      <td>0.607567</td>\n",
       "      <td>0.134342</td>\n",
       "      <td>280.234121</td>\n",
       "    </tr>\n",
       "    <tr>\n",
       "      <th>1.05</th>\n",
       "      <td>0.5319</td>\n",
       "      <td>0.616167</td>\n",
       "      <td>0.076479</td>\n",
       "      <td>280.326212</td>\n",
       "    </tr>\n",
       "  </tbody>\n",
       "</table>\n",
       "</div>"
      ],
      "text/plain": [
       "        Corr  Mean Corr  Std Corr     Runtime\n",
       "0.20  0.5521   0.621317  0.088887  217.917576\n",
       "0.25  0.5586   0.632233  0.127133  235.175611\n",
       "0.30  0.5594   0.636133  0.100104  232.017025\n",
       "0.35  0.5116   0.587767  0.090370  240.811886\n",
       "0.40  0.5117   0.569967  0.048599  246.813459\n",
       "0.45  0.5444   0.608767  0.067811  247.601629\n",
       "0.50  0.5237   0.589050  0.062430  256.269258\n",
       "0.55  0.5241   0.616133  0.106561  255.448000\n",
       "0.60  0.5542   0.637667  0.085504  256.266208\n",
       "0.65  0.4908   0.553817  0.081563  256.154716\n",
       "0.70  0.5538   0.632750  0.079896  267.201847\n",
       "0.75  0.4938   0.576000  0.084577  269.188993\n",
       "0.80  0.5120   0.605567  0.094892  262.921108\n",
       "0.85  0.5275   0.606367  0.058723  263.754310\n",
       "0.90  0.5412   0.632550  0.083794  264.560589\n",
       "0.95  0.5166   0.568817  0.124486  268.768498\n",
       "1.00  0.5173   0.607567  0.134342  280.234121\n",
       "1.05  0.5319   0.616167  0.076479  280.326212"
      ]
     },
     "execution_count": 50,
     "metadata": {},
     "output_type": "execute_result"
    }
   ],
   "source": [
    "results = pd.read_csv('investigations/0_human_evaluation/automatic_evaluation/llm_coverage_score_corr.csv', index_col = 0)\n",
    "results"
   ]
  },
  {
   "cell_type": "code",
   "execution_count": null,
   "metadata": {},
   "outputs": [],
   "source": [
    "temp_threshold = [i for i in np.arange(0.2,1.1,0.05)]\n",
    "scores_llm = []\n",
    "runtimes_threshold = []\n",
    "for temp in temp_threshold:\n",
    "    scores_llm_temp = []\n",
    "    runtimes = []\n",
    "    for i in tqdm(range(len(moritz))):\n",
    "        start_time = time()\n",
    "        scores_llm_temp.append(llm_red_eval(candidate = candidates[i], temperature = temp))\n",
    "        runtimes.append(time() - start_time)\n",
    "    runtimes_threshold.append(runtimes)\n",
    "    scores_llm.append(scores_llm_temp)\n",
    "\n",
    "scores_dict = dict(zip(temp_threshold, scores_llm))\n",
    "with open('investigations/0_human_evaluation/automatic_evaluation' + '/' + 'llm_redundancy_score.json', 'w') as file:\n",
    "        json.dump(scores_dict, file)\n",
    "\n",
    "corr = []\n",
    "top_sta_mean_corr = []\n",
    "top_sta_std_corr = []\n",
    "\n",
    "for i in range(len(scores_llm)):\n",
    "    corr_top_sta = []\n",
    "    for j in range(0,126,21):\n",
    "        a = scores_llm[i][j:j+21]\n",
    "        a[-1] += 0.000001\n",
    "        corr_top_sta.append(np.round(np.corrcoef(a, mean_red[j:j+21])[0][1], 4))\n",
    "    top_sta_mean_corr.append(np.mean(corr_top_sta))\n",
    "    top_sta_std_corr.append(np.std(corr_top_sta))\n",
    "    b = scores_llm[i]\n",
    "    b[-1] += 0.000001\n",
    "\n",
    "    corr.append(np.round(np.corrcoef(b, mean_red)[0][1], 4))\n",
    "\n",
    "runtimes = np.sum(runtimes_threshold, axis = 1)\n",
    "\n",
    "results = pd.DataFrame({'Corr':corr,\n",
    "                        'Mean Corr':top_sta_mean_corr,\n",
    "                        'Std Corr':top_sta_std_corr,\n",
    "                        'Runtime':runtimes}, index = temp_threshold)\n",
    "\n",
    "results.to_csv('investigations/0_human_evaluation/automatic_evaluation/llm_redundancy_score_corr.csv', index = True)"
   ]
  },
  {
   "cell_type": "code",
   "execution_count": 559,
   "metadata": {},
   "outputs": [
    {
     "data": {
      "text/html": [
       "<div>\n",
       "<style scoped>\n",
       "    .dataframe tbody tr th:only-of-type {\n",
       "        vertical-align: middle;\n",
       "    }\n",
       "\n",
       "    .dataframe tbody tr th {\n",
       "        vertical-align: top;\n",
       "    }\n",
       "\n",
       "    .dataframe thead th {\n",
       "        text-align: right;\n",
       "    }\n",
       "</style>\n",
       "<table border=\"1\" class=\"dataframe\">\n",
       "  <thead>\n",
       "    <tr style=\"text-align: right;\">\n",
       "      <th></th>\n",
       "      <th>Corr</th>\n",
       "      <th>Mean Corr</th>\n",
       "      <th>Std Corr</th>\n",
       "      <th>Runtime</th>\n",
       "    </tr>\n",
       "  </thead>\n",
       "  <tbody>\n",
       "    <tr>\n",
       "      <th>0.20</th>\n",
       "      <td>0.639</td>\n",
       "      <td>0.627</td>\n",
       "      <td>0.166</td>\n",
       "      <td>256.575</td>\n",
       "    </tr>\n",
       "    <tr>\n",
       "      <th>0.25</th>\n",
       "      <td>0.657</td>\n",
       "      <td>0.637</td>\n",
       "      <td>0.179</td>\n",
       "      <td>255.413</td>\n",
       "    </tr>\n",
       "    <tr>\n",
       "      <th>0.30</th>\n",
       "      <td>0.628</td>\n",
       "      <td>0.615</td>\n",
       "      <td>0.169</td>\n",
       "      <td>260.670</td>\n",
       "    </tr>\n",
       "    <tr>\n",
       "      <th>0.35</th>\n",
       "      <td>0.657</td>\n",
       "      <td>0.612</td>\n",
       "      <td>0.192</td>\n",
       "      <td>254.025</td>\n",
       "    </tr>\n",
       "    <tr>\n",
       "      <th>0.40</th>\n",
       "      <td>0.647</td>\n",
       "      <td>0.629</td>\n",
       "      <td>0.165</td>\n",
       "      <td>265.095</td>\n",
       "    </tr>\n",
       "    <tr>\n",
       "      <th>0.45</th>\n",
       "      <td>0.620</td>\n",
       "      <td>0.605</td>\n",
       "      <td>0.193</td>\n",
       "      <td>272.614</td>\n",
       "    </tr>\n",
       "    <tr>\n",
       "      <th>0.50</th>\n",
       "      <td>0.683</td>\n",
       "      <td>0.660</td>\n",
       "      <td>0.150</td>\n",
       "      <td>271.637</td>\n",
       "    </tr>\n",
       "    <tr>\n",
       "      <th>0.55</th>\n",
       "      <td>0.618</td>\n",
       "      <td>0.598</td>\n",
       "      <td>0.194</td>\n",
       "      <td>282.583</td>\n",
       "    </tr>\n",
       "    <tr>\n",
       "      <th>0.60</th>\n",
       "      <td>0.653</td>\n",
       "      <td>0.637</td>\n",
       "      <td>0.172</td>\n",
       "      <td>293.313</td>\n",
       "    </tr>\n",
       "    <tr>\n",
       "      <th>0.65</th>\n",
       "      <td>0.665</td>\n",
       "      <td>0.639</td>\n",
       "      <td>0.183</td>\n",
       "      <td>286.209</td>\n",
       "    </tr>\n",
       "    <tr>\n",
       "      <th>0.70</th>\n",
       "      <td>0.666</td>\n",
       "      <td>0.642</td>\n",
       "      <td>0.201</td>\n",
       "      <td>281.762</td>\n",
       "    </tr>\n",
       "    <tr>\n",
       "      <th>0.75</th>\n",
       "      <td>0.680</td>\n",
       "      <td>0.671</td>\n",
       "      <td>0.156</td>\n",
       "      <td>290.775</td>\n",
       "    </tr>\n",
       "    <tr>\n",
       "      <th>0.80</th>\n",
       "      <td>0.672</td>\n",
       "      <td>0.647</td>\n",
       "      <td>0.176</td>\n",
       "      <td>288.214</td>\n",
       "    </tr>\n",
       "    <tr>\n",
       "      <th>0.85</th>\n",
       "      <td>0.675</td>\n",
       "      <td>0.665</td>\n",
       "      <td>0.166</td>\n",
       "      <td>289.556</td>\n",
       "    </tr>\n",
       "    <tr>\n",
       "      <th>0.90</th>\n",
       "      <td>0.666</td>\n",
       "      <td>0.642</td>\n",
       "      <td>0.176</td>\n",
       "      <td>290.882</td>\n",
       "    </tr>\n",
       "    <tr>\n",
       "      <th>0.95</th>\n",
       "      <td>0.672</td>\n",
       "      <td>0.651</td>\n",
       "      <td>0.198</td>\n",
       "      <td>295.489</td>\n",
       "    </tr>\n",
       "    <tr>\n",
       "      <th>1.00</th>\n",
       "      <td>0.661</td>\n",
       "      <td>0.665</td>\n",
       "      <td>0.154</td>\n",
       "      <td>306.046</td>\n",
       "    </tr>\n",
       "    <tr>\n",
       "      <th>1.05</th>\n",
       "      <td>0.669</td>\n",
       "      <td>0.653</td>\n",
       "      <td>0.202</td>\n",
       "      <td>296.100</td>\n",
       "    </tr>\n",
       "  </tbody>\n",
       "</table>\n",
       "</div>"
      ],
      "text/plain": [
       "       Corr  Mean Corr  Std Corr  Runtime\n",
       "0.20  0.639      0.627     0.166  256.575\n",
       "0.25  0.657      0.637     0.179  255.413\n",
       "0.30  0.628      0.615     0.169  260.670\n",
       "0.35  0.657      0.612     0.192  254.025\n",
       "0.40  0.647      0.629     0.165  265.095\n",
       "0.45  0.620      0.605     0.193  272.614\n",
       "0.50  0.683      0.660     0.150  271.637\n",
       "0.55  0.618      0.598     0.194  282.583\n",
       "0.60  0.653      0.637     0.172  293.313\n",
       "0.65  0.665      0.639     0.183  286.209\n",
       "0.70  0.666      0.642     0.201  281.762\n",
       "0.75  0.680      0.671     0.156  290.775\n",
       "0.80  0.672      0.647     0.176  288.214\n",
       "0.85  0.675      0.665     0.166  289.556\n",
       "0.90  0.666      0.642     0.176  290.882\n",
       "0.95  0.672      0.651     0.198  295.489\n",
       "1.00  0.661      0.665     0.154  306.046\n",
       "1.05  0.669      0.653     0.202  296.100"
      ]
     },
     "execution_count": 559,
     "metadata": {},
     "output_type": "execute_result"
    }
   ],
   "source": [
    "results = pd.read_csv('investigations/0_human_evaluation_argkp21/automatic_evaluation/llm_redundancy_score_corr.csv', index_col = 0)\n",
    "results.round(3)"
   ]
  },
  {
   "cell_type": "code",
   "execution_count": null,
   "metadata": {},
   "outputs": [
    {
     "name": "stdout",
     "output_type": "stream",
     "text": [
      "COVERAGE\n"
     ]
    },
    {
     "data": {
      "text/html": [
       "<div>\n",
       "<style scoped>\n",
       "    .dataframe tbody tr th:only-of-type {\n",
       "        vertical-align: middle;\n",
       "    }\n",
       "\n",
       "    .dataframe tbody tr th {\n",
       "        vertical-align: top;\n",
       "    }\n",
       "\n",
       "    .dataframe thead th {\n",
       "        text-align: right;\n",
       "    }\n",
       "</style>\n",
       "<table border=\"1\" class=\"dataframe\">\n",
       "  <thead>\n",
       "    <tr style=\"text-align: right;\">\n",
       "      <th></th>\n",
       "      <th>Corr</th>\n",
       "      <th>Mean Corr</th>\n",
       "      <th>Std Corr</th>\n",
       "    </tr>\n",
       "  </thead>\n",
       "  <tbody>\n",
       "    <tr>\n",
       "      <th>0</th>\n",
       "      <td>0.6756</td>\n",
       "      <td>0.6696</td>\n",
       "      <td>0.178008</td>\n",
       "    </tr>\n",
       "  </tbody>\n",
       "</table>\n",
       "</div>"
      ],
      "text/plain": [
       "     Corr  Mean Corr  Std Corr\n",
       "0  0.6756     0.6696  0.178008"
      ]
     },
     "execution_count": 37,
     "metadata": {},
     "output_type": "execute_result"
    }
   ],
   "source": [
    "corr = []\n",
    "top_sta_mean_corr = []\n",
    "top_sta_std_corr = []\n",
    "\n",
    "corr_top_sta = []\n",
    "\n",
    "scores_llm_5 = [[i[0] for i in scores_llm]]\n",
    "for k in range(0,1):\n",
    "    for j in range(0,84,21):\n",
    "        corr_top_sta.append(np.round(np.corrcoef(scores_llm_5[k][j:j+21], np.mean([benjamin_red, johannes_red, steffen_red, moritz_red], axis = 0)[j:j+21])[0][1], 4))\n",
    "    top_sta_mean_corr.append(np.mean(corr_top_sta))\n",
    "    top_sta_std_corr.append(np.std(corr_top_sta))\n",
    "    corr.append(np.round(np.corrcoef(scores_llm_5[k], np.mean([benjamin_red, johannes_red, steffen_red, moritz_red], axis = 0))[0][1], 4))\n",
    "\n",
    "print('COVERAGE')\n",
    "pd.DataFrame({'Corr':corr,\n",
    "              'Mean Corr':top_sta_mean_corr,\n",
    "              'Std Corr':top_sta_std_corr})"
   ]
  },
  {
   "cell_type": "code",
   "execution_count": null,
   "metadata": {},
   "outputs": [
    {
     "data": {
      "image/png": "[encoded data removed]",
      "text/plain": [
       "<Figure size 640x480 with 1 Axes>"
      ]
     },
     "metadata": {},
     "output_type": "display_data"
    }
   ],
   "source": [
    "i = 0\n",
    "for i in range(0,84,21):\n",
    "    plt.scatter(np.mean([benjamin_red, johannes_red, steffen_red, moritz_red], axis = 0)[i:i+21], np.mean(scores_llm_5, axis = 0)[i:i+21], label = f'{i}')\n",
    "plt.xlabel('Human')\n",
    "plt.ylabel('Match Scores Eval')\n",
    "plt.legend(loc='upper center', bbox_to_anchor=(0.5, -0.12), ncol = 2)\n",
    "plt.grid()\n",
    "plt.show()"
   ]
  }
 ],
 "metadata": {
  "kernelspec": {
   "display_name": "AM",
   "language": "python",
   "name": "python3"
  },
  "language_info": {
   "codemirror_mode": {
    "name": "ipython",
    "version": 3
   },
   "file_extension": ".py",
   "mimetype": "text/x-python",
   "name": "python",
   "nbconvert_exporter": "python",
   "pygments_lexer": "ipython3",
   "version": "3.8.18"
  }
 },
 "nbformat": 4,
 "nbformat_minor": 2
}
